{
 "cells": [
  {
   "cell_type": "code",
   "execution_count": 1,
   "id": "a4a242ec",
   "metadata": {},
   "outputs": [],
   "source": [
    "import pandas as pd\n",
    "import numpy as np\n",
    "from imblearn.over_sampling import SMOTE\n",
    "from sklearn.model_selection import train_test_split\n",
    "from sklearn.ensemble import RandomForestClassifier\n",
    "from sklearn.metrics import accuracy_score, classification_report, confusion_matrix, mean_squared_error"
   ]
  },
  {
   "cell_type": "markdown",
   "id": "d54004be",
   "metadata": {},
   "source": [
    "Loading data: Since I have several csv files I have to load them into pandas dfs and then concatenate them."
   ]
  },
  {
   "cell_type": "code",
   "execution_count": 2,
   "id": "27941594",
   "metadata": {},
   "outputs": [],
   "source": [
    "# Loading the data\n",
    "hiv_data = pd.read_csv(\"hiv_data.csv\")"
   ]
  },
  {
   "cell_type": "code",
   "execution_count": 3,
   "id": "50f28d6a",
   "metadata": {},
   "outputs": [
    {
     "data": {
      "text/html": [
       "<div>\n",
       "<style scoped>\n",
       "    .dataframe tbody tr th:only-of-type {\n",
       "        vertical-align: middle;\n",
       "    }\n",
       "\n",
       "    .dataframe tbody tr th {\n",
       "        vertical-align: top;\n",
       "    }\n",
       "\n",
       "    .dataframe thead th {\n",
       "        text-align: right;\n",
       "    }\n",
       "</style>\n",
       "<table border=\"1\" class=\"dataframe\">\n",
       "  <thead>\n",
       "    <tr style=\"text-align: right;\">\n",
       "      <th></th>\n",
       "      <th>gender</th>\n",
       "      <th>age</th>\n",
       "      <th>occupation</th>\n",
       "      <th>partner_count</th>\n",
       "      <th>condom_use_last_month</th>\n",
       "      <th>location</th>\n",
       "      <th>marital_status</th>\n",
       "      <th>educational_level</th>\n",
       "      <th>awareness_of_hiv</th>\n",
       "      <th>sex_last_month</th>\n",
       "      <th>drug_use</th>\n",
       "      <th>std_last_year</th>\n",
       "      <th>commercial_sex_last_year</th>\n",
       "      <th>hiv_test_last_year</th>\n",
       "      <th>hiv_test_result</th>\n",
       "    </tr>\n",
       "  </thead>\n",
       "  <tbody>\n",
       "    <tr>\n",
       "      <th>0</th>\n",
       "      <td>M</td>\n",
       "      <td>3(29-40)</td>\n",
       "      <td>healthcare worker</td>\n",
       "      <td>1</td>\n",
       "      <td>no</td>\n",
       "      <td>Tashkent city</td>\n",
       "      <td>married</td>\n",
       "      <td>college or above</td>\n",
       "      <td>yes</td>\n",
       "      <td>yes</td>\n",
       "      <td>no</td>\n",
       "      <td>no</td>\n",
       "      <td>no</td>\n",
       "      <td>yes</td>\n",
       "      <td>0</td>\n",
       "    </tr>\n",
       "    <tr>\n",
       "      <th>1</th>\n",
       "      <td>M</td>\n",
       "      <td>3(29-40)</td>\n",
       "      <td>healthcare worker</td>\n",
       "      <td>1</td>\n",
       "      <td>no</td>\n",
       "      <td>Namangan region</td>\n",
       "      <td>divorced or widowed</td>\n",
       "      <td>college or above</td>\n",
       "      <td>no</td>\n",
       "      <td>no</td>\n",
       "      <td>no</td>\n",
       "      <td>no</td>\n",
       "      <td>no</td>\n",
       "      <td>no</td>\n",
       "      <td>0</td>\n",
       "    </tr>\n",
       "    <tr>\n",
       "      <th>2</th>\n",
       "      <td>F</td>\n",
       "      <td>2(18-28)</td>\n",
       "      <td>other</td>\n",
       "      <td>1</td>\n",
       "      <td>no</td>\n",
       "      <td>Surkhandarya region</td>\n",
       "      <td>married</td>\n",
       "      <td>high school or lyceum</td>\n",
       "      <td>yes</td>\n",
       "      <td>no</td>\n",
       "      <td>no</td>\n",
       "      <td>no</td>\n",
       "      <td>no</td>\n",
       "      <td>yes</td>\n",
       "      <td>0</td>\n",
       "    </tr>\n",
       "    <tr>\n",
       "      <th>3</th>\n",
       "      <td>F</td>\n",
       "      <td>3(29-40)</td>\n",
       "      <td>healthcare worker</td>\n",
       "      <td>1</td>\n",
       "      <td>no</td>\n",
       "      <td>Syrdarya region</td>\n",
       "      <td>married</td>\n",
       "      <td>college or above</td>\n",
       "      <td>yes</td>\n",
       "      <td>yes</td>\n",
       "      <td>no</td>\n",
       "      <td>no</td>\n",
       "      <td>no</td>\n",
       "      <td>yes</td>\n",
       "      <td>0</td>\n",
       "    </tr>\n",
       "    <tr>\n",
       "      <th>4</th>\n",
       "      <td>M</td>\n",
       "      <td>2(18-28)</td>\n",
       "      <td>other</td>\n",
       "      <td>1</td>\n",
       "      <td>no</td>\n",
       "      <td>Bukhara region</td>\n",
       "      <td>married</td>\n",
       "      <td>high school or lyceum</td>\n",
       "      <td>yes</td>\n",
       "      <td>yes</td>\n",
       "      <td>no</td>\n",
       "      <td>no</td>\n",
       "      <td>no</td>\n",
       "      <td>no</td>\n",
       "      <td>0</td>\n",
       "    </tr>\n",
       "  </tbody>\n",
       "</table>\n",
       "</div>"
      ],
      "text/plain": [
       "  gender       age         occupation  partner_count condom_use_last_month  \\\n",
       "0      M  3(29-40)  healthcare worker              1                    no   \n",
       "1      M  3(29-40)  healthcare worker              1                    no   \n",
       "2      F  2(18-28)              other              1                    no   \n",
       "3      F  3(29-40)  healthcare worker              1                    no   \n",
       "4      M  2(18-28)              other              1                    no   \n",
       "\n",
       "              location       marital_status      educational_level  \\\n",
       "0        Tashkent city              married       college or above   \n",
       "1      Namangan region  divorced or widowed       college or above   \n",
       "2  Surkhandarya region              married  high school or lyceum   \n",
       "3      Syrdarya region              married       college or above   \n",
       "4       Bukhara region              married  high school or lyceum   \n",
       "\n",
       "  awareness_of_hiv sex_last_month drug_use std_last_year  \\\n",
       "0              yes            yes       no            no   \n",
       "1               no             no       no            no   \n",
       "2              yes             no       no            no   \n",
       "3              yes            yes       no            no   \n",
       "4              yes            yes       no            no   \n",
       "\n",
       "  commercial_sex_last_year hiv_test_last_year  hiv_test_result  \n",
       "0                       no                yes                0  \n",
       "1                       no                 no                0  \n",
       "2                       no                yes                0  \n",
       "3                       no                yes                0  \n",
       "4                       no                 no                0  "
      ]
     },
     "execution_count": 3,
     "metadata": {},
     "output_type": "execute_result"
    }
   ],
   "source": [
    "# Load top of the HIV data as well as info\n",
    "hiv_data.head()"
   ]
  },
  {
   "cell_type": "code",
   "execution_count": 4,
   "id": "7ab6d8cf",
   "metadata": {},
   "outputs": [
    {
     "name": "stdout",
     "output_type": "stream",
     "text": [
      "<class 'pandas.core.frame.DataFrame'>\n",
      "RangeIndex: 9978 entries, 0 to 9977\n",
      "Data columns (total 15 columns):\n",
      " #   Column                    Non-Null Count  Dtype \n",
      "---  ------                    --------------  ----- \n",
      " 0   gender                    9978 non-null   object\n",
      " 1   age                       9978 non-null   object\n",
      " 2   occupation                9978 non-null   object\n",
      " 3   partner_count             9978 non-null   int64 \n",
      " 4   condom_use_last_month     9978 non-null   object\n",
      " 5   location                  9978 non-null   object\n",
      " 6   marital_status            9978 non-null   object\n",
      " 7   educational_level         9978 non-null   object\n",
      " 8   awareness_of_hiv          9978 non-null   object\n",
      " 9   sex_last_month            9978 non-null   object\n",
      " 10  drug_use                  9978 non-null   object\n",
      " 11  std_last_year             9978 non-null   object\n",
      " 12  commercial_sex_last_year  9978 non-null   object\n",
      " 13  hiv_test_last_year        9978 non-null   object\n",
      " 14  hiv_test_result           9978 non-null   int64 \n",
      "dtypes: int64(2), object(13)\n",
      "memory usage: 1.1+ MB\n"
     ]
    }
   ],
   "source": [
    "hiv_data.info()"
   ]
  },
  {
   "cell_type": "code",
   "execution_count": 5,
   "id": "26abb514",
   "metadata": {},
   "outputs": [
    {
     "name": "stdout",
     "output_type": "stream",
     "text": [
      "Value counts for gender:\n",
      "M    5540\n",
      "F    4438\n",
      "Name: gender, dtype: int64\n",
      "\n",
      "\n",
      "Value counts for age:\n",
      "2(18-28)    5138\n",
      "3(29-40)    4058\n",
      "4(41-48)     687\n",
      "1(15-17)      57\n",
      "6(56-65)      20\n",
      "7(>66)         9\n",
      "5(49-55)       9\n",
      "Name: age, dtype: int64\n",
      "\n",
      "\n",
      "Value counts for occupation:\n",
      "other                4108\n",
      "healthcare worker    3369\n",
      "unemployed           1692\n",
      "sex worker            809\n",
      "Name: occupation, dtype: int64\n",
      "\n",
      "\n",
      "Value counts for condom_use_last_month:\n",
      "no       9451\n",
      "yes       272\n",
      "other     255\n",
      "Name: condom_use_last_month, dtype: int64\n",
      "\n",
      "\n",
      "Value counts for location:\n",
      "Tashkent city                 1545\n",
      "Tashkent region               1276\n",
      "Syrdarya region               1177\n",
      "Khorezm region                 905\n",
      "Andijan region                 862\n",
      "Samarkand region               671\n",
      "Ferghana region                651\n",
      "Surkhandarya region            577\n",
      "Jizzakh region                 503\n",
      "Namangan region                479\n",
      "Bukhara region                 439\n",
      "Kashkadarya region             301\n",
      "Republic of Karakalpakstan     300\n",
      "Navoi region                   292\n",
      "Name: location, dtype: int64\n",
      "\n",
      "\n",
      "Value counts for marital_status:\n",
      "married                6322\n",
      "divorced or widowed    2248\n",
      "cohabitation            941\n",
      "unmarried               467\n",
      "Name: marital_status, dtype: int64\n",
      "\n",
      "\n",
      "Value counts for educational_level:\n",
      "college or above         7019\n",
      "high school or lyceum    2340\n",
      "middle school             545\n",
      "primary school             55\n",
      "Illiterate                 19\n",
      "Name: educational_level, dtype: int64\n",
      "\n",
      "\n",
      "Value counts for awareness_of_hiv:\n",
      "yes    8524\n",
      "no     1454\n",
      "Name: awareness_of_hiv, dtype: int64\n",
      "\n",
      "\n",
      "Value counts for sex_last_month:\n",
      "no     6289\n",
      "yes    3689\n",
      "Name: sex_last_month, dtype: int64\n",
      "\n",
      "\n",
      "Value counts for drug_use:\n",
      "no     9442\n",
      "yes     536\n",
      "Name: drug_use, dtype: int64\n",
      "\n",
      "\n",
      "Value counts for std_last_year:\n",
      "no     9267\n",
      "yes     711\n",
      "Name: std_last_year, dtype: int64\n",
      "\n",
      "\n",
      "Value counts for commercial_sex_last_year:\n",
      "no     8924\n",
      "yes    1054\n",
      "Name: commercial_sex_last_year, dtype: int64\n",
      "\n",
      "\n",
      "Value counts for hiv_test_last_year:\n",
      "no     5731\n",
      "yes    4247\n",
      "Name: hiv_test_last_year, dtype: int64\n",
      "\n",
      "\n"
     ]
    }
   ],
   "source": [
    "# Get all columns with categorical data\n",
    "cat_columns = hiv_data.select_dtypes(include=['object']).columns\n",
    "\n",
    "# Loop through each categorical column and print value counts\n",
    "for column in cat_columns:\n",
    "    print(f\"Value counts for {column}:\")\n",
    "    print(hiv_data[column].value_counts())\n",
    "    print(\"\\n\")"
   ]
  },
  {
   "cell_type": "code",
   "execution_count": 6,
   "id": "c7c18211",
   "metadata": {},
   "outputs": [
    {
     "name": "stdout",
     "output_type": "stream",
     "text": [
      "Value counts for partner_count:\n",
      "1    8665\n",
      "3     570\n",
      "2     298\n",
      "4     244\n",
      "0     104\n",
      "5      97\n",
      "Name: partner_count, dtype: int64\n",
      "\n",
      "\n",
      "Value counts for hiv_test_result:\n",
      "0    7693\n",
      "1    2285\n",
      "Name: hiv_test_result, dtype: int64\n",
      "\n",
      "\n"
     ]
    }
   ],
   "source": [
    "# Get all columns with numerical data\n",
    "num_columns = hiv_data.select_dtypes(include=['int64']).columns\n",
    "\n",
    "# Loop through each categorical column and print value counts\n",
    "for column in num_columns:\n",
    "    print(f\"Value counts for {column}:\")\n",
    "    print(hiv_data[column].value_counts())\n",
    "    print(\"\\n\")"
   ]
  },
  {
   "cell_type": "markdown",
   "id": "bfca17d8",
   "metadata": {},
   "source": [
    "## Data cleaning"
   ]
  },
  {
   "cell_type": "markdown",
   "id": "ef4587ba",
   "metadata": {},
   "source": [
    "First, we check for duplicates:"
   ]
  },
  {
   "cell_type": "code",
   "execution_count": 7,
   "id": "2b64b3bf",
   "metadata": {},
   "outputs": [
    {
     "data": {
      "text/plain": [
       "0    3301\n",
       "1     332\n",
       "Name: hiv_test_result, dtype: int64"
      ]
     },
     "execution_count": 7,
     "metadata": {},
     "output_type": "execute_result"
    }
   ],
   "source": [
    "duplicates = hiv_data[hiv_data.duplicated()]\n",
    "duplicates[\"hiv_test_result\"].value_counts()"
   ]
  },
  {
   "cell_type": "markdown",
   "id": "9dccce8a",
   "metadata": {},
   "source": [
    "As can be seen the number of hiv negative test result duplicates is a 10 times more than then number of hiv positive test result duplicates. This makes it possible to simply remove all the duplicates in the test survey as it will imporve the balance in the hiv test result class, which is currently very imbalanced."
   ]
  },
  {
   "cell_type": "code",
   "execution_count": 8,
   "id": "f3b50481",
   "metadata": {},
   "outputs": [],
   "source": [
    "hiv_data_no_dupls = hiv_data.drop_duplicates().reset_index(drop=True)"
   ]
  },
  {
   "cell_type": "markdown",
   "id": "bdcb9017",
   "metadata": {},
   "source": [
    "## Data processing"
   ]
  },
  {
   "cell_type": "markdown",
   "id": "b49b87ce",
   "metadata": {},
   "source": [
    "Based on the output of value counts for categorical data, we can convert a few variables into binary variables. We start with gender that we convert into binary variable (M to 1, F to 0)."
   ]
  },
  {
   "cell_type": "code",
   "execution_count": 9,
   "id": "20f56328",
   "metadata": {},
   "outputs": [
    {
     "data": {
      "text/html": [
       "<div>\n",
       "<style scoped>\n",
       "    .dataframe tbody tr th:only-of-type {\n",
       "        vertical-align: middle;\n",
       "    }\n",
       "\n",
       "    .dataframe tbody tr th {\n",
       "        vertical-align: top;\n",
       "    }\n",
       "\n",
       "    .dataframe thead th {\n",
       "        text-align: right;\n",
       "    }\n",
       "</style>\n",
       "<table border=\"1\" class=\"dataframe\">\n",
       "  <thead>\n",
       "    <tr style=\"text-align: right;\">\n",
       "      <th></th>\n",
       "      <th>gender</th>\n",
       "      <th>age</th>\n",
       "      <th>occupation</th>\n",
       "      <th>partner_count</th>\n",
       "      <th>condom_use_last_month</th>\n",
       "      <th>location</th>\n",
       "      <th>marital_status</th>\n",
       "      <th>educational_level</th>\n",
       "      <th>awareness_of_hiv</th>\n",
       "      <th>sex_last_month</th>\n",
       "      <th>drug_use</th>\n",
       "      <th>std_last_year</th>\n",
       "      <th>commercial_sex_last_year</th>\n",
       "      <th>hiv_test_last_year</th>\n",
       "      <th>hiv_test_result</th>\n",
       "    </tr>\n",
       "  </thead>\n",
       "  <tbody>\n",
       "    <tr>\n",
       "      <th>0</th>\n",
       "      <td>1</td>\n",
       "      <td>3(29-40)</td>\n",
       "      <td>healthcare worker</td>\n",
       "      <td>1</td>\n",
       "      <td>no</td>\n",
       "      <td>Tashkent city</td>\n",
       "      <td>married</td>\n",
       "      <td>college or above</td>\n",
       "      <td>yes</td>\n",
       "      <td>yes</td>\n",
       "      <td>no</td>\n",
       "      <td>no</td>\n",
       "      <td>no</td>\n",
       "      <td>yes</td>\n",
       "      <td>0</td>\n",
       "    </tr>\n",
       "    <tr>\n",
       "      <th>1</th>\n",
       "      <td>1</td>\n",
       "      <td>3(29-40)</td>\n",
       "      <td>healthcare worker</td>\n",
       "      <td>1</td>\n",
       "      <td>no</td>\n",
       "      <td>Namangan region</td>\n",
       "      <td>divorced or widowed</td>\n",
       "      <td>college or above</td>\n",
       "      <td>no</td>\n",
       "      <td>no</td>\n",
       "      <td>no</td>\n",
       "      <td>no</td>\n",
       "      <td>no</td>\n",
       "      <td>no</td>\n",
       "      <td>0</td>\n",
       "    </tr>\n",
       "    <tr>\n",
       "      <th>2</th>\n",
       "      <td>0</td>\n",
       "      <td>2(18-28)</td>\n",
       "      <td>other</td>\n",
       "      <td>1</td>\n",
       "      <td>no</td>\n",
       "      <td>Surkhandarya region</td>\n",
       "      <td>married</td>\n",
       "      <td>high school or lyceum</td>\n",
       "      <td>yes</td>\n",
       "      <td>no</td>\n",
       "      <td>no</td>\n",
       "      <td>no</td>\n",
       "      <td>no</td>\n",
       "      <td>yes</td>\n",
       "      <td>0</td>\n",
       "    </tr>\n",
       "    <tr>\n",
       "      <th>3</th>\n",
       "      <td>0</td>\n",
       "      <td>3(29-40)</td>\n",
       "      <td>healthcare worker</td>\n",
       "      <td>1</td>\n",
       "      <td>no</td>\n",
       "      <td>Syrdarya region</td>\n",
       "      <td>married</td>\n",
       "      <td>college or above</td>\n",
       "      <td>yes</td>\n",
       "      <td>yes</td>\n",
       "      <td>no</td>\n",
       "      <td>no</td>\n",
       "      <td>no</td>\n",
       "      <td>yes</td>\n",
       "      <td>0</td>\n",
       "    </tr>\n",
       "    <tr>\n",
       "      <th>4</th>\n",
       "      <td>1</td>\n",
       "      <td>2(18-28)</td>\n",
       "      <td>other</td>\n",
       "      <td>1</td>\n",
       "      <td>no</td>\n",
       "      <td>Bukhara region</td>\n",
       "      <td>married</td>\n",
       "      <td>high school or lyceum</td>\n",
       "      <td>yes</td>\n",
       "      <td>yes</td>\n",
       "      <td>no</td>\n",
       "      <td>no</td>\n",
       "      <td>no</td>\n",
       "      <td>no</td>\n",
       "      <td>0</td>\n",
       "    </tr>\n",
       "  </tbody>\n",
       "</table>\n",
       "</div>"
      ],
      "text/plain": [
       "   gender       age         occupation  partner_count condom_use_last_month  \\\n",
       "0       1  3(29-40)  healthcare worker              1                    no   \n",
       "1       1  3(29-40)  healthcare worker              1                    no   \n",
       "2       0  2(18-28)              other              1                    no   \n",
       "3       0  3(29-40)  healthcare worker              1                    no   \n",
       "4       1  2(18-28)              other              1                    no   \n",
       "\n",
       "              location       marital_status      educational_level  \\\n",
       "0        Tashkent city              married       college or above   \n",
       "1      Namangan region  divorced or widowed       college or above   \n",
       "2  Surkhandarya region              married  high school or lyceum   \n",
       "3      Syrdarya region              married       college or above   \n",
       "4       Bukhara region              married  high school or lyceum   \n",
       "\n",
       "  awareness_of_hiv sex_last_month drug_use std_last_year  \\\n",
       "0              yes            yes       no            no   \n",
       "1               no             no       no            no   \n",
       "2              yes             no       no            no   \n",
       "3              yes            yes       no            no   \n",
       "4              yes            yes       no            no   \n",
       "\n",
       "  commercial_sex_last_year hiv_test_last_year  hiv_test_result  \n",
       "0                       no                yes                0  \n",
       "1                       no                 no                0  \n",
       "2                       no                yes                0  \n",
       "3                       no                yes                0  \n",
       "4                       no                 no                0  "
      ]
     },
     "execution_count": 9,
     "metadata": {},
     "output_type": "execute_result"
    }
   ],
   "source": [
    "hiv_data_no_dupls['gender'].replace(to_replace=['M','F'], value=[1,0],inplace=True)\n",
    "hiv_data_no_dupls.head()"
   ]
  },
  {
   "cell_type": "markdown",
   "id": "daf23e87",
   "metadata": {},
   "source": [
    "We do the same for awareness_of_hiv, sex_last_month, drug_use, std_last_year, commercial_sex_last_year and hiv_test_last_year, where we replace 'yes' with 1, 'no' with 0."
   ]
  },
  {
   "cell_type": "code",
   "execution_count": 10,
   "id": "ee29724f",
   "metadata": {},
   "outputs": [
    {
     "data": {
      "text/html": [
       "<div>\n",
       "<style scoped>\n",
       "    .dataframe tbody tr th:only-of-type {\n",
       "        vertical-align: middle;\n",
       "    }\n",
       "\n",
       "    .dataframe tbody tr th {\n",
       "        vertical-align: top;\n",
       "    }\n",
       "\n",
       "    .dataframe thead th {\n",
       "        text-align: right;\n",
       "    }\n",
       "</style>\n",
       "<table border=\"1\" class=\"dataframe\">\n",
       "  <thead>\n",
       "    <tr style=\"text-align: right;\">\n",
       "      <th></th>\n",
       "      <th>gender</th>\n",
       "      <th>age</th>\n",
       "      <th>occupation</th>\n",
       "      <th>partner_count</th>\n",
       "      <th>condom_use_last_month</th>\n",
       "      <th>location</th>\n",
       "      <th>marital_status</th>\n",
       "      <th>educational_level</th>\n",
       "      <th>awareness_of_hiv</th>\n",
       "      <th>sex_last_month</th>\n",
       "      <th>drug_use</th>\n",
       "      <th>std_last_year</th>\n",
       "      <th>commercial_sex_last_year</th>\n",
       "      <th>hiv_test_last_year</th>\n",
       "      <th>hiv_test_result</th>\n",
       "    </tr>\n",
       "  </thead>\n",
       "  <tbody>\n",
       "    <tr>\n",
       "      <th>0</th>\n",
       "      <td>1</td>\n",
       "      <td>3(29-40)</td>\n",
       "      <td>healthcare worker</td>\n",
       "      <td>1</td>\n",
       "      <td>no</td>\n",
       "      <td>Tashkent city</td>\n",
       "      <td>married</td>\n",
       "      <td>college or above</td>\n",
       "      <td>1</td>\n",
       "      <td>1</td>\n",
       "      <td>0</td>\n",
       "      <td>0</td>\n",
       "      <td>0</td>\n",
       "      <td>1</td>\n",
       "      <td>0</td>\n",
       "    </tr>\n",
       "    <tr>\n",
       "      <th>1</th>\n",
       "      <td>1</td>\n",
       "      <td>3(29-40)</td>\n",
       "      <td>healthcare worker</td>\n",
       "      <td>1</td>\n",
       "      <td>no</td>\n",
       "      <td>Namangan region</td>\n",
       "      <td>divorced or widowed</td>\n",
       "      <td>college or above</td>\n",
       "      <td>0</td>\n",
       "      <td>0</td>\n",
       "      <td>0</td>\n",
       "      <td>0</td>\n",
       "      <td>0</td>\n",
       "      <td>0</td>\n",
       "      <td>0</td>\n",
       "    </tr>\n",
       "    <tr>\n",
       "      <th>2</th>\n",
       "      <td>0</td>\n",
       "      <td>2(18-28)</td>\n",
       "      <td>other</td>\n",
       "      <td>1</td>\n",
       "      <td>no</td>\n",
       "      <td>Surkhandarya region</td>\n",
       "      <td>married</td>\n",
       "      <td>high school or lyceum</td>\n",
       "      <td>1</td>\n",
       "      <td>0</td>\n",
       "      <td>0</td>\n",
       "      <td>0</td>\n",
       "      <td>0</td>\n",
       "      <td>1</td>\n",
       "      <td>0</td>\n",
       "    </tr>\n",
       "    <tr>\n",
       "      <th>3</th>\n",
       "      <td>0</td>\n",
       "      <td>3(29-40)</td>\n",
       "      <td>healthcare worker</td>\n",
       "      <td>1</td>\n",
       "      <td>no</td>\n",
       "      <td>Syrdarya region</td>\n",
       "      <td>married</td>\n",
       "      <td>college or above</td>\n",
       "      <td>1</td>\n",
       "      <td>1</td>\n",
       "      <td>0</td>\n",
       "      <td>0</td>\n",
       "      <td>0</td>\n",
       "      <td>1</td>\n",
       "      <td>0</td>\n",
       "    </tr>\n",
       "    <tr>\n",
       "      <th>4</th>\n",
       "      <td>1</td>\n",
       "      <td>2(18-28)</td>\n",
       "      <td>other</td>\n",
       "      <td>1</td>\n",
       "      <td>no</td>\n",
       "      <td>Bukhara region</td>\n",
       "      <td>married</td>\n",
       "      <td>high school or lyceum</td>\n",
       "      <td>1</td>\n",
       "      <td>1</td>\n",
       "      <td>0</td>\n",
       "      <td>0</td>\n",
       "      <td>0</td>\n",
       "      <td>0</td>\n",
       "      <td>0</td>\n",
       "    </tr>\n",
       "  </tbody>\n",
       "</table>\n",
       "</div>"
      ],
      "text/plain": [
       "   gender       age         occupation  partner_count condom_use_last_month  \\\n",
       "0       1  3(29-40)  healthcare worker              1                    no   \n",
       "1       1  3(29-40)  healthcare worker              1                    no   \n",
       "2       0  2(18-28)              other              1                    no   \n",
       "3       0  3(29-40)  healthcare worker              1                    no   \n",
       "4       1  2(18-28)              other              1                    no   \n",
       "\n",
       "              location       marital_status      educational_level  \\\n",
       "0        Tashkent city              married       college or above   \n",
       "1      Namangan region  divorced or widowed       college or above   \n",
       "2  Surkhandarya region              married  high school or lyceum   \n",
       "3      Syrdarya region              married       college or above   \n",
       "4       Bukhara region              married  high school or lyceum   \n",
       "\n",
       "   awareness_of_hiv  sex_last_month  drug_use  std_last_year  \\\n",
       "0                 1               1         0              0   \n",
       "1                 0               0         0              0   \n",
       "2                 1               0         0              0   \n",
       "3                 1               1         0              0   \n",
       "4                 1               1         0              0   \n",
       "\n",
       "   commercial_sex_last_year  hiv_test_last_year  hiv_test_result  \n",
       "0                         0                   1                0  \n",
       "1                         0                   0                0  \n",
       "2                         0                   1                0  \n",
       "3                         0                   1                0  \n",
       "4                         0                   0                0  "
      ]
     },
     "execution_count": 10,
     "metadata": {},
     "output_type": "execute_result"
    }
   ],
   "source": [
    "to_binary = ['awareness_of_hiv', 'sex_last_month', 'drug_use', 'std_last_year', 'commercial_sex_last_year', 'hiv_test_last_year']\n",
    "for col in to_binary:\n",
    "    hiv_data_no_dupls[col].replace(to_replace=['yes','no'], value=[1,0], inplace=True)\n",
    "\n",
    "hiv_data_no_dupls.head()"
   ]
  },
  {
   "cell_type": "markdown",
   "id": "53e0083a",
   "metadata": {},
   "source": [
    "Now, we are going to One-Hot encode the remaining nominal categorical variables, i.e., age, occupation, location, marital_status, educational_level and condom_use_last_month. We will use drop_first parameter in order to remove redundant dummy variables and avid the issue of multicollinearity."
   ]
  },
  {
   "cell_type": "code",
   "execution_count": 11,
   "id": "3d1f9907",
   "metadata": {},
   "outputs": [
    {
     "data": {
      "text/html": [
       "<div>\n",
       "<style scoped>\n",
       "    .dataframe tbody tr th:only-of-type {\n",
       "        vertical-align: middle;\n",
       "    }\n",
       "\n",
       "    .dataframe tbody tr th {\n",
       "        vertical-align: top;\n",
       "    }\n",
       "\n",
       "    .dataframe thead th {\n",
       "        text-align: right;\n",
       "    }\n",
       "</style>\n",
       "<table border=\"1\" class=\"dataframe\">\n",
       "  <thead>\n",
       "    <tr style=\"text-align: right;\">\n",
       "      <th></th>\n",
       "      <th>gender</th>\n",
       "      <th>partner_count</th>\n",
       "      <th>awareness_of_hiv</th>\n",
       "      <th>sex_last_month</th>\n",
       "      <th>drug_use</th>\n",
       "      <th>std_last_year</th>\n",
       "      <th>commercial_sex_last_year</th>\n",
       "      <th>hiv_test_last_year</th>\n",
       "      <th>hiv_test_result</th>\n",
       "      <th>age_2(18-28)</th>\n",
       "      <th>...</th>\n",
       "      <th>location_Tashkent region</th>\n",
       "      <th>marital_status_divorced or widowed</th>\n",
       "      <th>marital_status_married</th>\n",
       "      <th>marital_status_unmarried</th>\n",
       "      <th>educational_level_college or above</th>\n",
       "      <th>educational_level_high school or lyceum</th>\n",
       "      <th>educational_level_middle school</th>\n",
       "      <th>educational_level_primary school</th>\n",
       "      <th>condom_use_last_month_other</th>\n",
       "      <th>condom_use_last_month_yes</th>\n",
       "    </tr>\n",
       "  </thead>\n",
       "  <tbody>\n",
       "    <tr>\n",
       "      <th>0</th>\n",
       "      <td>1</td>\n",
       "      <td>1</td>\n",
       "      <td>1</td>\n",
       "      <td>1</td>\n",
       "      <td>0</td>\n",
       "      <td>0</td>\n",
       "      <td>0</td>\n",
       "      <td>1</td>\n",
       "      <td>0</td>\n",
       "      <td>0</td>\n",
       "      <td>...</td>\n",
       "      <td>0</td>\n",
       "      <td>0</td>\n",
       "      <td>1</td>\n",
       "      <td>0</td>\n",
       "      <td>1</td>\n",
       "      <td>0</td>\n",
       "      <td>0</td>\n",
       "      <td>0</td>\n",
       "      <td>0</td>\n",
       "      <td>0</td>\n",
       "    </tr>\n",
       "    <tr>\n",
       "      <th>1</th>\n",
       "      <td>1</td>\n",
       "      <td>1</td>\n",
       "      <td>0</td>\n",
       "      <td>0</td>\n",
       "      <td>0</td>\n",
       "      <td>0</td>\n",
       "      <td>0</td>\n",
       "      <td>0</td>\n",
       "      <td>0</td>\n",
       "      <td>0</td>\n",
       "      <td>...</td>\n",
       "      <td>0</td>\n",
       "      <td>1</td>\n",
       "      <td>0</td>\n",
       "      <td>0</td>\n",
       "      <td>1</td>\n",
       "      <td>0</td>\n",
       "      <td>0</td>\n",
       "      <td>0</td>\n",
       "      <td>0</td>\n",
       "      <td>0</td>\n",
       "    </tr>\n",
       "    <tr>\n",
       "      <th>2</th>\n",
       "      <td>0</td>\n",
       "      <td>1</td>\n",
       "      <td>1</td>\n",
       "      <td>0</td>\n",
       "      <td>0</td>\n",
       "      <td>0</td>\n",
       "      <td>0</td>\n",
       "      <td>1</td>\n",
       "      <td>0</td>\n",
       "      <td>1</td>\n",
       "      <td>...</td>\n",
       "      <td>0</td>\n",
       "      <td>0</td>\n",
       "      <td>1</td>\n",
       "      <td>0</td>\n",
       "      <td>0</td>\n",
       "      <td>1</td>\n",
       "      <td>0</td>\n",
       "      <td>0</td>\n",
       "      <td>0</td>\n",
       "      <td>0</td>\n",
       "    </tr>\n",
       "    <tr>\n",
       "      <th>3</th>\n",
       "      <td>0</td>\n",
       "      <td>1</td>\n",
       "      <td>1</td>\n",
       "      <td>1</td>\n",
       "      <td>0</td>\n",
       "      <td>0</td>\n",
       "      <td>0</td>\n",
       "      <td>1</td>\n",
       "      <td>0</td>\n",
       "      <td>0</td>\n",
       "      <td>...</td>\n",
       "      <td>0</td>\n",
       "      <td>0</td>\n",
       "      <td>1</td>\n",
       "      <td>0</td>\n",
       "      <td>1</td>\n",
       "      <td>0</td>\n",
       "      <td>0</td>\n",
       "      <td>0</td>\n",
       "      <td>0</td>\n",
       "      <td>0</td>\n",
       "    </tr>\n",
       "    <tr>\n",
       "      <th>4</th>\n",
       "      <td>1</td>\n",
       "      <td>1</td>\n",
       "      <td>1</td>\n",
       "      <td>1</td>\n",
       "      <td>0</td>\n",
       "      <td>0</td>\n",
       "      <td>0</td>\n",
       "      <td>0</td>\n",
       "      <td>0</td>\n",
       "      <td>1</td>\n",
       "      <td>...</td>\n",
       "      <td>0</td>\n",
       "      <td>0</td>\n",
       "      <td>1</td>\n",
       "      <td>0</td>\n",
       "      <td>0</td>\n",
       "      <td>1</td>\n",
       "      <td>0</td>\n",
       "      <td>0</td>\n",
       "      <td>0</td>\n",
       "      <td>0</td>\n",
       "    </tr>\n",
       "  </tbody>\n",
       "</table>\n",
       "<p>5 rows × 40 columns</p>\n",
       "</div>"
      ],
      "text/plain": [
       "   gender  partner_count  awareness_of_hiv  sex_last_month  drug_use  \\\n",
       "0       1              1                 1               1         0   \n",
       "1       1              1                 0               0         0   \n",
       "2       0              1                 1               0         0   \n",
       "3       0              1                 1               1         0   \n",
       "4       1              1                 1               1         0   \n",
       "\n",
       "   std_last_year  commercial_sex_last_year  hiv_test_last_year  \\\n",
       "0              0                         0                   1   \n",
       "1              0                         0                   0   \n",
       "2              0                         0                   1   \n",
       "3              0                         0                   1   \n",
       "4              0                         0                   0   \n",
       "\n",
       "   hiv_test_result  age_2(18-28)  ...  location_Tashkent region  \\\n",
       "0                0             0  ...                         0   \n",
       "1                0             0  ...                         0   \n",
       "2                0             1  ...                         0   \n",
       "3                0             0  ...                         0   \n",
       "4                0             1  ...                         0   \n",
       "\n",
       "   marital_status_divorced or widowed  marital_status_married  \\\n",
       "0                                   0                       1   \n",
       "1                                   1                       0   \n",
       "2                                   0                       1   \n",
       "3                                   0                       1   \n",
       "4                                   0                       1   \n",
       "\n",
       "   marital_status_unmarried  educational_level_college or above  \\\n",
       "0                         0                                   1   \n",
       "1                         0                                   1   \n",
       "2                         0                                   0   \n",
       "3                         0                                   1   \n",
       "4                         0                                   0   \n",
       "\n",
       "   educational_level_high school or lyceum  educational_level_middle school  \\\n",
       "0                                        0                                0   \n",
       "1                                        0                                0   \n",
       "2                                        1                                0   \n",
       "3                                        0                                0   \n",
       "4                                        1                                0   \n",
       "\n",
       "   educational_level_primary school  condom_use_last_month_other  \\\n",
       "0                                 0                            0   \n",
       "1                                 0                            0   \n",
       "2                                 0                            0   \n",
       "3                                 0                            0   \n",
       "4                                 0                            0   \n",
       "\n",
       "   condom_use_last_month_yes  \n",
       "0                          0  \n",
       "1                          0  \n",
       "2                          0  \n",
       "3                          0  \n",
       "4                          0  \n",
       "\n",
       "[5 rows x 40 columns]"
      ]
     },
     "execution_count": 11,
     "metadata": {},
     "output_type": "execute_result"
    }
   ],
   "source": [
    "hiv_data_enc = pd.get_dummies(hiv_data_no_dupls, columns=['age', 'occupation', 'location', 'marital_status', \n",
    "                                                 'educational_level', 'condom_use_last_month'],\n",
    "                             drop_first=True)\n",
    "hiv_data_enc.head()"
   ]
  },
  {
   "cell_type": "markdown",
   "id": "d3e9649f",
   "metadata": {},
   "source": [
    "We have only one column, 'partner_count', that we want to scale using MinMax scaling method. We know max=5, min=0, so we simply divide all values by 5: "
   ]
  },
  {
   "cell_type": "code",
   "execution_count": 12,
   "id": "03cd864c",
   "metadata": {},
   "outputs": [
    {
     "data": {
      "text/plain": [
       "0.2    5099\n",
       "0.6     527\n",
       "0.4     290\n",
       "0.8     230\n",
       "0.0     104\n",
       "1.0      95\n",
       "Name: partner_count, dtype: int64"
      ]
     },
     "execution_count": 12,
     "metadata": {},
     "output_type": "execute_result"
    }
   ],
   "source": [
    "hiv_data_enc['partner_count'] = hiv_data_enc['partner_count']/5\n",
    "hiv_data_enc['partner_count'].value_counts()"
   ]
  },
  {
   "cell_type": "markdown",
   "id": "dc997148",
   "metadata": {},
   "source": [
    "The data looks good for splitting and training."
   ]
  },
  {
   "cell_type": "markdown",
   "id": "9577ff6e",
   "metadata": {},
   "source": [
    "## Splitting into training and testing sets"
   ]
  },
  {
   "cell_type": "code",
   "execution_count": 13,
   "id": "df3431d8",
   "metadata": {},
   "outputs": [],
   "source": [
    "# Separate features (X) and target variable (y)\n",
    "X = hiv_data_enc.drop('hiv_test_result', axis=1)\n",
    "y = hiv_data_enc['hiv_test_result']\n",
    "\n",
    "# Split the data into training and testing sets\n",
    "X_train, X_test, y_train, y_test = train_test_split(X, y, test_size=0.2, random_state=42)"
   ]
  },
  {
   "cell_type": "code",
   "execution_count": 14,
   "id": "6c4d33b0",
   "metadata": {},
   "outputs": [
    {
     "data": {
      "text/plain": [
       "0    3525\n",
       "1    1551\n",
       "Name: hiv_test_result, dtype: int64"
      ]
     },
     "execution_count": 14,
     "metadata": {},
     "output_type": "execute_result"
    }
   ],
   "source": [
    "y_train.value_counts()"
   ]
  },
  {
   "cell_type": "markdown",
   "id": "74a1c14c",
   "metadata": {},
   "source": [
    "Note that the target class, 'hiv_test_result', is imbalanced as the number of negative test results is 2.27 times more than the number of positive test results. In order to make the training set more balanced we use Synthetic Minority Over-sampling Technique (SMOTE) technique. This is important because our goal is to identify instances of HIV positive test results and in imbalanced datasets, a classifier might become biased towards the majority class and might not perform well in identifying instances of the minority class (in our case, HIV positive cases)."
   ]
  },
  {
   "cell_type": "code",
   "execution_count": 15,
   "id": "76106d11",
   "metadata": {},
   "outputs": [],
   "source": [
    "# Apply SMOTE to the training data\n",
    "smote = SMOTE(random_state=42)\n",
    "X_train_resampled, y_train_resampled = smote.fit_resample(X_train, y_train)"
   ]
  },
  {
   "cell_type": "code",
   "execution_count": 16,
   "id": "cf83cc36",
   "metadata": {},
   "outputs": [
    {
     "name": "stdout",
     "output_type": "stream",
     "text": [
      "Value counts before resampling:\n",
      " 0    3525\n",
      "1    1551\n",
      "Name: hiv_test_result, dtype: int64\n",
      "Value counts after resampling:\n",
      " 0    3525\n",
      "1    3525\n",
      "Name: hiv_test_result, dtype: int64\n"
     ]
    }
   ],
   "source": [
    "print(\"Value counts before resampling:\\n\", y_train.value_counts())\n",
    "print(\"Value counts after resampling:\\n\", y_train_resampled.value_counts())"
   ]
  },
  {
   "cell_type": "markdown",
   "id": "9f56f571",
   "metadata": {},
   "source": [
    "# Building classifiers"
   ]
  },
  {
   "cell_type": "markdown",
   "id": "15683911",
   "metadata": {},
   "source": [
    "We will consider the most known classifiers inlcuding Lagistic Regression, Decision Tree, Random Forest and SVM. We will optimize each model and then compare them using AUC of the ROC curve."
   ]
  },
  {
   "cell_type": "markdown",
   "id": "fbe6f8b4",
   "metadata": {},
   "source": [
    "## Logistic regression"
   ]
  },
  {
   "cell_type": "code",
   "execution_count": null,
   "id": "296346fa",
   "metadata": {},
   "outputs": [],
   "source": [
    "from sklearn.linear_model import LogisticRegression\n",
    "from sklearn.metrics import roc_curve, auc\n",
    "import matplotlib.pyplot as plt"
   ]
  },
  {
   "cell_type": "code",
   "execution_count": null,
   "id": "18b121e5",
   "metadata": {},
   "outputs": [],
   "source": [
    "log_clf =LogisticRegression()"
   ]
  },
  {
   "cell_type": "code",
   "execution_count": null,
   "id": "ebc9eeb0",
   "metadata": {},
   "outputs": [],
   "source": [
    "log_clf.fit(X_train_resampled, y_train_resampled)"
   ]
  },
  {
   "cell_type": "code",
   "execution_count": null,
   "id": "b4903baf",
   "metadata": {},
   "outputs": [],
   "source": [
    "# We now have a working Logistic Regression model. Let’s try it out on a few instances from the training set:\n",
    "\n",
    "some_data = X_train.iloc[:10]\n",
    "some_targets = y_train.iloc[:10]\n",
    "print(\"Predictions:\", log_clf.predict(some_data))\n",
    "print(\"Test results:\", list(some_targets))"
   ]
  },
  {
   "cell_type": "code",
   "execution_count": null,
   "id": "12514f49",
   "metadata": {},
   "outputs": [],
   "source": [
    "# Now we want to measure this model’s key metrics on the whole testing set using Scikit-Learn’s metrics functions:\n",
    "\n",
    "hiv_results_predictions = log_clf.predict(X_test)\n",
    "print(\"Accuracy:\", accuracy_score(y_test, hiv_results_predictions))\n",
    "print(\"Classification Report:\\n\", classification_report(y_test, hiv_results_predictions))\n",
    "print(\"Confusion Matrix:\\n\", confusion_matrix(y_test, hiv_results_predictions))"
   ]
  },
  {
   "cell_type": "markdown",
   "id": "4a2cc1ad",
   "metadata": {},
   "source": [
    "The model has overall accuracy score of 0.82 and recall score for the HIV positive test results of 0.84. This is fairly good but we want to use grid search to find the best hyperparameters for this model."
   ]
  },
  {
   "cell_type": "markdown",
   "id": "e6309884",
   "metadata": {},
   "source": [
    "### Grid Search"
   ]
  },
  {
   "cell_type": "markdown",
   "id": "07de4e8d",
   "metadata": {},
   "source": [
    "We define a grid of hyper-parameters for logistic regression."
   ]
  },
  {
   "cell_type": "code",
   "execution_count": 17,
   "id": "a529a6c3",
   "metadata": {},
   "outputs": [],
   "source": [
    "from sklearn.model_selection import GridSearchCV\n",
    "from sklearn.metrics import make_scorer, recall_score"
   ]
  },
  {
   "cell_type": "code",
   "execution_count": null,
   "id": "ccaf5410",
   "metadata": {},
   "outputs": [],
   "source": [
    "logreg = LogisticRegression()\n",
    "\n",
    "# Define the hyperparameter grid to search\n",
    "param_grid = {\n",
    "    'penalty': ['l1', 'l2', 'none'],\n",
    "    'C': [0.001, 0.01, 0.1, 1, 10, 100],\n",
    "    'solver': ['newton-cg', 'lbfgs', 'liblinear', 'sag', 'saga']\n",
    "}\n",
    "\n",
    "# Define the scoring parameter as recall for class 1\n",
    "scorer = make_scorer(recall_score, pos_label=1)\n",
    "\n",
    "# Create GridSearchCV\n",
    "grid_search = GridSearchCV(logreg, param_grid, cv=5, scoring=scorer, n_jobs=-1)\n",
    "\n",
    "# Fit the grid search to the data\n",
    "grid_search.fit(X_train_resampled, y_train_resampled)"
   ]
  },
  {
   "cell_type": "code",
   "execution_count": null,
   "id": "6378b2b2",
   "metadata": {},
   "outputs": [],
   "source": [
    "# Print the best hyperparameters\n",
    "print(\"Best Hyperparameters:\", grid_search.best_params_)\n",
    "\n",
    "# Access the best estimator (model)\n",
    "log_clf_recall = grid_search.best_estimator_"
   ]
  },
  {
   "cell_type": "code",
   "execution_count": null,
   "id": "f19ba7a5",
   "metadata": {},
   "outputs": [],
   "source": [
    "# Now we want to measure this model’s key metrics on the whole testing set using Scikit-Learn’s metrics functions:\n",
    "\n",
    "hiv_results_predictions = log_clf_recall.predict(X_test)\n",
    "print(\"Accuracy:\", accuracy_score(y_test, hiv_results_predictions))\n",
    "print(\"Classification Report:\\n\", classification_report(y_test, hiv_results_predictions))\n",
    "print(\"Confusion Matrix:\\n\", confusion_matrix(y_test, hiv_results_predictions))"
   ]
  },
  {
   "cell_type": "markdown",
   "id": "3c895b9a",
   "metadata": {},
   "source": [
    "Now, we want to do grid search based on a different scoring parameter - an roc_auc score for the positive class (HIV positive test results)."
   ]
  },
  {
   "cell_type": "code",
   "execution_count": null,
   "id": "2d25ceca",
   "metadata": {},
   "outputs": [],
   "source": [
    "from sklearn.metrics import make_scorer, roc_auc_score\n",
    "\n",
    "# Define the scoring parameter as roc_auc for the positive class\n",
    "#scorer = make_scorer(roc_auc_score, needs_proba=True, multi_class='ovr', labels=[1])\n",
    "\n",
    "# Create GridSearchCV\n",
    "grid_search_roc_auc = GridSearchCV(logreg, param_grid, cv=5, scoring='roc_auc', n_jobs=-1)\n",
    "\n",
    "# Fit the grid search to the data\n",
    "grid_search_roc_auc.fit(X_train_resampled, y_train_resampled)"
   ]
  },
  {
   "cell_type": "code",
   "execution_count": null,
   "id": "d897937f",
   "metadata": {},
   "outputs": [],
   "source": [
    "# Print the best hyperparameters\n",
    "print(\"Best Hyperparameters:\", grid_search_roc_auc.best_params_)\n",
    "\n",
    "# Access the best estimator (model)\n",
    "log_clf_best_roc_auc = grid_search_roc_auc.best_estimator_"
   ]
  },
  {
   "cell_type": "code",
   "execution_count": null,
   "id": "1038fec2",
   "metadata": {},
   "outputs": [],
   "source": [
    "# Now we want to measure this model’s key metrics on the whole testing set using Scikit-Learn’s metrics functions:\n",
    "\n",
    "hiv_results_predictions = log_clf_best_roc_auc.predict(X_test)\n",
    "print(\"Accuracy:\", accuracy_score(y_test, hiv_results_predictions))\n",
    "print(\"Classification Report:\\n\", classification_report(y_test, hiv_results_predictions))\n",
    "print(\"Confusion Matrix:\\n\", confusion_matrix(y_test, hiv_results_predictions))"
   ]
  },
  {
   "cell_type": "markdown",
   "id": "40d089bd",
   "metadata": {},
   "source": [
    "We have three logistic regression models that all scored relatively similar scores in recall and accuracy. Since they all performed very similarly, we will choose the model that was optimized for the roc_auc score of the HIV positive test results, which is model log_clf_best_roc_auc."
   ]
  },
  {
   "cell_type": "markdown",
   "id": "3badaf60",
   "metadata": {},
   "source": [
    "### Plotting ROC curve"
   ]
  },
  {
   "cell_type": "code",
   "execution_count": null,
   "id": "6a3292c3",
   "metadata": {},
   "outputs": [],
   "source": [
    "# Predict probabilities for the positive class (class 1)\n",
    "\n",
    "y_prob = log_clf_best_roc_auc.predict_proba(X_test)[:,1]"
   ]
  },
  {
   "cell_type": "code",
   "execution_count": null,
   "id": "730d0207",
   "metadata": {},
   "outputs": [],
   "source": [
    "# Compute ROC curve and AUC\n",
    "fpr, tpr, thresholds = roc_curve(y_test, y_prob)\n",
    "roc_auc = auc(fpr, tpr)\n",
    "\n",
    "# Plot ROC curve\n",
    "plt.figure(figsize=(5, 5))\n",
    "plt.plot(fpr, tpr, color='darkorange', lw=2, label='ROC curve (area = {:.2f})'.format(roc_auc))\n",
    "plt.plot([0, 1], [0, 1], color='navy', lw=2, linestyle='--', label='Random')\n",
    "plt.xlabel('False Positive Rate (FPR)')\n",
    "plt.ylabel('True Positive Rate (TPR)')\n",
    "plt.title('ROC Curve for Logistic Regression')\n",
    "plt.legend(loc='lower right')\n",
    "plt.show()"
   ]
  },
  {
   "cell_type": "markdown",
   "id": "2d0c8f1c",
   "metadata": {},
   "source": [
    "The Logistic Regression based model does fairly well."
   ]
  },
  {
   "cell_type": "markdown",
   "id": "542cea66",
   "metadata": {},
   "source": [
    "## Decision tree"
   ]
  },
  {
   "cell_type": "code",
   "execution_count": null,
   "id": "6ab60f31",
   "metadata": {},
   "outputs": [],
   "source": [
    "from sklearn.tree import DecisionTreeClassifier"
   ]
  },
  {
   "cell_type": "code",
   "execution_count": null,
   "id": "c2aac863",
   "metadata": {},
   "outputs": [],
   "source": [
    "tree_clf = DecisionTreeClassifier(random_state=42)\n",
    "tree_clf.fit(X_train_resampled, y_train_resampled)"
   ]
  },
  {
   "cell_type": "code",
   "execution_count": null,
   "id": "b1da05c0",
   "metadata": {},
   "outputs": [],
   "source": [
    "# We now have a working Decison Tree model. Let’s try it out on a few instances from the training set:\n",
    "\n",
    "some_data = X_train.iloc[:10]\n",
    "some_targets = y_train.iloc[:10]\n",
    "print(\"Predictions:\", tree_clf.predict(some_data))\n",
    "print(\"Test results:\", list(some_targets))"
   ]
  },
  {
   "cell_type": "code",
   "execution_count": null,
   "id": "3b73fd4a",
   "metadata": {},
   "outputs": [],
   "source": [
    "# Now we want to measure this model’s key metrics on the whole testing set using Scikit-Learn’s metrics functions:\n",
    "\n",
    "hiv_results_predictions_tree = tree_clf.predict(X_test)\n",
    "print(\"Accuracy:\", accuracy_score(y_test, hiv_results_predictions_tree))\n",
    "print(\"Classification Report:\\n\", classification_report(y_test, hiv_results_predictions_tree))\n",
    "print(\"Confusion Matrix:\\n\", confusion_matrix(y_test, hiv_results_predictions_tree))"
   ]
  },
  {
   "cell_type": "markdown",
   "id": "3d37a4a5",
   "metadata": {},
   "source": [
    "### Fune-tuning hyperparameters of Decision Tree Classifier for the Highest Recall"
   ]
  },
  {
   "cell_type": "code",
   "execution_count": null,
   "id": "523a3424",
   "metadata": {},
   "outputs": [],
   "source": [
    "# Use GridSearchCV for Hyper-Parameter Tuning for DecisionTreeClassifier\n",
    "\n",
    "#Criterion\n",
    "criterion = [\"gini\", \"entropy\"]\n",
    "\n",
    "#Splitter\n",
    "splitter = [\"best\", \"random\"]\n",
    "\n",
    "# Number of features to consider at every split\n",
    "max_features = ['auto', 'sqrt','log2']\n",
    "\n",
    "# Maximum number of levels in tree\n",
    "max_depth = [5, 15, 25, 35]\n",
    "\n",
    "# Minimum number of samples required to split a node\n",
    "min_samples_split = [2, 3, 4, 5, 7, 9]\n",
    "\n",
    "# Minimum number of samples required at each leaf node\n",
    "min_samples_leaf = [1, 2, 4, 6, 8]\n",
    "\n",
    "# Create the random grid\n",
    "dt_param_grid = {'splitter': splitter,\n",
    "               'max_features': max_features,\n",
    "               'max_depth': max_depth,\n",
    "               'min_samples_split': min_samples_split,\n",
    "               'min_samples_leaf': min_samples_leaf,\n",
    "              'criterion':['entropy','gini']}"
   ]
  },
  {
   "cell_type": "code",
   "execution_count": null,
   "id": "c24204ab",
   "metadata": {},
   "outputs": [],
   "source": [
    "DT = DecisionTreeClassifier(random_state=100)\n",
    "\n",
    "DT_grid_recall = GridSearchCV(DT, dt_param_grid,scoring = 'recall', cv=5, n_jobs=-1)\n",
    "### fit the randomized model\n",
    "\n",
    "DT_grid_recall.fit(X_train_resampled, y_train_resampled)"
   ]
  },
  {
   "cell_type": "code",
   "execution_count": null,
   "id": "5f07b36c",
   "metadata": {},
   "outputs": [],
   "source": [
    "# Get the best parameters from the grid search\n",
    "best_params_recall = DT_grid_recall.best_params_\n",
    "print(\"Best Hyperparameters:\", best_params_recall)\n",
    "\n",
    "# best decision tree classifier\n",
    "dt_clf_recall = DT_grid_recall.best_estimator_"
   ]
  },
  {
   "cell_type": "code",
   "execution_count": null,
   "id": "0de0f115",
   "metadata": {},
   "outputs": [],
   "source": [
    "# Now we want to measure this model’s key metrics on the whole testing set using Scikit-Learn’s metrics functions:\n",
    "hiv_results_predictions_dt_recall = dt_clf_recall.predict(X_test)\n",
    "print(\"Accuracy:\", accuracy_score(y_test, hiv_results_predictions_dt_recall))\n",
    "print(\"Classification Report:\\n\", classification_report(y_test, hiv_results_predictions_dt_recall))\n",
    "print(\"Confusion Matrix:\\n\", confusion_matrix(y_test, hiv_results_predictions_dt_recall))"
   ]
  },
  {
   "cell_type": "code",
   "execution_count": null,
   "id": "baafddf9",
   "metadata": {},
   "outputs": [],
   "source": [
    "DT = DecisionTreeClassifier(random_state=100)\n",
    "\n",
    "DT_roc = GridSearchCV(DT, dt_param_grid, scoring = 'roc_auc', cv=5, n_jobs=-1)\n",
    "### fit the randomized model\n",
    "DT_roc.fit(X_train_resampled, y_train_resampled)"
   ]
  },
  {
   "cell_type": "code",
   "execution_count": null,
   "id": "49049d70",
   "metadata": {},
   "outputs": [],
   "source": [
    "# Get the best parameters from the grid search\n",
    "best_params_roc = DT_roc.best_params_\n",
    "print(\"Best Hyperparameters:\", best_params_roc)\n",
    "\n",
    "# best decision tree classifier\n",
    "dt_clf_roc = DT_roc.best_estimator_\n",
    "\n",
    "# Now we want to measure this model’s key metrics on the whole testing set using Scikit-Learn’s metrics functions:\n",
    "hiv_results_predictions_dt_roc = dt_clf_roc.predict(X_test)\n",
    "print(\"Accuracy:\", accuracy_score(y_test, hiv_results_predictions_dt_roc))\n",
    "print(\"Classification Report:\\n\", classification_report(y_test, hiv_results_predictions_dt_roc))\n",
    "print(\"Confusion Matrix:\\n\", confusion_matrix(y_test, hiv_results_predictions_dt_roc))"
   ]
  },
  {
   "cell_type": "markdown",
   "id": "675e7e4b",
   "metadata": {},
   "source": [
    "It turns out the grid search optimized for recall score and roc_auc score result in the exact same best hyper-parameters, and hence, the same Decision Trree model. Based on the key scores, including the recall score for the HIV positive test results class and accuracy, the Decision Tree models are performing slightly worse than the Logistic Regression Model."
   ]
  },
  {
   "cell_type": "markdown",
   "id": "6e448e73",
   "metadata": {},
   "source": [
    "Now, I will test-dump this model into the .pkl file for Flask deployment"
   ]
  },
  {
   "cell_type": "markdown",
   "id": "79861df3",
   "metadata": {},
   "source": [
    "## Random Forest Classifier"
   ]
  },
  {
   "cell_type": "code",
   "execution_count": 18,
   "id": "44ff6b58",
   "metadata": {},
   "outputs": [
    {
     "name": "stdout",
     "output_type": "stream",
     "text": [
      "Accuracy: 0.797478329393223\n",
      "Classification Report:\n",
      "               precision    recall  f1-score   support\n",
      "\n",
      "           0       0.89      0.80      0.84       867\n",
      "           1       0.65      0.79      0.71       402\n",
      "\n",
      "    accuracy                           0.80      1269\n",
      "   macro avg       0.77      0.80      0.78      1269\n",
      "weighted avg       0.81      0.80      0.80      1269\n",
      "\n",
      "Confusion Matrix:\n",
      " [[695 172]\n",
      " [ 85 317]]\n"
     ]
    }
   ],
   "source": [
    "from sklearn.ensemble import RandomForestClassifier\n",
    "\n",
    "# Create a RandomForestClassifier\n",
    "rf_clf = RandomForestClassifier(random_state=42)\n",
    "\n",
    "# Fit the model to the training data\n",
    "rf_clf.fit(X_train_resampled, y_train_resampled)\n",
    "\n",
    "# Make predictions on the test set\n",
    "y_pred_rf = rf_clf.predict(X_test)\n",
    "\n",
    "# Now we want to measure this model’s key metrics on the testing set using Scikit-Learn’s metrics functions:\n",
    "print(\"Accuracy:\", accuracy_score(y_test, y_pred_rf))\n",
    "print(\"Classification Report:\\n\", classification_report(y_test, y_pred_rf))\n",
    "print(\"Confusion Matrix:\\n\", confusion_matrix(y_test, y_pred_rf))"
   ]
  },
  {
   "cell_type": "markdown",
   "id": "04c0399f",
   "metadata": {},
   "source": [
    "### Fune-tuning hyperparameters of Random Forest Classifier for the Highest Recall"
   ]
  },
  {
   "cell_type": "code",
   "execution_count": 19,
   "id": "f7556974",
   "metadata": {},
   "outputs": [],
   "source": [
    "#Criterion\n",
    "criterion = [\"gini\", \"entropy\"]\n",
    "\n",
    "# Number of features to consider at every split\n",
    "max_features = ['sqrt','log2']\n",
    "\n",
    "# Maximum number of levels in tree\n",
    "max_depth = [15, 20]\n",
    "\n",
    "# Minimum number of samples required to split a node\n",
    "min_samples_split = [9, 14]\n",
    "\n",
    "# Minimum number of samples required at each leaf node\n",
    "min_samples_leaf = [4, 6]\n",
    "\n",
    "# Create the random grid\n",
    "rf_param_grid = {'max_features': max_features,\n",
    "               'max_depth': max_depth,\n",
    "               'min_samples_split': min_samples_split,\n",
    "               'min_samples_leaf': min_samples_leaf,\n",
    "              'criterion':['entropy','gini']}"
   ]
  },
  {
   "cell_type": "code",
   "execution_count": 20,
   "id": "7a31c110",
   "metadata": {},
   "outputs": [
    {
     "data": {
      "text/html": [
       "<style>#sk-container-id-1 {color: black;}#sk-container-id-1 pre{padding: 0;}#sk-container-id-1 div.sk-toggleable {background-color: white;}#sk-container-id-1 label.sk-toggleable__label {cursor: pointer;display: block;width: 100%;margin-bottom: 0;padding: 0.3em;box-sizing: border-box;text-align: center;}#sk-container-id-1 label.sk-toggleable__label-arrow:before {content: \"▸\";float: left;margin-right: 0.25em;color: #696969;}#sk-container-id-1 label.sk-toggleable__label-arrow:hover:before {color: black;}#sk-container-id-1 div.sk-estimator:hover label.sk-toggleable__label-arrow:before {color: black;}#sk-container-id-1 div.sk-toggleable__content {max-height: 0;max-width: 0;overflow: hidden;text-align: left;background-color: #f0f8ff;}#sk-container-id-1 div.sk-toggleable__content pre {margin: 0.2em;color: black;border-radius: 0.25em;background-color: #f0f8ff;}#sk-container-id-1 input.sk-toggleable__control:checked~div.sk-toggleable__content {max-height: 200px;max-width: 100%;overflow: auto;}#sk-container-id-1 input.sk-toggleable__control:checked~label.sk-toggleable__label-arrow:before {content: \"▾\";}#sk-container-id-1 div.sk-estimator input.sk-toggleable__control:checked~label.sk-toggleable__label {background-color: #d4ebff;}#sk-container-id-1 div.sk-label input.sk-toggleable__control:checked~label.sk-toggleable__label {background-color: #d4ebff;}#sk-container-id-1 input.sk-hidden--visually {border: 0;clip: rect(1px 1px 1px 1px);clip: rect(1px, 1px, 1px, 1px);height: 1px;margin: -1px;overflow: hidden;padding: 0;position: absolute;width: 1px;}#sk-container-id-1 div.sk-estimator {font-family: monospace;background-color: #f0f8ff;border: 1px dotted black;border-radius: 0.25em;box-sizing: border-box;margin-bottom: 0.5em;}#sk-container-id-1 div.sk-estimator:hover {background-color: #d4ebff;}#sk-container-id-1 div.sk-parallel-item::after {content: \"\";width: 100%;border-bottom: 1px solid gray;flex-grow: 1;}#sk-container-id-1 div.sk-label:hover label.sk-toggleable__label {background-color: #d4ebff;}#sk-container-id-1 div.sk-serial::before {content: \"\";position: absolute;border-left: 1px solid gray;box-sizing: border-box;top: 0;bottom: 0;left: 50%;z-index: 0;}#sk-container-id-1 div.sk-serial {display: flex;flex-direction: column;align-items: center;background-color: white;padding-right: 0.2em;padding-left: 0.2em;position: relative;}#sk-container-id-1 div.sk-item {position: relative;z-index: 1;}#sk-container-id-1 div.sk-parallel {display: flex;align-items: stretch;justify-content: center;background-color: white;position: relative;}#sk-container-id-1 div.sk-item::before, #sk-container-id-1 div.sk-parallel-item::before {content: \"\";position: absolute;border-left: 1px solid gray;box-sizing: border-box;top: 0;bottom: 0;left: 50%;z-index: -1;}#sk-container-id-1 div.sk-parallel-item {display: flex;flex-direction: column;z-index: 1;position: relative;background-color: white;}#sk-container-id-1 div.sk-parallel-item:first-child::after {align-self: flex-end;width: 50%;}#sk-container-id-1 div.sk-parallel-item:last-child::after {align-self: flex-start;width: 50%;}#sk-container-id-1 div.sk-parallel-item:only-child::after {width: 0;}#sk-container-id-1 div.sk-dashed-wrapped {border: 1px dashed gray;margin: 0 0.4em 0.5em 0.4em;box-sizing: border-box;padding-bottom: 0.4em;background-color: white;}#sk-container-id-1 div.sk-label label {font-family: monospace;font-weight: bold;display: inline-block;line-height: 1.2em;}#sk-container-id-1 div.sk-label-container {text-align: center;}#sk-container-id-1 div.sk-container {/* jupyter's `normalize.less` sets `[hidden] { display: none; }` but bootstrap.min.css set `[hidden] { display: none !important; }` so we also need the `!important` here to be able to override the default hidden behavior on the sphinx rendered scikit-learn.org. See: https://github.com/scikit-learn/scikit-learn/issues/21755 */display: inline-block !important;position: relative;}#sk-container-id-1 div.sk-text-repr-fallback {display: none;}</style><div id=\"sk-container-id-1\" class=\"sk-top-container\"><div class=\"sk-text-repr-fallback\"><pre>GridSearchCV(cv=5, estimator=RandomForestClassifier(random_state=42), n_jobs=1,\n",
       "             param_grid={&#x27;criterion&#x27;: [&#x27;entropy&#x27;, &#x27;gini&#x27;],\n",
       "                         &#x27;max_depth&#x27;: [15, 20],\n",
       "                         &#x27;max_features&#x27;: [&#x27;sqrt&#x27;, &#x27;log2&#x27;],\n",
       "                         &#x27;min_samples_leaf&#x27;: [4, 6],\n",
       "                         &#x27;min_samples_split&#x27;: [9, 14]},\n",
       "             scoring=&#x27;recall&#x27;)</pre><b>In a Jupyter environment, please rerun this cell to show the HTML representation or trust the notebook. <br />On GitHub, the HTML representation is unable to render, please try loading this page with nbviewer.org.</b></div><div class=\"sk-container\" hidden><div class=\"sk-item sk-dashed-wrapped\"><div class=\"sk-label-container\"><div class=\"sk-label sk-toggleable\"><input class=\"sk-toggleable__control sk-hidden--visually\" id=\"sk-estimator-id-1\" type=\"checkbox\" ><label for=\"sk-estimator-id-1\" class=\"sk-toggleable__label sk-toggleable__label-arrow\">GridSearchCV</label><div class=\"sk-toggleable__content\"><pre>GridSearchCV(cv=5, estimator=RandomForestClassifier(random_state=42), n_jobs=1,\n",
       "             param_grid={&#x27;criterion&#x27;: [&#x27;entropy&#x27;, &#x27;gini&#x27;],\n",
       "                         &#x27;max_depth&#x27;: [15, 20],\n",
       "                         &#x27;max_features&#x27;: [&#x27;sqrt&#x27;, &#x27;log2&#x27;],\n",
       "                         &#x27;min_samples_leaf&#x27;: [4, 6],\n",
       "                         &#x27;min_samples_split&#x27;: [9, 14]},\n",
       "             scoring=&#x27;recall&#x27;)</pre></div></div></div><div class=\"sk-parallel\"><div class=\"sk-parallel-item\"><div class=\"sk-item\"><div class=\"sk-label-container\"><div class=\"sk-label sk-toggleable\"><input class=\"sk-toggleable__control sk-hidden--visually\" id=\"sk-estimator-id-2\" type=\"checkbox\" ><label for=\"sk-estimator-id-2\" class=\"sk-toggleable__label sk-toggleable__label-arrow\">estimator: RandomForestClassifier</label><div class=\"sk-toggleable__content\"><pre>RandomForestClassifier(random_state=42)</pre></div></div></div><div class=\"sk-serial\"><div class=\"sk-item\"><div class=\"sk-estimator sk-toggleable\"><input class=\"sk-toggleable__control sk-hidden--visually\" id=\"sk-estimator-id-3\" type=\"checkbox\" ><label for=\"sk-estimator-id-3\" class=\"sk-toggleable__label sk-toggleable__label-arrow\">RandomForestClassifier</label><div class=\"sk-toggleable__content\"><pre>RandomForestClassifier(random_state=42)</pre></div></div></div></div></div></div></div></div></div></div>"
      ],
      "text/plain": [
       "GridSearchCV(cv=5, estimator=RandomForestClassifier(random_state=42), n_jobs=1,\n",
       "             param_grid={'criterion': ['entropy', 'gini'],\n",
       "                         'max_depth': [15, 20],\n",
       "                         'max_features': ['sqrt', 'log2'],\n",
       "                         'min_samples_leaf': [4, 6],\n",
       "                         'min_samples_split': [9, 14]},\n",
       "             scoring='recall')"
      ]
     },
     "execution_count": 20,
     "metadata": {},
     "output_type": "execute_result"
    }
   ],
   "source": [
    "rf_clf = RandomForestClassifier(random_state = 42)\n",
    "\n",
    "rf_grid_recall = GridSearchCV(rf_clf, rf_param_grid, scoring='recall', cv=5,  n_jobs=1)\n",
    "\n",
    "rf_grid_recall.fit(X_train_resampled, y_train_resampled)"
   ]
  },
  {
   "cell_type": "code",
   "execution_count": 21,
   "id": "cff3ed71",
   "metadata": {},
   "outputs": [
    {
     "name": "stdout",
     "output_type": "stream",
     "text": [
      "Best Hyperparameters: {'criterion': 'entropy', 'max_depth': 20, 'max_features': 'sqrt', 'min_samples_leaf': 4, 'min_samples_split': 9}\n",
      "Accuracy: 0.8384554767533491\n",
      "Classification Report:\n",
      "               precision    recall  f1-score   support\n",
      "\n",
      "           0       0.95      0.81      0.87       867\n",
      "           1       0.68      0.91      0.78       402\n",
      "\n",
      "    accuracy                           0.84      1269\n",
      "   macro avg       0.82      0.86      0.83      1269\n",
      "weighted avg       0.87      0.84      0.84      1269\n",
      "\n",
      "Confusion Matrix:\n",
      " [[699 168]\n",
      " [ 37 365]]\n"
     ]
    }
   ],
   "source": [
    "# Get the best parameters from the grid search\n",
    "best_params_rf_recall = rf_grid_recall.best_params_\n",
    "print(\"Best Hyperparameters:\", best_params_rf_recall)\n",
    "\n",
    "# Get the best model from the random search\n",
    "best_model_rf_recall = rf_grid_recall.best_estimator_\n",
    "\n",
    "# Make predictions on the test set\n",
    "y_pred_rf_recall = best_model_rf_recall.predict(X_test)\n",
    "\n",
    "# Now we want to measure this model’s key metrics on the whole training set using Scikit-Learn’s metrics functions:\n",
    "print(\"Accuracy:\", accuracy_score(y_test, y_pred_rf_recall))\n",
    "print(\"Classification Report:\\n\", classification_report(y_test, y_pred_rf_recall))\n",
    "print(\"Confusion Matrix:\\n\", confusion_matrix(y_test, y_pred_rf_recall))"
   ]
  },
  {
   "cell_type": "code",
   "execution_count": null,
   "id": "d3924fde",
   "metadata": {},
   "outputs": [],
   "source": [
    "#Criterion\n",
    "criterion = [\"gini\", \"entropy\"]\n",
    "\n",
    "# Number of features to consider at every split\n",
    "max_features = ['sqrt','log2']\n",
    "\n",
    "# Maximum number of levels in tree\n",
    "max_depth = [15, 20]\n",
    "\n",
    "# Minimum number of samples required to split a node\n",
    "min_samples_split = [9, 14]\n",
    "\n",
    "# Minimum number of samples required at each leaf node\n",
    "min_samples_leaf = [4, 6]\n",
    "\n",
    "# Create the random grid\n",
    "rf_param_grid = {'max_features': max_features,\n",
    "               'max_depth': max_depth,\n",
    "               'min_samples_split': min_samples_split,\n",
    "               'min_samples_leaf': min_samples_leaf,\n",
    "              'criterion':['entropy','gini']}\n",
    "\n",
    "rf_clf = RandomForestClassifier(random_state = 42)\n",
    "\n",
    "rf_grid_recall = GridSearchCV(rf_clf, rf_param_grid, scoring='recall', cv=5,  n_jobs=-1)\n",
    "\n",
    "rf_grid_recall.fit(X_train_resampled, y_train_resampled)\n",
    "\n",
    "# Get the best parameters from the grid search\n",
    "best_params_rf_recall = rf_grid_recall.best_params_\n",
    "print(\"Best Hyperparameters:\", best_params_rf_recall)\n",
    "\n",
    "# Get the best model from the random search\n",
    "best_model_rf_recall = rf_grid_recall.best_estimator_\n",
    "\n",
    "# Make predictions on the test set\n",
    "y_pred_rf_recall = best_model_rf_recall.predict(X_test)\n",
    "\n",
    "# Now we want to measure this model’s key metrics on the whole training set using Scikit-Learn’s metrics functions:\n",
    "print(\"Accuracy:\", accuracy_score(y_test, y_pred_rf_recall))\n",
    "print(\"Classification Report:\\n\", classification_report(y_test, y_pred_rf_recall))\n",
    "print(\"Confusion Matrix:\\n\", confusion_matrix(y_test, y_pred_rf_recall))"
   ]
  },
  {
   "cell_type": "code",
   "execution_count": null,
   "id": "b99e05ba",
   "metadata": {},
   "outputs": [],
   "source": [
    "#Criterion\n",
    "criterion = [\"gini\", \"entropy\"]\n",
    "\n",
    "# Number of features to consider at every split\n",
    "max_features = ['sqrt','log2']\n",
    "\n",
    "# Maximum number of levels in tree\n",
    "max_depth = [25, 30]\n",
    "\n",
    "# Minimum number of samples required to split a node\n",
    "min_samples_split = [9, 14]\n",
    "\n",
    "# Minimum number of samples required at each leaf node\n",
    "min_samples_leaf = [4, 6]\n",
    "\n",
    "# Create the random grid\n",
    "rf_param_grid = {'max_features': max_features,\n",
    "               'max_depth': max_depth,\n",
    "               'min_samples_split': min_samples_split,\n",
    "               'min_samples_leaf': min_samples_leaf,\n",
    "               'criterion': criterion}\n",
    "\n",
    "rf_clf = RandomForestClassifier(random_state = 42)\n",
    "\n",
    "rf_grid = GridSearchCV(rf_clf, rf_param_grid, scoring='roc_auc', cv=5,  n_jobs=-1)\n",
    "\n",
    "rf_grid.fit(X_train_resampled, y_train_resampled)\n",
    "\n",
    "# Get the best parameters from the grid search\n",
    "best_params_rf_roc = rf_grid_recall.best_params_\n",
    "print(\"Best Hyperparameters:\", best_params_rf_roc)\n",
    "\n",
    "# Get the best model from the random search\n",
    "best_model_rf_roc = rf_grid.best_estimator_\n",
    "\n",
    "# Make predictions on the test set\n",
    "y_pred_rf_roc = best_model_rf_roc.predict(X_test)\n",
    "\n",
    "# Now we want to measure this model’s key metrics on the whole training set using Scikit-Learn’s metrics functions:\n",
    "print(\"Accuracy:\", accuracy_score(y_test, y_pred_rf_roc))\n",
    "print(\"Classification Report:\\n\", classification_report(y_test, y_pred_rf_roc))\n",
    "print(\"Confusion Matrix:\\n\", confusion_matrix(y_test, y_pred_rf_roc))"
   ]
  },
  {
   "cell_type": "markdown",
   "id": "36a1ce55",
   "metadata": {},
   "source": [
    "## Plotting ROC curve and calculating AUC for best models"
   ]
  },
  {
   "cell_type": "code",
   "execution_count": null,
   "id": "77aa917a",
   "metadata": {},
   "outputs": [],
   "source": [
    "# Log Regression\n",
    "# Predict probabilities for the positive HIV cases\n",
    "\n",
    "y_prob_log = log_clf_best_roc_auc.predict_proba(X_test)[:,1]\n",
    "\n",
    "# Compute ROC curve and AUC\n",
    "\n",
    "fpr_log, tpr_log, thresholds_log = roc_curve(y_test, y_prob_log)\n",
    "roc_auc_log = auc(fpr_log, tpr_log)\n",
    "\n",
    "# Decision Tree\n",
    "# Predict probabilities for the positive HIV cases\n",
    "\n",
    "y_prob_dt = dt_clf_roc.predict_proba(X_test)[:,1]\n",
    "\n",
    "# Compute ROC curve and AUC\n",
    "\n",
    "fpr_dt, tpr_dt, thresholds_dt = roc_curve(y_test, y_prob_dt)\n",
    "roc_auc_dt = auc(fpr_dt, tpr_dt)\n",
    "\n",
    "# Random Fores\n",
    "# Predict probabilities for the positive HIV cases\n",
    "\n",
    "y_prob_rf = best_model_rf_roc.predict_proba(X_test)[:,1]\n",
    "\n",
    "# Compute ROC curve and AUC\n",
    "\n",
    "fpr_rf, tpr_rf, thresholds_rf = roc_curve(y_test, y_prob_rf)\n",
    "roc_auc_rf = auc(fpr_rf, tpr_rf)"
   ]
  },
  {
   "cell_type": "code",
   "execution_count": null,
   "id": "e661d517",
   "metadata": {},
   "outputs": [],
   "source": [
    "# Plot ROC curve\n",
    "plt.figure(figsize=(8, 8))\n",
    "plt.plot(fpr_log, tpr_log, color='darkorange', lw=2, label='ROC curve for LR(area = {:.2f})'.format(roc_auc_log))\n",
    "plt.plot(fpr_dt, tpr_dt, color='red', lw=2, label='ROC curve for DT(area = {:.2f})'.format(roc_auc_dt))\n",
    "plt.plot(fpr_rf, tpr_rf, color='pink', lw=2, label='ROC curve for RF(area = {:.2f})'.format(roc_auc_rf))\n",
    "plt.plot([0, 1], [0, 1], color='navy', lw=2, linestyle='--', label='Random')\n",
    "plt.xlabel('False Positive Rate (FPR)')\n",
    "plt.ylabel('True Positive Rate (TPR)')\n",
    "plt.title('ROC Curves for Logistic Regression, Decision Tree and RF')\n",
    "plt.legend(loc='lower right')\n",
    "plt.show()"
   ]
  },
  {
   "cell_type": "markdown",
   "id": "2ca8107e",
   "metadata": {},
   "source": [
    "Based on the above ROC curves of three different models, Random Forest zClassifier is the most robust."
   ]
  },
  {
   "cell_type": "code",
   "execution_count": null,
   "id": "e14bc8b9",
   "metadata": {},
   "outputs": [],
   "source": [
    "# Log Regression\n",
    "# Predict probabilities for the positive HIV cases\n",
    "\n",
    "y_prob_log = log_clf_recall.predict_proba(X_test)[:,1]\n",
    "\n",
    "# Compute ROC curve and AUC\n",
    "\n",
    "fpr_log, tpr_log, thresholds_log = roc_curve(y_test, y_prob_log)\n",
    "roc_auc_log = auc(fpr_log, tpr_log)\n",
    "\n",
    "# Decision Tree\n",
    "# Predict probabilities for the positive HIV cases\n",
    "\n",
    "y_prob_dt = dt_clf_recall.predict_proba(X_test)[:,1]\n",
    "\n",
    "# Compute ROC curve and AUC\n",
    "\n",
    "fpr_dt, tpr_dt, thresholds_dt = roc_curve(y_test, y_prob_dt)\n",
    "roc_auc_dt = auc(fpr_dt, tpr_dt)\n",
    "\n",
    "# Random Fores\n",
    "# Predict probabilities for the positive HIV cases\n",
    "\n",
    "y_prob_rf = best_model_rf_recall.predict_proba(X_test)[:,1]\n",
    "\n",
    "# Compute ROC curve and AUC\n",
    "\n",
    "fpr_rf, tpr_rf, thresholds_rf = roc_curve(y_test, y_prob_rf)\n",
    "roc_auc_rf = auc(fpr_rf, tpr_rf)"
   ]
  },
  {
   "cell_type": "code",
   "execution_count": null,
   "id": "5ac2103d",
   "metadata": {},
   "outputs": [],
   "source": [
    "# Plot ROC curve\n",
    "plt.figure(figsize=(8, 8))\n",
    "plt.plot(fpr_log, tpr_log, color='darkorange', lw=2, label='ROC curve for LR(area = {:.2f})'.format(roc_auc_log))\n",
    "plt.plot(fpr_dt, tpr_dt, color='red', lw=2, label='ROC curve for DT(area = {:.2f})'.format(roc_auc_dt))\n",
    "plt.plot(fpr_rf, tpr_rf, color='pink', lw=2, label='ROC curve for RF(area = {:.2f})'.format(roc_auc_rf))\n",
    "plt.plot([0, 1], [0, 1], color='navy', lw=2, linestyle='--', label='Random')\n",
    "plt.xlabel('False Positive Rate (FPR)')\n",
    "plt.ylabel('True Positive Rate (TPR)')\n",
    "plt.title('ROC Curves for Logistic Regression, Decision Tree and RF')\n",
    "plt.legend(loc='lower right')\n",
    "plt.show()"
   ]
  },
  {
   "cell_type": "code",
   "execution_count": null,
   "id": "9c2c1fc5",
   "metadata": {},
   "outputs": [],
   "source": [
    "# Get feature importances\n",
    "feature_importance = best_model_rf_recall.feature_importances_\n",
    "\n",
    "# Get feature names\n",
    "feature_names = [f\"{i}\" for i in X_test.columns.to_list()]\n",
    "\n",
    "# Sort feature importances in descending order\n",
    "sorted_idx = feature_importance.argsort()[::-1]\n",
    "\n",
    "# Print the feature ranking\n",
    "print(\"Feature ranking:\")\n",
    "for i in range(X_test.shape[1]):\n",
    "    print(f\"{i + 1}. {feature_names[sorted_idx[i]]}: {feature_importance[sorted_idx[i]]}\")\n",
    "    \n",
    "# Plot the feature importances\n",
    "plt.figure(figsize=(10, 6))\n",
    "plt.bar(range(X_test.shape[1]), feature_importance[sorted_idx], align=\"center\")\n",
    "plt.xticks(range(X_test.shape[1]), [feature_names[i] for i in sorted_idx], rotation=90)\n",
    "plt.xlabel(\"Feature\")\n",
    "plt.ylabel(\"Importance\")\n",
    "plt.title(\"Feature Importance\")\n",
    "plt.show()"
   ]
  },
  {
   "cell_type": "markdown",
   "id": "eb0b75e5",
   "metadata": {},
   "source": [
    "The model based on optimizing recall for Random Forests is the most robust. Hence we dump it for Flask deployment."
   ]
  },
  {
   "cell_type": "code",
   "execution_count": 22,
   "id": "ad5e88b5",
   "metadata": {},
   "outputs": [],
   "source": [
    "import pickle\n",
    "with open('model.pkl', 'wb') as files:\n",
    "    pickle.dump(best_model_rf_recall, files)"
   ]
  }
 ],
 "metadata": {
  "kernelspec": {
   "display_name": "Python 3 (ipykernel)",
   "language": "python",
   "name": "python3"
  },
  "language_info": {
   "codemirror_mode": {
    "name": "ipython",
    "version": 3
   },
   "file_extension": ".py",
   "mimetype": "text/x-python",
   "name": "python",
   "nbconvert_exporter": "python",
   "pygments_lexer": "ipython3",
   "version": "3.9.13"
  }
 },
 "nbformat": 4,
 "nbformat_minor": 5
}
