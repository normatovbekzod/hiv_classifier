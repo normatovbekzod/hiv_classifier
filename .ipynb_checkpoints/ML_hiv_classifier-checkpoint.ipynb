{
 "cells": [
  {
   "cell_type": "code",
   "execution_count": 412,
   "id": "a4a242ec",
   "metadata": {},
   "outputs": [],
   "source": [
    "import pandas as pd\n",
    "import numpy as np\n",
    "from imblearn.over_sampling import SMOTE\n",
    "from sklearn.model_selection import train_test_split\n",
    "from sklearn.ensemble import RandomForestClassifier\n",
    "from sklearn.metrics import accuracy_score, classification_report, confusion_matrix, mean_squared_error"
   ]
  },
  {
   "cell_type": "markdown",
   "id": "d54004be",
   "metadata": {},
   "source": [
    "Loading data: Since I have several csv files I have to load them into pandas dfs and then concatenate them."
   ]
  },
  {
   "cell_type": "code",
   "execution_count": 413,
   "id": "27941594",
   "metadata": {},
   "outputs": [],
   "source": [
    "# Loading the data\n",
    "hiv_data = pd.read_csv(\"hiv_data.csv\")"
   ]
  },
  {
   "cell_type": "code",
   "execution_count": 414,
   "id": "50f28d6a",
   "metadata": {},
   "outputs": [
    {
     "data": {
      "text/html": [
       "<div>\n",
       "<style scoped>\n",
       "    .dataframe tbody tr th:only-of-type {\n",
       "        vertical-align: middle;\n",
       "    }\n",
       "\n",
       "    .dataframe tbody tr th {\n",
       "        vertical-align: top;\n",
       "    }\n",
       "\n",
       "    .dataframe thead th {\n",
       "        text-align: right;\n",
       "    }\n",
       "</style>\n",
       "<table border=\"1\" class=\"dataframe\">\n",
       "  <thead>\n",
       "    <tr style=\"text-align: right;\">\n",
       "      <th></th>\n",
       "      <th>gender</th>\n",
       "      <th>age</th>\n",
       "      <th>occupation</th>\n",
       "      <th>partner_count</th>\n",
       "      <th>condom_use_last_month</th>\n",
       "      <th>location</th>\n",
       "      <th>marital_status</th>\n",
       "      <th>educational_level</th>\n",
       "      <th>awareness_of_hiv</th>\n",
       "      <th>sex_last_month</th>\n",
       "      <th>drug_use</th>\n",
       "      <th>std_last_year</th>\n",
       "      <th>commercial_sex_last_year</th>\n",
       "      <th>hiv_test_last_year</th>\n",
       "      <th>hiv_test_result</th>\n",
       "    </tr>\n",
       "  </thead>\n",
       "  <tbody>\n",
       "    <tr>\n",
       "      <th>0</th>\n",
       "      <td>M</td>\n",
       "      <td>3(29-40)</td>\n",
       "      <td>healthcare worker</td>\n",
       "      <td>1</td>\n",
       "      <td>no</td>\n",
       "      <td>Tashkent city</td>\n",
       "      <td>married</td>\n",
       "      <td>college or above</td>\n",
       "      <td>yes</td>\n",
       "      <td>yes</td>\n",
       "      <td>no</td>\n",
       "      <td>no</td>\n",
       "      <td>no</td>\n",
       "      <td>yes</td>\n",
       "      <td>0</td>\n",
       "    </tr>\n",
       "    <tr>\n",
       "      <th>1</th>\n",
       "      <td>M</td>\n",
       "      <td>3(29-40)</td>\n",
       "      <td>healthcare worker</td>\n",
       "      <td>1</td>\n",
       "      <td>no</td>\n",
       "      <td>Namangan region</td>\n",
       "      <td>divorced or widowed</td>\n",
       "      <td>college or above</td>\n",
       "      <td>no</td>\n",
       "      <td>no</td>\n",
       "      <td>no</td>\n",
       "      <td>no</td>\n",
       "      <td>no</td>\n",
       "      <td>no</td>\n",
       "      <td>0</td>\n",
       "    </tr>\n",
       "    <tr>\n",
       "      <th>2</th>\n",
       "      <td>F</td>\n",
       "      <td>2(18-28)</td>\n",
       "      <td>other</td>\n",
       "      <td>1</td>\n",
       "      <td>no</td>\n",
       "      <td>Surkhandarya region</td>\n",
       "      <td>married</td>\n",
       "      <td>high school or lyceum</td>\n",
       "      <td>yes</td>\n",
       "      <td>no</td>\n",
       "      <td>no</td>\n",
       "      <td>no</td>\n",
       "      <td>no</td>\n",
       "      <td>yes</td>\n",
       "      <td>0</td>\n",
       "    </tr>\n",
       "    <tr>\n",
       "      <th>3</th>\n",
       "      <td>F</td>\n",
       "      <td>3(29-40)</td>\n",
       "      <td>healthcare worker</td>\n",
       "      <td>1</td>\n",
       "      <td>no</td>\n",
       "      <td>Syrdarya region</td>\n",
       "      <td>married</td>\n",
       "      <td>college or above</td>\n",
       "      <td>yes</td>\n",
       "      <td>yes</td>\n",
       "      <td>no</td>\n",
       "      <td>no</td>\n",
       "      <td>no</td>\n",
       "      <td>yes</td>\n",
       "      <td>0</td>\n",
       "    </tr>\n",
       "    <tr>\n",
       "      <th>4</th>\n",
       "      <td>M</td>\n",
       "      <td>2(18-28)</td>\n",
       "      <td>other</td>\n",
       "      <td>1</td>\n",
       "      <td>no</td>\n",
       "      <td>Bukhara region</td>\n",
       "      <td>married</td>\n",
       "      <td>high school or lyceum</td>\n",
       "      <td>yes</td>\n",
       "      <td>yes</td>\n",
       "      <td>no</td>\n",
       "      <td>no</td>\n",
       "      <td>no</td>\n",
       "      <td>no</td>\n",
       "      <td>0</td>\n",
       "    </tr>\n",
       "  </tbody>\n",
       "</table>\n",
       "</div>"
      ],
      "text/plain": [
       "  gender       age         occupation  partner_count condom_use_last_month  \\\n",
       "0      M  3(29-40)  healthcare worker              1                    no   \n",
       "1      M  3(29-40)  healthcare worker              1                    no   \n",
       "2      F  2(18-28)              other              1                    no   \n",
       "3      F  3(29-40)  healthcare worker              1                    no   \n",
       "4      M  2(18-28)              other              1                    no   \n",
       "\n",
       "              location       marital_status      educational_level  \\\n",
       "0        Tashkent city              married       college or above   \n",
       "1      Namangan region  divorced or widowed       college or above   \n",
       "2  Surkhandarya region              married  high school or lyceum   \n",
       "3      Syrdarya region              married       college or above   \n",
       "4       Bukhara region              married  high school or lyceum   \n",
       "\n",
       "  awareness_of_hiv sex_last_month drug_use std_last_year  \\\n",
       "0              yes            yes       no            no   \n",
       "1               no             no       no            no   \n",
       "2              yes             no       no            no   \n",
       "3              yes            yes       no            no   \n",
       "4              yes            yes       no            no   \n",
       "\n",
       "  commercial_sex_last_year hiv_test_last_year  hiv_test_result  \n",
       "0                       no                yes                0  \n",
       "1                       no                 no                0  \n",
       "2                       no                yes                0  \n",
       "3                       no                yes                0  \n",
       "4                       no                 no                0  "
      ]
     },
     "execution_count": 414,
     "metadata": {},
     "output_type": "execute_result"
    }
   ],
   "source": [
    "# Load top of the HIV data as well as info\n",
    "hiv_data.head()"
   ]
  },
  {
   "cell_type": "code",
   "execution_count": 415,
   "id": "7ab6d8cf",
   "metadata": {},
   "outputs": [
    {
     "name": "stdout",
     "output_type": "stream",
     "text": [
      "<class 'pandas.core.frame.DataFrame'>\n",
      "RangeIndex: 9978 entries, 0 to 9977\n",
      "Data columns (total 15 columns):\n",
      " #   Column                    Non-Null Count  Dtype \n",
      "---  ------                    --------------  ----- \n",
      " 0   gender                    9978 non-null   object\n",
      " 1   age                       9978 non-null   object\n",
      " 2   occupation                9978 non-null   object\n",
      " 3   partner_count             9978 non-null   int64 \n",
      " 4   condom_use_last_month     9978 non-null   object\n",
      " 5   location                  9978 non-null   object\n",
      " 6   marital_status            9978 non-null   object\n",
      " 7   educational_level         9978 non-null   object\n",
      " 8   awareness_of_hiv          9978 non-null   object\n",
      " 9   sex_last_month            9978 non-null   object\n",
      " 10  drug_use                  9978 non-null   object\n",
      " 11  std_last_year             9978 non-null   object\n",
      " 12  commercial_sex_last_year  9978 non-null   object\n",
      " 13  hiv_test_last_year        9978 non-null   object\n",
      " 14  hiv_test_result           9978 non-null   int64 \n",
      "dtypes: int64(2), object(13)\n",
      "memory usage: 1.1+ MB\n"
     ]
    }
   ],
   "source": [
    "hiv_data.info()"
   ]
  },
  {
   "cell_type": "code",
   "execution_count": 416,
   "id": "26abb514",
   "metadata": {},
   "outputs": [
    {
     "name": "stdout",
     "output_type": "stream",
     "text": [
      "Value counts for gender:\n",
      "M    5540\n",
      "F    4438\n",
      "Name: gender, dtype: int64\n",
      "\n",
      "\n",
      "Value counts for age:\n",
      "2(18-28)    5138\n",
      "3(29-40)    4058\n",
      "4(41-48)     687\n",
      "1(15-17)      57\n",
      "6(56-65)      20\n",
      "7(>66)         9\n",
      "5(49-55)       9\n",
      "Name: age, dtype: int64\n",
      "\n",
      "\n",
      "Value counts for occupation:\n",
      "other                4108\n",
      "healthcare worker    3369\n",
      "unemployed           1692\n",
      "sex worker            809\n",
      "Name: occupation, dtype: int64\n",
      "\n",
      "\n",
      "Value counts for condom_use_last_month:\n",
      "no       9451\n",
      "yes       272\n",
      "other     255\n",
      "Name: condom_use_last_month, dtype: int64\n",
      "\n",
      "\n",
      "Value counts for location:\n",
      "Tashkent city                 1545\n",
      "Tashkent region               1276\n",
      "Syrdarya region               1177\n",
      "Khorezm region                 905\n",
      "Andijan region                 862\n",
      "Samarkand region               671\n",
      "Ferghana region                651\n",
      "Surkhandarya region            577\n",
      "Jizzakh region                 503\n",
      "Namangan region                479\n",
      "Bukhara region                 439\n",
      "Kashkadarya region             301\n",
      "Republic of Karakalpakstan     300\n",
      "Navoi region                   292\n",
      "Name: location, dtype: int64\n",
      "\n",
      "\n",
      "Value counts for marital_status:\n",
      "married                6322\n",
      "divorced or widowed    2248\n",
      "cohabitation            941\n",
      "unmarried               467\n",
      "Name: marital_status, dtype: int64\n",
      "\n",
      "\n",
      "Value counts for educational_level:\n",
      "college or above         7019\n",
      "high school or lyceum    2340\n",
      "middle school             545\n",
      "primary school             55\n",
      "Illiterate                 19\n",
      "Name: educational_level, dtype: int64\n",
      "\n",
      "\n",
      "Value counts for awareness_of_hiv:\n",
      "yes    8524\n",
      "no     1454\n",
      "Name: awareness_of_hiv, dtype: int64\n",
      "\n",
      "\n",
      "Value counts for sex_last_month:\n",
      "no     6289\n",
      "yes    3689\n",
      "Name: sex_last_month, dtype: int64\n",
      "\n",
      "\n",
      "Value counts for drug_use:\n",
      "no     9442\n",
      "yes     536\n",
      "Name: drug_use, dtype: int64\n",
      "\n",
      "\n",
      "Value counts for std_last_year:\n",
      "no     9267\n",
      "yes     711\n",
      "Name: std_last_year, dtype: int64\n",
      "\n",
      "\n",
      "Value counts for commercial_sex_last_year:\n",
      "no     8924\n",
      "yes    1054\n",
      "Name: commercial_sex_last_year, dtype: int64\n",
      "\n",
      "\n",
      "Value counts for hiv_test_last_year:\n",
      "no     5731\n",
      "yes    4247\n",
      "Name: hiv_test_last_year, dtype: int64\n",
      "\n",
      "\n"
     ]
    }
   ],
   "source": [
    "# Get all columns with categorical data\n",
    "cat_columns = hiv_data.select_dtypes(include=['object']).columns\n",
    "\n",
    "# Loop through each categorical column and print value counts\n",
    "for column in cat_columns:\n",
    "    print(f\"Value counts for {column}:\")\n",
    "    print(hiv_data[column].value_counts())\n",
    "    print(\"\\n\")"
   ]
  },
  {
   "cell_type": "code",
   "execution_count": 417,
   "id": "d4927c74",
   "metadata": {},
   "outputs": [
    {
     "name": "stdout",
     "output_type": "stream",
     "text": [
      "Value counts for partner_count:\n",
      "1    8665\n",
      "3     570\n",
      "2     298\n",
      "4     244\n",
      "0     104\n",
      "5      97\n",
      "Name: partner_count, dtype: int64\n",
      "\n",
      "\n",
      "Value counts for hiv_test_result:\n",
      "0    7693\n",
      "1    2285\n",
      "Name: hiv_test_result, dtype: int64\n",
      "\n",
      "\n"
     ]
    }
   ],
   "source": [
    "# Get all columns with numerical data\n",
    "num_columns = hiv_data.select_dtypes(include=['int64']).columns\n",
    "\n",
    "# Loop through each categorical column and print value counts\n",
    "for column in num_columns:\n",
    "    print(f\"Value counts for {column}:\")\n",
    "    print(hiv_data[column].value_counts())\n",
    "    print(\"\\n\")"
   ]
  },
  {
   "cell_type": "markdown",
   "id": "89f309e3",
   "metadata": {},
   "source": [
    "## Data cleaning"
   ]
  },
  {
   "cell_type": "markdown",
   "id": "8ede65ac",
   "metadata": {},
   "source": [
    "First, we check for duplicates:"
   ]
  },
  {
   "cell_type": "code",
   "execution_count": 418,
   "id": "c584c4e4",
   "metadata": {},
   "outputs": [
    {
     "data": {
      "text/plain": [
       "0    3301\n",
       "1     332\n",
       "Name: hiv_test_result, dtype: int64"
      ]
     },
     "execution_count": 418,
     "metadata": {},
     "output_type": "execute_result"
    }
   ],
   "source": [
    "duplicates = hiv_data[hiv_data.duplicated()]\n",
    "duplicates[\"hiv_test_result\"].value_counts()"
   ]
  },
  {
   "cell_type": "markdown",
   "id": "4ad47cb7",
   "metadata": {},
   "source": [
    "As can be seen the number of hiv negative test result duplicates is a 10 times more than then number of hiv positive test result duplicates. This makes it possible to simply remove all the duplicates in the test survey as it will imporve the balance in the hiv test result class, which is currently very imbalanced."
   ]
  },
  {
   "cell_type": "code",
   "execution_count": 419,
   "id": "14f3b76d",
   "metadata": {},
   "outputs": [],
   "source": [
    "hiv_data_no_dupls = hiv_data.drop_duplicates().reset_index(drop=True)"
   ]
  },
  {
   "cell_type": "markdown",
   "id": "07c1bf0b",
   "metadata": {},
   "source": [
    "## Data processing"
   ]
  },
  {
   "cell_type": "markdown",
   "id": "b49b87ce",
   "metadata": {},
   "source": [
    "Based on the output of value counts for categorical data, we can convert a few variables into binary variables. We start with gender that we convert into binary variable (M to 1, F to 0)."
   ]
  },
  {
   "cell_type": "code",
   "execution_count": 420,
   "id": "20f56328",
   "metadata": {},
   "outputs": [
    {
     "data": {
      "text/html": [
       "<div>\n",
       "<style scoped>\n",
       "    .dataframe tbody tr th:only-of-type {\n",
       "        vertical-align: middle;\n",
       "    }\n",
       "\n",
       "    .dataframe tbody tr th {\n",
       "        vertical-align: top;\n",
       "    }\n",
       "\n",
       "    .dataframe thead th {\n",
       "        text-align: right;\n",
       "    }\n",
       "</style>\n",
       "<table border=\"1\" class=\"dataframe\">\n",
       "  <thead>\n",
       "    <tr style=\"text-align: right;\">\n",
       "      <th></th>\n",
       "      <th>gender</th>\n",
       "      <th>age</th>\n",
       "      <th>occupation</th>\n",
       "      <th>partner_count</th>\n",
       "      <th>condom_use_last_month</th>\n",
       "      <th>location</th>\n",
       "      <th>marital_status</th>\n",
       "      <th>educational_level</th>\n",
       "      <th>awareness_of_hiv</th>\n",
       "      <th>sex_last_month</th>\n",
       "      <th>drug_use</th>\n",
       "      <th>std_last_year</th>\n",
       "      <th>commercial_sex_last_year</th>\n",
       "      <th>hiv_test_last_year</th>\n",
       "      <th>hiv_test_result</th>\n",
       "    </tr>\n",
       "  </thead>\n",
       "  <tbody>\n",
       "    <tr>\n",
       "      <th>0</th>\n",
       "      <td>1</td>\n",
       "      <td>3(29-40)</td>\n",
       "      <td>healthcare worker</td>\n",
       "      <td>1</td>\n",
       "      <td>no</td>\n",
       "      <td>Tashkent city</td>\n",
       "      <td>married</td>\n",
       "      <td>college or above</td>\n",
       "      <td>yes</td>\n",
       "      <td>yes</td>\n",
       "      <td>no</td>\n",
       "      <td>no</td>\n",
       "      <td>no</td>\n",
       "      <td>yes</td>\n",
       "      <td>0</td>\n",
       "    </tr>\n",
       "    <tr>\n",
       "      <th>1</th>\n",
       "      <td>1</td>\n",
       "      <td>3(29-40)</td>\n",
       "      <td>healthcare worker</td>\n",
       "      <td>1</td>\n",
       "      <td>no</td>\n",
       "      <td>Namangan region</td>\n",
       "      <td>divorced or widowed</td>\n",
       "      <td>college or above</td>\n",
       "      <td>no</td>\n",
       "      <td>no</td>\n",
       "      <td>no</td>\n",
       "      <td>no</td>\n",
       "      <td>no</td>\n",
       "      <td>no</td>\n",
       "      <td>0</td>\n",
       "    </tr>\n",
       "    <tr>\n",
       "      <th>2</th>\n",
       "      <td>0</td>\n",
       "      <td>2(18-28)</td>\n",
       "      <td>other</td>\n",
       "      <td>1</td>\n",
       "      <td>no</td>\n",
       "      <td>Surkhandarya region</td>\n",
       "      <td>married</td>\n",
       "      <td>high school or lyceum</td>\n",
       "      <td>yes</td>\n",
       "      <td>no</td>\n",
       "      <td>no</td>\n",
       "      <td>no</td>\n",
       "      <td>no</td>\n",
       "      <td>yes</td>\n",
       "      <td>0</td>\n",
       "    </tr>\n",
       "    <tr>\n",
       "      <th>3</th>\n",
       "      <td>0</td>\n",
       "      <td>3(29-40)</td>\n",
       "      <td>healthcare worker</td>\n",
       "      <td>1</td>\n",
       "      <td>no</td>\n",
       "      <td>Syrdarya region</td>\n",
       "      <td>married</td>\n",
       "      <td>college or above</td>\n",
       "      <td>yes</td>\n",
       "      <td>yes</td>\n",
       "      <td>no</td>\n",
       "      <td>no</td>\n",
       "      <td>no</td>\n",
       "      <td>yes</td>\n",
       "      <td>0</td>\n",
       "    </tr>\n",
       "    <tr>\n",
       "      <th>4</th>\n",
       "      <td>1</td>\n",
       "      <td>2(18-28)</td>\n",
       "      <td>other</td>\n",
       "      <td>1</td>\n",
       "      <td>no</td>\n",
       "      <td>Bukhara region</td>\n",
       "      <td>married</td>\n",
       "      <td>high school or lyceum</td>\n",
       "      <td>yes</td>\n",
       "      <td>yes</td>\n",
       "      <td>no</td>\n",
       "      <td>no</td>\n",
       "      <td>no</td>\n",
       "      <td>no</td>\n",
       "      <td>0</td>\n",
       "    </tr>\n",
       "  </tbody>\n",
       "</table>\n",
       "</div>"
      ],
      "text/plain": [
       "   gender       age         occupation  partner_count condom_use_last_month  \\\n",
       "0       1  3(29-40)  healthcare worker              1                    no   \n",
       "1       1  3(29-40)  healthcare worker              1                    no   \n",
       "2       0  2(18-28)              other              1                    no   \n",
       "3       0  3(29-40)  healthcare worker              1                    no   \n",
       "4       1  2(18-28)              other              1                    no   \n",
       "\n",
       "              location       marital_status      educational_level  \\\n",
       "0        Tashkent city              married       college or above   \n",
       "1      Namangan region  divorced or widowed       college or above   \n",
       "2  Surkhandarya region              married  high school or lyceum   \n",
       "3      Syrdarya region              married       college or above   \n",
       "4       Bukhara region              married  high school or lyceum   \n",
       "\n",
       "  awareness_of_hiv sex_last_month drug_use std_last_year  \\\n",
       "0              yes            yes       no            no   \n",
       "1               no             no       no            no   \n",
       "2              yes             no       no            no   \n",
       "3              yes            yes       no            no   \n",
       "4              yes            yes       no            no   \n",
       "\n",
       "  commercial_sex_last_year hiv_test_last_year  hiv_test_result  \n",
       "0                       no                yes                0  \n",
       "1                       no                 no                0  \n",
       "2                       no                yes                0  \n",
       "3                       no                yes                0  \n",
       "4                       no                 no                0  "
      ]
     },
     "execution_count": 420,
     "metadata": {},
     "output_type": "execute_result"
    }
   ],
   "source": [
    "hiv_data_no_dupls['gender'].replace(to_replace=['M','F'], value=[1,0],inplace=True)\n",
    "hiv_data_no_dupls.head()"
   ]
  },
  {
   "cell_type": "markdown",
   "id": "daf23e87",
   "metadata": {},
   "source": [
    "We do the same for awareness_of_hiv, sex_last_month, drug_use, std_last_year, commercial_sex_last_year and hiv_test_last_year, where we replace 'yes' with 1, 'no' with 0."
   ]
  },
  {
   "cell_type": "code",
   "execution_count": 421,
   "id": "ee29724f",
   "metadata": {},
   "outputs": [
    {
     "data": {
      "text/html": [
       "<div>\n",
       "<style scoped>\n",
       "    .dataframe tbody tr th:only-of-type {\n",
       "        vertical-align: middle;\n",
       "    }\n",
       "\n",
       "    .dataframe tbody tr th {\n",
       "        vertical-align: top;\n",
       "    }\n",
       "\n",
       "    .dataframe thead th {\n",
       "        text-align: right;\n",
       "    }\n",
       "</style>\n",
       "<table border=\"1\" class=\"dataframe\">\n",
       "  <thead>\n",
       "    <tr style=\"text-align: right;\">\n",
       "      <th></th>\n",
       "      <th>gender</th>\n",
       "      <th>age</th>\n",
       "      <th>occupation</th>\n",
       "      <th>partner_count</th>\n",
       "      <th>condom_use_last_month</th>\n",
       "      <th>location</th>\n",
       "      <th>marital_status</th>\n",
       "      <th>educational_level</th>\n",
       "      <th>awareness_of_hiv</th>\n",
       "      <th>sex_last_month</th>\n",
       "      <th>drug_use</th>\n",
       "      <th>std_last_year</th>\n",
       "      <th>commercial_sex_last_year</th>\n",
       "      <th>hiv_test_last_year</th>\n",
       "      <th>hiv_test_result</th>\n",
       "    </tr>\n",
       "  </thead>\n",
       "  <tbody>\n",
       "    <tr>\n",
       "      <th>0</th>\n",
       "      <td>1</td>\n",
       "      <td>3(29-40)</td>\n",
       "      <td>healthcare worker</td>\n",
       "      <td>1</td>\n",
       "      <td>no</td>\n",
       "      <td>Tashkent city</td>\n",
       "      <td>married</td>\n",
       "      <td>college or above</td>\n",
       "      <td>1</td>\n",
       "      <td>1</td>\n",
       "      <td>0</td>\n",
       "      <td>0</td>\n",
       "      <td>0</td>\n",
       "      <td>1</td>\n",
       "      <td>0</td>\n",
       "    </tr>\n",
       "    <tr>\n",
       "      <th>1</th>\n",
       "      <td>1</td>\n",
       "      <td>3(29-40)</td>\n",
       "      <td>healthcare worker</td>\n",
       "      <td>1</td>\n",
       "      <td>no</td>\n",
       "      <td>Namangan region</td>\n",
       "      <td>divorced or widowed</td>\n",
       "      <td>college or above</td>\n",
       "      <td>0</td>\n",
       "      <td>0</td>\n",
       "      <td>0</td>\n",
       "      <td>0</td>\n",
       "      <td>0</td>\n",
       "      <td>0</td>\n",
       "      <td>0</td>\n",
       "    </tr>\n",
       "    <tr>\n",
       "      <th>2</th>\n",
       "      <td>0</td>\n",
       "      <td>2(18-28)</td>\n",
       "      <td>other</td>\n",
       "      <td>1</td>\n",
       "      <td>no</td>\n",
       "      <td>Surkhandarya region</td>\n",
       "      <td>married</td>\n",
       "      <td>high school or lyceum</td>\n",
       "      <td>1</td>\n",
       "      <td>0</td>\n",
       "      <td>0</td>\n",
       "      <td>0</td>\n",
       "      <td>0</td>\n",
       "      <td>1</td>\n",
       "      <td>0</td>\n",
       "    </tr>\n",
       "    <tr>\n",
       "      <th>3</th>\n",
       "      <td>0</td>\n",
       "      <td>3(29-40)</td>\n",
       "      <td>healthcare worker</td>\n",
       "      <td>1</td>\n",
       "      <td>no</td>\n",
       "      <td>Syrdarya region</td>\n",
       "      <td>married</td>\n",
       "      <td>college or above</td>\n",
       "      <td>1</td>\n",
       "      <td>1</td>\n",
       "      <td>0</td>\n",
       "      <td>0</td>\n",
       "      <td>0</td>\n",
       "      <td>1</td>\n",
       "      <td>0</td>\n",
       "    </tr>\n",
       "    <tr>\n",
       "      <th>4</th>\n",
       "      <td>1</td>\n",
       "      <td>2(18-28)</td>\n",
       "      <td>other</td>\n",
       "      <td>1</td>\n",
       "      <td>no</td>\n",
       "      <td>Bukhara region</td>\n",
       "      <td>married</td>\n",
       "      <td>high school or lyceum</td>\n",
       "      <td>1</td>\n",
       "      <td>1</td>\n",
       "      <td>0</td>\n",
       "      <td>0</td>\n",
       "      <td>0</td>\n",
       "      <td>0</td>\n",
       "      <td>0</td>\n",
       "    </tr>\n",
       "  </tbody>\n",
       "</table>\n",
       "</div>"
      ],
      "text/plain": [
       "   gender       age         occupation  partner_count condom_use_last_month  \\\n",
       "0       1  3(29-40)  healthcare worker              1                    no   \n",
       "1       1  3(29-40)  healthcare worker              1                    no   \n",
       "2       0  2(18-28)              other              1                    no   \n",
       "3       0  3(29-40)  healthcare worker              1                    no   \n",
       "4       1  2(18-28)              other              1                    no   \n",
       "\n",
       "              location       marital_status      educational_level  \\\n",
       "0        Tashkent city              married       college or above   \n",
       "1      Namangan region  divorced or widowed       college or above   \n",
       "2  Surkhandarya region              married  high school or lyceum   \n",
       "3      Syrdarya region              married       college or above   \n",
       "4       Bukhara region              married  high school or lyceum   \n",
       "\n",
       "   awareness_of_hiv  sex_last_month  drug_use  std_last_year  \\\n",
       "0                 1               1         0              0   \n",
       "1                 0               0         0              0   \n",
       "2                 1               0         0              0   \n",
       "3                 1               1         0              0   \n",
       "4                 1               1         0              0   \n",
       "\n",
       "   commercial_sex_last_year  hiv_test_last_year  hiv_test_result  \n",
       "0                         0                   1                0  \n",
       "1                         0                   0                0  \n",
       "2                         0                   1                0  \n",
       "3                         0                   1                0  \n",
       "4                         0                   0                0  "
      ]
     },
     "execution_count": 421,
     "metadata": {},
     "output_type": "execute_result"
    }
   ],
   "source": [
    "to_binary = ['awareness_of_hiv', 'sex_last_month', 'drug_use', 'std_last_year', 'commercial_sex_last_year', 'hiv_test_last_year']\n",
    "for col in to_binary:\n",
    "    hiv_data_no_dupls[col].replace(to_replace=['yes','no'], value=[1,0], inplace=True)\n",
    "\n",
    "hiv_data_no_dupls.head()"
   ]
  },
  {
   "cell_type": "markdown",
   "id": "53e0083a",
   "metadata": {},
   "source": [
    "Now, we are going to One-Hot encode the remaining nominal categorical variables, i.e., age, occupation, location, marital_status, educational_level and condom_use_last_month. We will use drop_first parameter in order to remove redundant dummy variables and avid the issue of multicollinearity."
   ]
  },
  {
   "cell_type": "code",
   "execution_count": 422,
   "id": "3d1f9907",
   "metadata": {},
   "outputs": [
    {
     "data": {
      "text/html": [
       "<div>\n",
       "<style scoped>\n",
       "    .dataframe tbody tr th:only-of-type {\n",
       "        vertical-align: middle;\n",
       "    }\n",
       "\n",
       "    .dataframe tbody tr th {\n",
       "        vertical-align: top;\n",
       "    }\n",
       "\n",
       "    .dataframe thead th {\n",
       "        text-align: right;\n",
       "    }\n",
       "</style>\n",
       "<table border=\"1\" class=\"dataframe\">\n",
       "  <thead>\n",
       "    <tr style=\"text-align: right;\">\n",
       "      <th></th>\n",
       "      <th>gender</th>\n",
       "      <th>partner_count</th>\n",
       "      <th>awareness_of_hiv</th>\n",
       "      <th>sex_last_month</th>\n",
       "      <th>drug_use</th>\n",
       "      <th>std_last_year</th>\n",
       "      <th>commercial_sex_last_year</th>\n",
       "      <th>hiv_test_last_year</th>\n",
       "      <th>hiv_test_result</th>\n",
       "      <th>age_2(18-28)</th>\n",
       "      <th>...</th>\n",
       "      <th>location_Tashkent region</th>\n",
       "      <th>marital_status_divorced or widowed</th>\n",
       "      <th>marital_status_married</th>\n",
       "      <th>marital_status_unmarried</th>\n",
       "      <th>educational_level_college or above</th>\n",
       "      <th>educational_level_high school or lyceum</th>\n",
       "      <th>educational_level_middle school</th>\n",
       "      <th>educational_level_primary school</th>\n",
       "      <th>condom_use_last_month_other</th>\n",
       "      <th>condom_use_last_month_yes</th>\n",
       "    </tr>\n",
       "  </thead>\n",
       "  <tbody>\n",
       "    <tr>\n",
       "      <th>0</th>\n",
       "      <td>1</td>\n",
       "      <td>1</td>\n",
       "      <td>1</td>\n",
       "      <td>1</td>\n",
       "      <td>0</td>\n",
       "      <td>0</td>\n",
       "      <td>0</td>\n",
       "      <td>1</td>\n",
       "      <td>0</td>\n",
       "      <td>0</td>\n",
       "      <td>...</td>\n",
       "      <td>0</td>\n",
       "      <td>0</td>\n",
       "      <td>1</td>\n",
       "      <td>0</td>\n",
       "      <td>1</td>\n",
       "      <td>0</td>\n",
       "      <td>0</td>\n",
       "      <td>0</td>\n",
       "      <td>0</td>\n",
       "      <td>0</td>\n",
       "    </tr>\n",
       "    <tr>\n",
       "      <th>1</th>\n",
       "      <td>1</td>\n",
       "      <td>1</td>\n",
       "      <td>0</td>\n",
       "      <td>0</td>\n",
       "      <td>0</td>\n",
       "      <td>0</td>\n",
       "      <td>0</td>\n",
       "      <td>0</td>\n",
       "      <td>0</td>\n",
       "      <td>0</td>\n",
       "      <td>...</td>\n",
       "      <td>0</td>\n",
       "      <td>1</td>\n",
       "      <td>0</td>\n",
       "      <td>0</td>\n",
       "      <td>1</td>\n",
       "      <td>0</td>\n",
       "      <td>0</td>\n",
       "      <td>0</td>\n",
       "      <td>0</td>\n",
       "      <td>0</td>\n",
       "    </tr>\n",
       "    <tr>\n",
       "      <th>2</th>\n",
       "      <td>0</td>\n",
       "      <td>1</td>\n",
       "      <td>1</td>\n",
       "      <td>0</td>\n",
       "      <td>0</td>\n",
       "      <td>0</td>\n",
       "      <td>0</td>\n",
       "      <td>1</td>\n",
       "      <td>0</td>\n",
       "      <td>1</td>\n",
       "      <td>...</td>\n",
       "      <td>0</td>\n",
       "      <td>0</td>\n",
       "      <td>1</td>\n",
       "      <td>0</td>\n",
       "      <td>0</td>\n",
       "      <td>1</td>\n",
       "      <td>0</td>\n",
       "      <td>0</td>\n",
       "      <td>0</td>\n",
       "      <td>0</td>\n",
       "    </tr>\n",
       "    <tr>\n",
       "      <th>3</th>\n",
       "      <td>0</td>\n",
       "      <td>1</td>\n",
       "      <td>1</td>\n",
       "      <td>1</td>\n",
       "      <td>0</td>\n",
       "      <td>0</td>\n",
       "      <td>0</td>\n",
       "      <td>1</td>\n",
       "      <td>0</td>\n",
       "      <td>0</td>\n",
       "      <td>...</td>\n",
       "      <td>0</td>\n",
       "      <td>0</td>\n",
       "      <td>1</td>\n",
       "      <td>0</td>\n",
       "      <td>1</td>\n",
       "      <td>0</td>\n",
       "      <td>0</td>\n",
       "      <td>0</td>\n",
       "      <td>0</td>\n",
       "      <td>0</td>\n",
       "    </tr>\n",
       "    <tr>\n",
       "      <th>4</th>\n",
       "      <td>1</td>\n",
       "      <td>1</td>\n",
       "      <td>1</td>\n",
       "      <td>1</td>\n",
       "      <td>0</td>\n",
       "      <td>0</td>\n",
       "      <td>0</td>\n",
       "      <td>0</td>\n",
       "      <td>0</td>\n",
       "      <td>1</td>\n",
       "      <td>...</td>\n",
       "      <td>0</td>\n",
       "      <td>0</td>\n",
       "      <td>1</td>\n",
       "      <td>0</td>\n",
       "      <td>0</td>\n",
       "      <td>1</td>\n",
       "      <td>0</td>\n",
       "      <td>0</td>\n",
       "      <td>0</td>\n",
       "      <td>0</td>\n",
       "    </tr>\n",
       "  </tbody>\n",
       "</table>\n",
       "<p>5 rows × 40 columns</p>\n",
       "</div>"
      ],
      "text/plain": [
       "   gender  partner_count  awareness_of_hiv  sex_last_month  drug_use  \\\n",
       "0       1              1                 1               1         0   \n",
       "1       1              1                 0               0         0   \n",
       "2       0              1                 1               0         0   \n",
       "3       0              1                 1               1         0   \n",
       "4       1              1                 1               1         0   \n",
       "\n",
       "   std_last_year  commercial_sex_last_year  hiv_test_last_year  \\\n",
       "0              0                         0                   1   \n",
       "1              0                         0                   0   \n",
       "2              0                         0                   1   \n",
       "3              0                         0                   1   \n",
       "4              0                         0                   0   \n",
       "\n",
       "   hiv_test_result  age_2(18-28)  ...  location_Tashkent region  \\\n",
       "0                0             0  ...                         0   \n",
       "1                0             0  ...                         0   \n",
       "2                0             1  ...                         0   \n",
       "3                0             0  ...                         0   \n",
       "4                0             1  ...                         0   \n",
       "\n",
       "   marital_status_divorced or widowed  marital_status_married  \\\n",
       "0                                   0                       1   \n",
       "1                                   1                       0   \n",
       "2                                   0                       1   \n",
       "3                                   0                       1   \n",
       "4                                   0                       1   \n",
       "\n",
       "   marital_status_unmarried  educational_level_college or above  \\\n",
       "0                         0                                   1   \n",
       "1                         0                                   1   \n",
       "2                         0                                   0   \n",
       "3                         0                                   1   \n",
       "4                         0                                   0   \n",
       "\n",
       "   educational_level_high school or lyceum  educational_level_middle school  \\\n",
       "0                                        0                                0   \n",
       "1                                        0                                0   \n",
       "2                                        1                                0   \n",
       "3                                        0                                0   \n",
       "4                                        1                                0   \n",
       "\n",
       "   educational_level_primary school  condom_use_last_month_other  \\\n",
       "0                                 0                            0   \n",
       "1                                 0                            0   \n",
       "2                                 0                            0   \n",
       "3                                 0                            0   \n",
       "4                                 0                            0   \n",
       "\n",
       "   condom_use_last_month_yes  \n",
       "0                          0  \n",
       "1                          0  \n",
       "2                          0  \n",
       "3                          0  \n",
       "4                          0  \n",
       "\n",
       "[5 rows x 40 columns]"
      ]
     },
     "execution_count": 422,
     "metadata": {},
     "output_type": "execute_result"
    }
   ],
   "source": [
    "hiv_data_enc = pd.get_dummies(hiv_data_no_dupls, columns=['age', 'occupation', 'location', 'marital_status', \n",
    "                                                 'educational_level', 'condom_use_last_month'],\n",
    "                             drop_first=True)\n",
    "hiv_data_enc.head()"
   ]
  },
  {
   "cell_type": "markdown",
   "id": "f5ac705d",
   "metadata": {},
   "source": [
    "We have only one column, 'partner_count', that we want to scale using MinMax scaling method. We know max=5, min=0, so we simply divide all values by 5: "
   ]
  },
  {
   "cell_type": "code",
   "execution_count": 423,
   "id": "9773a32c",
   "metadata": {},
   "outputs": [
    {
     "data": {
      "text/plain": [
       "0.2    5099\n",
       "0.6     527\n",
       "0.4     290\n",
       "0.8     230\n",
       "0.0     104\n",
       "1.0      95\n",
       "Name: partner_count, dtype: int64"
      ]
     },
     "execution_count": 423,
     "metadata": {},
     "output_type": "execute_result"
    }
   ],
   "source": [
    "hiv_data_enc['partner_count'] = hiv_data_enc['partner_count']/5\n",
    "hiv_data_enc['partner_count'].value_counts()"
   ]
  },
  {
   "cell_type": "markdown",
   "id": "9f6b4cfc",
   "metadata": {},
   "source": [
    "The data looks good for splitting and training."
   ]
  },
  {
   "cell_type": "markdown",
   "id": "9577ff6e",
   "metadata": {},
   "source": [
    "## Splitting into training and testing sets"
   ]
  },
  {
   "cell_type": "code",
   "execution_count": 424,
   "id": "df3431d8",
   "metadata": {},
   "outputs": [],
   "source": [
    "# Separate features (X) and target variable (y)\n",
    "X = hiv_data_enc.drop('hiv_test_result', axis=1)\n",
    "y = hiv_data_enc['hiv_test_result']\n",
    "\n",
    "# Split the data into training and testing sets\n",
    "X_train, X_test, y_train, y_test = train_test_split(X, y, test_size=0.2, random_state=42)"
   ]
  },
  {
   "cell_type": "code",
   "execution_count": 425,
   "id": "b6e327b7",
   "metadata": {},
   "outputs": [
    {
     "data": {
      "text/plain": [
       "0    3525\n",
       "1    1551\n",
       "Name: hiv_test_result, dtype: int64"
      ]
     },
     "execution_count": 425,
     "metadata": {},
     "output_type": "execute_result"
    }
   ],
   "source": [
    "y_train.value_counts()"
   ]
  },
  {
   "cell_type": "markdown",
   "id": "c365447a",
   "metadata": {},
   "source": [
    "Note that the target class, 'hiv_test_result', is imbalanced as the number of negative test results is 2.27 times more than the number of positive test results. In order to make the training set more balanced we use Synthetic Minority Over-sampling Technique (SMOTE) technique. This is important because our goal is to identify instances of HIV positive test results and in imbalanced datasets, a classifier might become biased towards the majority class and might not perform well in identifying instances of the minority class (in our case, HIV positive cases)."
   ]
  },
  {
   "cell_type": "code",
   "execution_count": 426,
   "id": "6f2d7b7d",
   "metadata": {},
   "outputs": [],
   "source": [
    "# Apply SMOTE to the training data\n",
    "smote = SMOTE(random_state=42)\n",
    "X_train_resampled, y_train_resampled = smote.fit_resample(X_train, y_train)"
   ]
  },
  {
   "cell_type": "code",
   "execution_count": 427,
   "id": "cf83cc36",
   "metadata": {},
   "outputs": [
    {
     "name": "stdout",
     "output_type": "stream",
     "text": [
      "Value counts before resampling:\n",
      " 0    3525\n",
      "1    1551\n",
      "Name: hiv_test_result, dtype: int64\n",
      "Value counts after resampling:\n",
      " 0    3525\n",
      "1    3525\n",
      "Name: hiv_test_result, dtype: int64\n"
     ]
    }
   ],
   "source": [
    "print(\"Value counts before resampling:\\n\", y_train.value_counts())\n",
    "print(\"Value counts after resampling:\\n\", y_train_resampled.value_counts())"
   ]
  },
  {
   "cell_type": "markdown",
   "id": "148845d9",
   "metadata": {},
   "source": [
    "# Building classifiers"
   ]
  },
  {
   "cell_type": "markdown",
   "id": "0dd0de60",
   "metadata": {},
   "source": [
    "We will consider the most known classifiers inlcuding Lagistic Regression, Decision Tree, Random Forest and SVM. We will optimize each model and then compare them using AUC of the ROC curve."
   ]
  },
  {
   "cell_type": "markdown",
   "id": "fbe6f8b4",
   "metadata": {},
   "source": [
    "## Logistic regression"
   ]
  },
  {
   "cell_type": "code",
   "execution_count": 279,
   "id": "296346fa",
   "metadata": {},
   "outputs": [],
   "source": [
    "from sklearn.linear_model import LogisticRegression\n",
    "from sklearn.metrics import roc_curve, auc\n",
    "import matplotlib.pyplot as plt"
   ]
  },
  {
   "cell_type": "code",
   "execution_count": 263,
   "id": "18b121e5",
   "metadata": {},
   "outputs": [],
   "source": [
    "log_clf =LogisticRegression()"
   ]
  },
  {
   "cell_type": "code",
   "execution_count": 264,
   "id": "ebc9eeb0",
   "metadata": {},
   "outputs": [
    {
     "data": {
      "text/plain": [
       "LogisticRegression()"
      ]
     },
     "execution_count": 264,
     "metadata": {},
     "output_type": "execute_result"
    }
   ],
   "source": [
    "log_clf.fit(X_train_resampled, y_train_resampled)"
   ]
  },
  {
   "cell_type": "code",
   "execution_count": 265,
   "id": "b4903baf",
   "metadata": {},
   "outputs": [
    {
     "name": "stdout",
     "output_type": "stream",
     "text": [
      "Predictions: [1 1 0 0 1 1 0 0 1 0]\n",
      "Test results: [0, 1, 0, 0, 1, 1, 0, 0, 1, 0]\n"
     ]
    }
   ],
   "source": [
    "# We now have a working Logistic Regression model. Let’s try it out on a few instances from the training set:\n",
    "\n",
    "some_data = X_train.iloc[:10]\n",
    "some_targets = y_train.iloc[:10]\n",
    "print(\"Predictions:\", log_clf.predict(some_data))\n",
    "print(\"Test results:\", list(some_targets))"
   ]
  },
  {
   "cell_type": "code",
   "execution_count": 284,
   "id": "24c42806",
   "metadata": {},
   "outputs": [
    {
     "name": "stdout",
     "output_type": "stream",
     "text": [
      "Accuracy: 0.8289992119779354\n",
      "Classification Report:\n",
      "               precision    recall  f1-score   support\n",
      "\n",
      "           0       0.92      0.82      0.87       867\n",
      "           1       0.69      0.84      0.76       402\n",
      "\n",
      "    accuracy                           0.83      1269\n",
      "   macro avg       0.80      0.83      0.81      1269\n",
      "weighted avg       0.85      0.83      0.83      1269\n",
      "\n",
      "Confusion Matrix:\n",
      " [[713 154]\n",
      " [ 63 339]]\n"
     ]
    }
   ],
   "source": [
    "# Now we want to measure this model’s key metrics on the whole testing set using Scikit-Learn’s metrics functions:\n",
    "\n",
    "hiv_results_predictions = log_clf.predict(X_test)\n",
    "print(\"Accuracy:\", accuracy_score(y_test, hiv_results_predictions))\n",
    "print(\"Classification Report:\\n\", classification_report(y_test, hiv_results_predictions))\n",
    "print(\"Confusion Matrix:\\n\", confusion_matrix(y_test, hiv_results_predictions))"
   ]
  },
  {
   "cell_type": "markdown",
   "id": "f0518124",
   "metadata": {},
   "source": [
    "The model has overall accuracy score of 0.82 and recall score for the HIV positive test results of 0.84. This is fairly good but we want to use grid search to find the best hyperparameters for this model."
   ]
  },
  {
   "cell_type": "markdown",
   "id": "325e1803",
   "metadata": {},
   "source": [
    "### Grid Search"
   ]
  },
  {
   "cell_type": "markdown",
   "id": "46364219",
   "metadata": {},
   "source": [
    "We define a grid of hyper-parameters for logistic regression."
   ]
  },
  {
   "cell_type": "code",
   "execution_count": 428,
   "id": "3e01d4d9",
   "metadata": {},
   "outputs": [],
   "source": [
    "from sklearn.model_selection import GridSearchCV\n",
    "from sklearn.metrics import make_scorer, recall_score"
   ]
  },
  {
   "cell_type": "code",
   "execution_count": 375,
   "id": "cbc71af5",
   "metadata": {},
   "outputs": [
    {
     "name": "stderr",
     "output_type": "stream",
     "text": [
      "C:\\Users\\user\\anaconda3\\lib\\site-packages\\sklearn\\model_selection\\_validation.py:372: FitFailedWarning: \n",
      "120 fits failed out of a total of 450.\n",
      "The score on these train-test partitions for these parameters will be set to nan.\n",
      "If these failures are not expected, you can try to debug them by setting error_score='raise'.\n",
      "\n",
      "Below are more details about the failures:\n",
      "--------------------------------------------------------------------------------\n",
      "30 fits failed with the following error:\n",
      "Traceback (most recent call last):\n",
      "  File \"C:\\Users\\user\\anaconda3\\lib\\site-packages\\sklearn\\model_selection\\_validation.py\", line 680, in _fit_and_score\n",
      "    estimator.fit(X_train, y_train, **fit_params)\n",
      "  File \"C:\\Users\\user\\anaconda3\\lib\\site-packages\\sklearn\\linear_model\\_logistic.py\", line 1461, in fit\n",
      "    solver = _check_solver(self.solver, self.penalty, self.dual)\n",
      "  File \"C:\\Users\\user\\anaconda3\\lib\\site-packages\\sklearn\\linear_model\\_logistic.py\", line 447, in _check_solver\n",
      "    raise ValueError(\n",
      "ValueError: Solver newton-cg supports only 'l2' or 'none' penalties, got l1 penalty.\n",
      "\n",
      "--------------------------------------------------------------------------------\n",
      "30 fits failed with the following error:\n",
      "Traceback (most recent call last):\n",
      "  File \"C:\\Users\\user\\anaconda3\\lib\\site-packages\\sklearn\\model_selection\\_validation.py\", line 680, in _fit_and_score\n",
      "    estimator.fit(X_train, y_train, **fit_params)\n",
      "  File \"C:\\Users\\user\\anaconda3\\lib\\site-packages\\sklearn\\linear_model\\_logistic.py\", line 1461, in fit\n",
      "    solver = _check_solver(self.solver, self.penalty, self.dual)\n",
      "  File \"C:\\Users\\user\\anaconda3\\lib\\site-packages\\sklearn\\linear_model\\_logistic.py\", line 447, in _check_solver\n",
      "    raise ValueError(\n",
      "ValueError: Solver lbfgs supports only 'l2' or 'none' penalties, got l1 penalty.\n",
      "\n",
      "--------------------------------------------------------------------------------\n",
      "30 fits failed with the following error:\n",
      "Traceback (most recent call last):\n",
      "  File \"C:\\Users\\user\\anaconda3\\lib\\site-packages\\sklearn\\model_selection\\_validation.py\", line 680, in _fit_and_score\n",
      "    estimator.fit(X_train, y_train, **fit_params)\n",
      "  File \"C:\\Users\\user\\anaconda3\\lib\\site-packages\\sklearn\\linear_model\\_logistic.py\", line 1461, in fit\n",
      "    solver = _check_solver(self.solver, self.penalty, self.dual)\n",
      "  File \"C:\\Users\\user\\anaconda3\\lib\\site-packages\\sklearn\\linear_model\\_logistic.py\", line 447, in _check_solver\n",
      "    raise ValueError(\n",
      "ValueError: Solver sag supports only 'l2' or 'none' penalties, got l1 penalty.\n",
      "\n",
      "--------------------------------------------------------------------------------\n",
      "30 fits failed with the following error:\n",
      "Traceback (most recent call last):\n",
      "  File \"C:\\Users\\user\\anaconda3\\lib\\site-packages\\sklearn\\model_selection\\_validation.py\", line 680, in _fit_and_score\n",
      "    estimator.fit(X_train, y_train, **fit_params)\n",
      "  File \"C:\\Users\\user\\anaconda3\\lib\\site-packages\\sklearn\\linear_model\\_logistic.py\", line 1461, in fit\n",
      "    solver = _check_solver(self.solver, self.penalty, self.dual)\n",
      "  File \"C:\\Users\\user\\anaconda3\\lib\\site-packages\\sklearn\\linear_model\\_logistic.py\", line 464, in _check_solver\n",
      "    raise ValueError(\"penalty='none' is not supported for the liblinear solver\")\n",
      "ValueError: penalty='none' is not supported for the liblinear solver\n",
      "\n",
      "  warnings.warn(some_fits_failed_message, FitFailedWarning)\n",
      "C:\\Users\\user\\anaconda3\\lib\\site-packages\\sklearn\\model_selection\\_search.py:969: UserWarning: One or more of the test scores are non-finite: [       nan        nan 0.                nan 0.4        0.77985816\n",
      " 0.77985816 0.79234043 0.77985816 0.77985816 0.88794326 0.88822695\n",
      "        nan 0.88794326 0.88794326        nan        nan 0.81815603\n",
      "        nan 0.81815603 0.87035461 0.87035461 0.87234043 0.87035461\n",
      " 0.87035461 0.88794326 0.88822695        nan 0.88794326 0.88794326\n",
      "        nan        nan 0.91801418        nan 0.91744681 0.90297872\n",
      " 0.90297872 0.90269504 0.90297872 0.90297872 0.88794326 0.88822695\n",
      "        nan 0.88794326 0.88794326        nan        nan 0.89446809\n",
      "        nan 0.89503546 0.89843972 0.89843972 0.89929078 0.89843972\n",
      " 0.89843972 0.88794326 0.88822695        nan 0.88794326 0.88794326\n",
      "        nan        nan 0.88907801        nan 0.88879433 0.88964539\n",
      " 0.88964539 0.89049645 0.88964539 0.88964539 0.88794326 0.88822695\n",
      "        nan 0.88794326 0.88794326        nan        nan 0.88822695\n",
      "        nan 0.88822695 0.88822695 0.88794326 0.88851064 0.88822695\n",
      " 0.88879433 0.88794326 0.88822695        nan 0.88794326 0.88794326]\n",
      "  warnings.warn(\n"
     ]
    },
    {
     "data": {
      "text/plain": [
       "GridSearchCV(cv=5, estimator=LogisticRegression(), n_jobs=-1,\n",
       "             param_grid={'C': [0.001, 0.01, 0.1, 1, 10, 100],\n",
       "                         'penalty': ['l1', 'l2', 'none'],\n",
       "                         'solver': ['newton-cg', 'lbfgs', 'liblinear', 'sag',\n",
       "                                    'saga']},\n",
       "             scoring=make_scorer(recall_score, pos_label=1))"
      ]
     },
     "execution_count": 375,
     "metadata": {},
     "output_type": "execute_result"
    }
   ],
   "source": [
    "logreg = LogisticRegression()\n",
    "\n",
    "# Define the hyperparameter grid to search\n",
    "param_grid = {\n",
    "    'penalty': ['l1', 'l2', 'none'],\n",
    "    'C': [0.001, 0.01, 0.1, 1, 10, 100],\n",
    "    'solver': ['newton-cg', 'lbfgs', 'liblinear', 'sag', 'saga']\n",
    "}\n",
    "\n",
    "# Define the scoring parameter as recall for class 1\n",
    "scorer = make_scorer(recall_score, pos_label=1)\n",
    "\n",
    "# Create GridSearchCV\n",
    "grid_search = GridSearchCV(logreg, param_grid, cv=5, scoring=scorer, n_jobs=-1)\n",
    "\n",
    "# Fit the grid search to the data\n",
    "grid_search.fit(X_train_resampled, y_train_resampled)"
   ]
  },
  {
   "cell_type": "code",
   "execution_count": 376,
   "id": "b2279ee1",
   "metadata": {},
   "outputs": [
    {
     "name": "stdout",
     "output_type": "stream",
     "text": [
      "Best Hyperparameters: {'C': 0.1, 'penalty': 'l1', 'solver': 'liblinear'}\n"
     ]
    }
   ],
   "source": [
    "# Print the best hyperparameters\n",
    "print(\"Best Hyperparameters:\", grid_search.best_params_)\n",
    "\n",
    "# Access the best estimator (model)\n",
    "log_clf_recall = grid_search.best_estimator_"
   ]
  },
  {
   "cell_type": "code",
   "execution_count": 377,
   "id": "7e5d569a",
   "metadata": {},
   "outputs": [
    {
     "name": "stdout",
     "output_type": "stream",
     "text": [
      "Accuracy: 0.8258471237194641\n",
      "Classification Report:\n",
      "               precision    recall  f1-score   support\n",
      "\n",
      "           0       0.93      0.81      0.86       867\n",
      "           1       0.68      0.86      0.76       402\n",
      "\n",
      "    accuracy                           0.83      1269\n",
      "   macro avg       0.80      0.84      0.81      1269\n",
      "weighted avg       0.85      0.83      0.83      1269\n",
      "\n",
      "Confusion Matrix:\n",
      " [[701 166]\n",
      " [ 55 347]]\n"
     ]
    }
   ],
   "source": [
    "# Now we want to measure this model’s key metrics on the whole testing set using Scikit-Learn’s metrics functions:\n",
    "\n",
    "hiv_results_predictions = log_clf_recall.predict(X_test)\n",
    "print(\"Accuracy:\", accuracy_score(y_test, hiv_results_predictions))\n",
    "print(\"Classification Report:\\n\", classification_report(y_test, hiv_results_predictions))\n",
    "print(\"Confusion Matrix:\\n\", confusion_matrix(y_test, hiv_results_predictions))"
   ]
  },
  {
   "cell_type": "markdown",
   "id": "bfde7900",
   "metadata": {},
   "source": [
    "Now, we want to do grid search based on a different scoring parameter - an roc_auc score for the positive class (HIV positive test results)."
   ]
  },
  {
   "cell_type": "code",
   "execution_count": 309,
   "id": "c1c30818",
   "metadata": {},
   "outputs": [
    {
     "name": "stderr",
     "output_type": "stream",
     "text": [
      "C:\\Users\\user\\anaconda3\\lib\\site-packages\\sklearn\\model_selection\\_validation.py:372: FitFailedWarning: \n",
      "120 fits failed out of a total of 450.\n",
      "The score on these train-test partitions for these parameters will be set to nan.\n",
      "If these failures are not expected, you can try to debug them by setting error_score='raise'.\n",
      "\n",
      "Below are more details about the failures:\n",
      "--------------------------------------------------------------------------------\n",
      "30 fits failed with the following error:\n",
      "Traceback (most recent call last):\n",
      "  File \"C:\\Users\\user\\anaconda3\\lib\\site-packages\\sklearn\\model_selection\\_validation.py\", line 680, in _fit_and_score\n",
      "    estimator.fit(X_train, y_train, **fit_params)\n",
      "  File \"C:\\Users\\user\\anaconda3\\lib\\site-packages\\sklearn\\linear_model\\_logistic.py\", line 1461, in fit\n",
      "    solver = _check_solver(self.solver, self.penalty, self.dual)\n",
      "  File \"C:\\Users\\user\\anaconda3\\lib\\site-packages\\sklearn\\linear_model\\_logistic.py\", line 447, in _check_solver\n",
      "    raise ValueError(\n",
      "ValueError: Solver newton-cg supports only 'l2' or 'none' penalties, got l1 penalty.\n",
      "\n",
      "--------------------------------------------------------------------------------\n",
      "30 fits failed with the following error:\n",
      "Traceback (most recent call last):\n",
      "  File \"C:\\Users\\user\\anaconda3\\lib\\site-packages\\sklearn\\model_selection\\_validation.py\", line 680, in _fit_and_score\n",
      "    estimator.fit(X_train, y_train, **fit_params)\n",
      "  File \"C:\\Users\\user\\anaconda3\\lib\\site-packages\\sklearn\\linear_model\\_logistic.py\", line 1461, in fit\n",
      "    solver = _check_solver(self.solver, self.penalty, self.dual)\n",
      "  File \"C:\\Users\\user\\anaconda3\\lib\\site-packages\\sklearn\\linear_model\\_logistic.py\", line 447, in _check_solver\n",
      "    raise ValueError(\n",
      "ValueError: Solver lbfgs supports only 'l2' or 'none' penalties, got l1 penalty.\n",
      "\n",
      "--------------------------------------------------------------------------------\n",
      "30 fits failed with the following error:\n",
      "Traceback (most recent call last):\n",
      "  File \"C:\\Users\\user\\anaconda3\\lib\\site-packages\\sklearn\\model_selection\\_validation.py\", line 680, in _fit_and_score\n",
      "    estimator.fit(X_train, y_train, **fit_params)\n",
      "  File \"C:\\Users\\user\\anaconda3\\lib\\site-packages\\sklearn\\linear_model\\_logistic.py\", line 1461, in fit\n",
      "    solver = _check_solver(self.solver, self.penalty, self.dual)\n",
      "  File \"C:\\Users\\user\\anaconda3\\lib\\site-packages\\sklearn\\linear_model\\_logistic.py\", line 447, in _check_solver\n",
      "    raise ValueError(\n",
      "ValueError: Solver sag supports only 'l2' or 'none' penalties, got l1 penalty.\n",
      "\n",
      "--------------------------------------------------------------------------------\n",
      "30 fits failed with the following error:\n",
      "Traceback (most recent call last):\n",
      "  File \"C:\\Users\\user\\anaconda3\\lib\\site-packages\\sklearn\\model_selection\\_validation.py\", line 680, in _fit_and_score\n",
      "    estimator.fit(X_train, y_train, **fit_params)\n",
      "  File \"C:\\Users\\user\\anaconda3\\lib\\site-packages\\sklearn\\linear_model\\_logistic.py\", line 1461, in fit\n",
      "    solver = _check_solver(self.solver, self.penalty, self.dual)\n",
      "  File \"C:\\Users\\user\\anaconda3\\lib\\site-packages\\sklearn\\linear_model\\_logistic.py\", line 464, in _check_solver\n",
      "    raise ValueError(\"penalty='none' is not supported for the liblinear solver\")\n",
      "ValueError: penalty='none' is not supported for the liblinear solver\n",
      "\n",
      "  warnings.warn(some_fits_failed_message, FitFailedWarning)\n",
      "C:\\Users\\user\\anaconda3\\lib\\site-packages\\sklearn\\model_selection\\_search.py:969: UserWarning: One or more of the test scores are non-finite: [       nan        nan 0.5               nan 0.5        0.84137458\n",
      " 0.84137538 0.84203169 0.8413774  0.84137257 0.92012957 0.92009778\n",
      "        nan 0.92010221 0.92007565        nan        nan 0.88233489\n",
      "        nan 0.88336804 0.88341029 0.88340546 0.8840002  0.88340949\n",
      " 0.88340989 0.92012957 0.92009778        nan 0.9201006  0.92007605\n",
      "        nan        nan 0.90938323        nan 0.90977355 0.91203179\n",
      " 0.91203098 0.91189819 0.9120338  0.91203179 0.92012957 0.92009778\n",
      "        nan 0.9201014  0.92007847        nan        nan 0.91933605\n",
      "        nan 0.9195133  0.91920165 0.91920447 0.9189578  0.91920286\n",
      " 0.91919843 0.92012957 0.92009778        nan 0.9201002  0.92007605\n",
      "        nan        nan 0.92001891        nan 0.92000724 0.91995453\n",
      " 0.91996016 0.91994688 0.91995413 0.91995493 0.92012957 0.92009778\n",
      "        nan 0.920101   0.92007726        nan        nan 0.92010663\n",
      "        nan 0.92007163 0.92008772 0.92010502 0.92008571 0.92008249\n",
      " 0.92006479 0.92012957 0.92009778        nan 0.92010261 0.92007686]\n",
      "  warnings.warn(\n",
      "C:\\Users\\user\\anaconda3\\lib\\site-packages\\sklearn\\linear_model\\_logistic.py:1483: UserWarning: Setting penalty='none' will ignore the C and l1_ratio parameters\n",
      "  warnings.warn(\n"
     ]
    },
    {
     "data": {
      "text/plain": [
       "GridSearchCV(cv=5, estimator=LogisticRegression(), n_jobs=-1,\n",
       "             param_grid={'C': [0.001, 0.01, 0.1, 1, 10, 100],\n",
       "                         'penalty': ['l1', 'l2', 'none'],\n",
       "                         'solver': ['newton-cg', 'lbfgs', 'liblinear', 'sag',\n",
       "                                    'saga']},\n",
       "             scoring='roc_auc')"
      ]
     },
     "execution_count": 309,
     "metadata": {},
     "output_type": "execute_result"
    }
   ],
   "source": [
    "from sklearn.metrics import make_scorer, roc_auc_score\n",
    "\n",
    "# Define the scoring parameter as roc_auc for the positive class\n",
    "#scorer = make_scorer(roc_auc_score, needs_proba=True, multi_class='ovr', labels=[1])\n",
    "\n",
    "# Create GridSearchCV\n",
    "grid_search_roc_auc = GridSearchCV(logreg, param_grid, cv=5, scoring='roc_auc', n_jobs=-1)\n",
    "\n",
    "# Fit the grid search to the data\n",
    "grid_search_roc_auc.fit(X_train_resampled, y_train_resampled)"
   ]
  },
  {
   "cell_type": "code",
   "execution_count": 310,
   "id": "a2247fe6",
   "metadata": {},
   "outputs": [
    {
     "name": "stdout",
     "output_type": "stream",
     "text": [
      "Best Hyperparameters: {'C': 0.001, 'penalty': 'none', 'solver': 'newton-cg'}\n"
     ]
    }
   ],
   "source": [
    "# Print the best hyperparameters\n",
    "print(\"Best Hyperparameters:\", grid_search_roc_auc.best_params_)\n",
    "\n",
    "# Access the best estimator (model)\n",
    "log_clf_best_roc_auc = grid_search_roc_auc.best_estimator_"
   ]
  },
  {
   "cell_type": "code",
   "execution_count": 311,
   "id": "f9848d85",
   "metadata": {},
   "outputs": [
    {
     "name": "stdout",
     "output_type": "stream",
     "text": [
      "Accuracy: 0.8274231678486997\n",
      "Classification Report:\n",
      "               precision    recall  f1-score   support\n",
      "\n",
      "           0       0.91      0.83      0.87       867\n",
      "           1       0.69      0.83      0.75       402\n",
      "\n",
      "    accuracy                           0.83      1269\n",
      "   macro avg       0.80      0.83      0.81      1269\n",
      "weighted avg       0.84      0.83      0.83      1269\n",
      "\n",
      "Confusion Matrix:\n",
      " [[717 150]\n",
      " [ 69 333]]\n"
     ]
    }
   ],
   "source": [
    "# Now we want to measure this model’s key metrics on the whole testing set using Scikit-Learn’s metrics functions:\n",
    "\n",
    "hiv_results_predictions = log_clf_best_roc_auc.predict(X_test)\n",
    "print(\"Accuracy:\", accuracy_score(y_test, hiv_results_predictions))\n",
    "print(\"Classification Report:\\n\", classification_report(y_test, hiv_results_predictions))\n",
    "print(\"Confusion Matrix:\\n\", confusion_matrix(y_test, hiv_results_predictions))"
   ]
  },
  {
   "cell_type": "markdown",
   "id": "7abede6c",
   "metadata": {},
   "source": [
    "We have three logistic regression models that all scored relatively similar scores in recall and accuracy. Since they all performed very similarly, we will choose the model that was optimized for the roc_auc score of the HIV positive test results, which is model log_clf_best_roc_auc."
   ]
  },
  {
   "cell_type": "markdown",
   "id": "2bb0a434",
   "metadata": {},
   "source": [
    "### Plotting ROC curve"
   ]
  },
  {
   "cell_type": "code",
   "execution_count": 312,
   "id": "e0e31dd8",
   "metadata": {},
   "outputs": [],
   "source": [
    "# Predict probabilities for the positive class (class 1)\n",
    "\n",
    "y_prob = log_clf_best_roc_auc.predict_proba(X_test)[:,1]"
   ]
  },
  {
   "cell_type": "code",
   "execution_count": 313,
   "id": "95f2b844",
   "metadata": {},
   "outputs": [
    {
     "data": {
      "image/png": "[encoded data removed]",
      "text/plain": [
       "<Figure size 500x500 with 1 Axes>"
      ]
     },
     "metadata": {},
     "output_type": "display_data"
    }
   ],
   "source": [
    "# Compute ROC curve and AUC\n",
    "fpr, tpr, thresholds = roc_curve(y_test, y_prob)\n",
    "roc_auc = auc(fpr, tpr)\n",
    "\n",
    "# Plot ROC curve\n",
    "plt.figure(figsize=(5, 5))\n",
    "plt.plot(fpr, tpr, color='darkorange', lw=2, label='ROC curve (area = {:.2f})'.format(roc_auc))\n",
    "plt.plot([0, 1], [0, 1], color='navy', lw=2, linestyle='--', label='Random')\n",
    "plt.xlabel('False Positive Rate (FPR)')\n",
    "plt.ylabel('True Positive Rate (TPR)')\n",
    "plt.title('ROC Curve for Logistic Regression')\n",
    "plt.legend(loc='lower right')\n",
    "plt.show()"
   ]
  },
  {
   "cell_type": "markdown",
   "id": "2d0c8f1c",
   "metadata": {},
   "source": [
    "The Logistic Regression based model does fairly well."
   ]
  },
  {
   "cell_type": "markdown",
   "id": "542cea66",
   "metadata": {},
   "source": [
    "## Decision tree"
   ]
  },
  {
   "cell_type": "code",
   "execution_count": 314,
   "id": "6ab60f31",
   "metadata": {},
   "outputs": [],
   "source": [
    "from sklearn.tree import DecisionTreeClassifier"
   ]
  },
  {
   "cell_type": "code",
   "execution_count": 315,
   "id": "c2aac863",
   "metadata": {},
   "outputs": [
    {
     "data": {
      "text/plain": [
       "DecisionTreeClassifier(random_state=42)"
      ]
     },
     "execution_count": 315,
     "metadata": {},
     "output_type": "execute_result"
    }
   ],
   "source": [
    "tree_clf = DecisionTreeClassifier(random_state=42)\n",
    "tree_clf.fit(X_train_resampled, y_train_resampled)"
   ]
  },
  {
   "cell_type": "code",
   "execution_count": 316,
   "id": "b1da05c0",
   "metadata": {},
   "outputs": [
    {
     "name": "stdout",
     "output_type": "stream",
     "text": [
      "Predictions: [0 1 0 0 0 1 0 1 1 0]\n",
      "Test results: [0, 1, 0, 0, 1, 1, 0, 0, 1, 0]\n"
     ]
    }
   ],
   "source": [
    "# We now have a working Decison Tree model. Let’s try it out on a few instances from the training set:\n",
    "\n",
    "some_data = X_train.iloc[:10]\n",
    "some_targets = y_train.iloc[:10]\n",
    "print(\"Predictions:\", tree_clf.predict(some_data))\n",
    "print(\"Test results:\", list(some_targets))"
   ]
  },
  {
   "cell_type": "code",
   "execution_count": 317,
   "id": "3b73fd4a",
   "metadata": {},
   "outputs": [
    {
     "name": "stdout",
     "output_type": "stream",
     "text": [
      "Accuracy: 0.7667454688731284\n",
      "Classification Report:\n",
      "               precision    recall  f1-score   support\n",
      "\n",
      "           0       0.84      0.81      0.83       867\n",
      "           1       0.62      0.67      0.65       402\n",
      "\n",
      "    accuracy                           0.77      1269\n",
      "   macro avg       0.73      0.74      0.74      1269\n",
      "weighted avg       0.77      0.77      0.77      1269\n",
      "\n",
      "Confusion Matrix:\n",
      " [[702 165]\n",
      " [131 271]]\n"
     ]
    }
   ],
   "source": [
    "# Now we want to measure this model’s key metrics on the whole testing set using Scikit-Learn’s metrics functions:\n",
    "\n",
    "hiv_results_predictions_tree = tree_clf.predict(X_test)\n",
    "print(\"Accuracy:\", accuracy_score(y_test, hiv_results_predictions_tree))\n",
    "print(\"Classification Report:\\n\", classification_report(y_test, hiv_results_predictions_tree))\n",
    "print(\"Confusion Matrix:\\n\", confusion_matrix(y_test, hiv_results_predictions_tree))"
   ]
  },
  {
   "cell_type": "markdown",
   "id": "3d37a4a5",
   "metadata": {},
   "source": [
    "### Fune-tuning hyperparameters of Decision Tree Classifier for the Highest Recall"
   ]
  },
  {
   "cell_type": "code",
   "execution_count": 430,
   "id": "523a3424",
   "metadata": {},
   "outputs": [],
   "source": [
    "# Use GridSearchCV for Hyper-Parameter Tuning for DecisionTreeClassifier\n",
    "\n",
    "#Criterion\n",
    "criterion = [\"gini\", \"entropy\"]\n",
    "\n",
    "#Splitter\n",
    "splitter = [\"best\", \"random\"]\n",
    "\n",
    "# Number of features to consider at every split\n",
    "max_features = ['auto', 'sqrt','log2']\n",
    "\n",
    "# Maximum number of levels in tree\n",
    "max_depth = [5, 15, 25, 35]\n",
    "\n",
    "# Minimum number of samples required to split a node\n",
    "min_samples_split = [2, 3, 4, 5, 7, 9]\n",
    "\n",
    "# Minimum number of samples required at each leaf node\n",
    "min_samples_leaf = [1, 2, 4, 6, 8]\n",
    "\n",
    "# Create the random grid\n",
    "dt_param_grid = {'splitter': splitter,\n",
    "               'max_features': max_features,\n",
    "               'max_depth': max_depth,\n",
    "               'min_samples_split': min_samples_split,\n",
    "               'min_samples_leaf': min_samples_leaf,\n",
    "              'criterion':['entropy','gini']}"
   ]
  },
  {
   "cell_type": "code",
   "execution_count": 431,
   "id": "c24204ab",
   "metadata": {},
   "outputs": [
    {
     "name": "stderr",
     "output_type": "stream",
     "text": [
      "exception calling callback for <Future at 0x1a5ad766760 state=finished raised BrokenProcessPool>\n",
      "joblib.externals.loky.process_executor._RemoteTraceback: \n",
      "\"\"\"\n",
      "Traceback (most recent call last):\n",
      "  File \"C:\\Users\\user\\anaconda3\\lib\\site-packages\\joblib\\externals\\loky\\process_executor.py\", line 391, in _process_worker\n",
      "    call_item = call_queue.get(block=True, timeout=timeout)\n",
      "  File \"C:\\Users\\user\\anaconda3\\lib\\multiprocessing\\queues.py\", line 122, in get\n",
      "    return _ForkingPickler.loads(res)\n",
      "AttributeError: Can't get attribute '_FuncWrapper' on <module 'sklearn.utils.fixes' from 'C:\\\\Users\\\\user\\\\anaconda3\\\\lib\\\\site-packages\\\\sklearn\\\\utils\\\\fixes.py'>\n",
      "\"\"\"\n",
      "\n",
      "The above exception was the direct cause of the following exception:\n",
      "\n",
      "Traceback (most recent call last):\n",
      "  File \"C:\\Users\\user\\anaconda3\\lib\\site-packages\\joblib\\externals\\loky\\_base.py\", line 26, in _invoke_callbacks\n",
      "    callback(self)\n",
      "  File \"C:\\Users\\user\\anaconda3\\lib\\site-packages\\joblib\\parallel.py\", line 385, in __call__\n",
      "    self.parallel.dispatch_next()\n",
      "  File \"C:\\Users\\user\\anaconda3\\lib\\site-packages\\joblib\\parallel.py\", line 834, in dispatch_next\n",
      "    if not self.dispatch_one_batch(self._original_iterator):\n",
      "  File \"C:\\Users\\user\\anaconda3\\lib\\site-packages\\joblib\\parallel.py\", line 901, in dispatch_one_batch\n",
      "    self._dispatch(tasks)\n",
      "  File \"C:\\Users\\user\\anaconda3\\lib\\site-packages\\joblib\\parallel.py\", line 819, in _dispatch\n",
      "    job = self._backend.apply_async(batch, callback=cb)\n",
      "  File \"C:\\Users\\user\\anaconda3\\lib\\site-packages\\joblib\\_parallel_backends.py\", line 556, in apply_async\n",
      "    future = self._workers.submit(SafeFunction(func))\n",
      "  File \"C:\\Users\\user\\anaconda3\\lib\\site-packages\\joblib\\externals\\loky\\reusable_executor.py\", line 176, in submit\n",
      "    return super().submit(fn, *args, **kwargs)\n",
      "  File \"C:\\Users\\user\\anaconda3\\lib\\site-packages\\joblib\\externals\\loky\\process_executor.py\", line 1129, in submit\n",
      "    raise self._flags.broken\n",
      "joblib.externals.loky.process_executor.BrokenProcessPool: A task has failed to un-serialize. Please ensure that the arguments of the function are all picklable.\n"
     ]
    },
    {
     "ename": "BrokenProcessPool",
     "evalue": "A task has failed to un-serialize. Please ensure that the arguments of the function are all picklable.",
     "output_type": "error",
     "traceback": [
      "\u001b[1;31m---------------------------------------------------------------------------\u001b[0m",
      "\u001b[1;31m_RemoteTraceback\u001b[0m                          Traceback (most recent call last)",
      "\u001b[1;31m_RemoteTraceback\u001b[0m: \n\"\"\"\nTraceback (most recent call last):\n  File \"C:\\Users\\user\\anaconda3\\lib\\site-packages\\joblib\\externals\\loky\\process_executor.py\", line 391, in _process_worker\n    call_item = call_queue.get(block=True, timeout=timeout)\n  File \"C:\\Users\\user\\anaconda3\\lib\\multiprocessing\\queues.py\", line 122, in get\n    return _ForkingPickler.loads(res)\nAttributeError: Can't get attribute '_FuncWrapper' on <module 'sklearn.utils.fixes' from 'C:\\\\Users\\\\user\\\\anaconda3\\\\lib\\\\site-packages\\\\sklearn\\\\utils\\\\fixes.py'>\n\"\"\"",
      "\nThe above exception was the direct cause of the following exception:\n",
      "\u001b[1;31mBrokenProcessPool\u001b[0m                         Traceback (most recent call last)",
      "\u001b[1;32m~\\AppData\\Local\\Temp\\ipykernel_5444\\1405809284.py\u001b[0m in \u001b[0;36m<module>\u001b[1;34m\u001b[0m\n\u001b[0;32m      4\u001b[0m \u001b[1;31m### fit the randomized model\u001b[0m\u001b[1;33m\u001b[0m\u001b[1;33m\u001b[0m\u001b[0m\n\u001b[0;32m      5\u001b[0m \u001b[1;33m\u001b[0m\u001b[0m\n\u001b[1;32m----> 6\u001b[1;33m \u001b[0mDT_grid_recall\u001b[0m\u001b[1;33m.\u001b[0m\u001b[0mfit\u001b[0m\u001b[1;33m(\u001b[0m\u001b[0mX_train_resampled\u001b[0m\u001b[1;33m,\u001b[0m \u001b[0my_train_resampled\u001b[0m\u001b[1;33m)\u001b[0m\u001b[1;33m\u001b[0m\u001b[1;33m\u001b[0m\u001b[0m\n\u001b[0m",
      "\u001b[1;32m~\\anaconda3\\lib\\site-packages\\sklearn\\model_selection\\_search.py\u001b[0m in \u001b[0;36mfit\u001b[1;34m(self, X, y, groups, **fit_params)\u001b[0m\n\u001b[0;32m    889\u001b[0m                         \u001b[0mall_more_results\u001b[0m\u001b[1;33m[\u001b[0m\u001b[0mkey\u001b[0m\u001b[1;33m]\u001b[0m\u001b[1;33m.\u001b[0m\u001b[0mextend\u001b[0m\u001b[1;33m(\u001b[0m\u001b[0mvalue\u001b[0m\u001b[1;33m)\u001b[0m\u001b[1;33m\u001b[0m\u001b[1;33m\u001b[0m\u001b[0m\n\u001b[0;32m    890\u001b[0m \u001b[1;33m\u001b[0m\u001b[0m\n\u001b[1;32m--> 891\u001b[1;33m                 \u001b[1;32mnonlocal\u001b[0m \u001b[0mresults\u001b[0m\u001b[1;33m\u001b[0m\u001b[1;33m\u001b[0m\u001b[0m\n\u001b[0m\u001b[0;32m    892\u001b[0m                 results = self._format_results(\n\u001b[0;32m    893\u001b[0m                     \u001b[0mall_candidate_params\u001b[0m\u001b[1;33m,\u001b[0m \u001b[0mn_splits\u001b[0m\u001b[1;33m,\u001b[0m \u001b[0mall_out\u001b[0m\u001b[1;33m,\u001b[0m \u001b[0mall_more_results\u001b[0m\u001b[1;33m\u001b[0m\u001b[1;33m\u001b[0m\u001b[0m\n",
      "\u001b[1;32m~\\anaconda3\\lib\\site-packages\\sklearn\\model_selection\\_search.py\u001b[0m in \u001b[0;36m_run_search\u001b[1;34m(self, evaluate_candidates)\u001b[0m\n\u001b[0;32m   1390\u001b[0m         \u001b[1;34m\"param_grid\"\u001b[0m\u001b[1;33m:\u001b[0m \u001b[1;33m[\u001b[0m\u001b[0mdict\u001b[0m\u001b[1;33m,\u001b[0m \u001b[0mlist\u001b[0m\u001b[1;33m]\u001b[0m\u001b[1;33m,\u001b[0m\u001b[1;33m\u001b[0m\u001b[1;33m\u001b[0m\u001b[0m\n\u001b[0;32m   1391\u001b[0m     }\n\u001b[1;32m-> 1392\u001b[1;33m \u001b[1;33m\u001b[0m\u001b[0m\n\u001b[0m\u001b[0;32m   1393\u001b[0m     def __init__(\n\u001b[0;32m   1394\u001b[0m         \u001b[0mself\u001b[0m\u001b[1;33m,\u001b[0m\u001b[1;33m\u001b[0m\u001b[1;33m\u001b[0m\u001b[0m\n",
      "\u001b[1;32m~\\anaconda3\\lib\\site-packages\\sklearn\\model_selection\\_search.py\u001b[0m in \u001b[0;36mevaluate_candidates\u001b[1;34m(candidate_params, cv, more_results)\u001b[0m\n\u001b[0;32m    836\u001b[0m \u001b[1;33m\u001b[0m\u001b[0m\n\u001b[0;32m    837\u001b[0m                 \u001b[1;32mif\u001b[0m \u001b[0mself\u001b[0m\u001b[1;33m.\u001b[0m\u001b[0mverbose\u001b[0m \u001b[1;33m>\u001b[0m \u001b[1;36m0\u001b[0m\u001b[1;33m:\u001b[0m\u001b[1;33m\u001b[0m\u001b[1;33m\u001b[0m\u001b[0m\n\u001b[1;32m--> 838\u001b[1;33m                     print(\n\u001b[0m\u001b[0;32m    839\u001b[0m                         \u001b[1;34m\"Fitting {0} folds for each of {1} candidates,\"\u001b[0m\u001b[1;33m\u001b[0m\u001b[1;33m\u001b[0m\u001b[0m\n\u001b[0;32m    840\u001b[0m                         \" totalling {2} fits\".format(\n",
      "\u001b[1;32m~\\anaconda3\\lib\\site-packages\\joblib\\parallel.py\u001b[0m in \u001b[0;36m__call__\u001b[1;34m(self, iterable)\u001b[0m\n\u001b[0;32m   1096\u001b[0m \u001b[1;33m\u001b[0m\u001b[0m\n\u001b[0;32m   1097\u001b[0m             \u001b[1;32mwith\u001b[0m \u001b[0mself\u001b[0m\u001b[1;33m.\u001b[0m\u001b[0m_backend\u001b[0m\u001b[1;33m.\u001b[0m\u001b[0mretrieval_context\u001b[0m\u001b[1;33m(\u001b[0m\u001b[1;33m)\u001b[0m\u001b[1;33m:\u001b[0m\u001b[1;33m\u001b[0m\u001b[1;33m\u001b[0m\u001b[0m\n\u001b[1;32m-> 1098\u001b[1;33m                 \u001b[0mself\u001b[0m\u001b[1;33m.\u001b[0m\u001b[0mretrieve\u001b[0m\u001b[1;33m(\u001b[0m\u001b[1;33m)\u001b[0m\u001b[1;33m\u001b[0m\u001b[1;33m\u001b[0m\u001b[0m\n\u001b[0m\u001b[0;32m   1099\u001b[0m             \u001b[1;31m# Make sure that we get a last message telling us we are done\u001b[0m\u001b[1;33m\u001b[0m\u001b[1;33m\u001b[0m\u001b[0m\n\u001b[0;32m   1100\u001b[0m             \u001b[0melapsed_time\u001b[0m \u001b[1;33m=\u001b[0m \u001b[0mtime\u001b[0m\u001b[1;33m.\u001b[0m\u001b[0mtime\u001b[0m\u001b[1;33m(\u001b[0m\u001b[1;33m)\u001b[0m \u001b[1;33m-\u001b[0m \u001b[0mself\u001b[0m\u001b[1;33m.\u001b[0m\u001b[0m_start_time\u001b[0m\u001b[1;33m\u001b[0m\u001b[1;33m\u001b[0m\u001b[0m\n",
      "\u001b[1;32m~\\anaconda3\\lib\\site-packages\\joblib\\parallel.py\u001b[0m in \u001b[0;36mretrieve\u001b[1;34m(self)\u001b[0m\n\u001b[0;32m    973\u001b[0m             \u001b[1;32mtry\u001b[0m\u001b[1;33m:\u001b[0m\u001b[1;33m\u001b[0m\u001b[1;33m\u001b[0m\u001b[0m\n\u001b[0;32m    974\u001b[0m                 \u001b[1;32mif\u001b[0m \u001b[0mgetattr\u001b[0m\u001b[1;33m(\u001b[0m\u001b[0mself\u001b[0m\u001b[1;33m.\u001b[0m\u001b[0m_backend\u001b[0m\u001b[1;33m,\u001b[0m \u001b[1;34m'supports_timeout'\u001b[0m\u001b[1;33m,\u001b[0m \u001b[1;32mFalse\u001b[0m\u001b[1;33m)\u001b[0m\u001b[1;33m:\u001b[0m\u001b[1;33m\u001b[0m\u001b[1;33m\u001b[0m\u001b[0m\n\u001b[1;32m--> 975\u001b[1;33m                     \u001b[0mself\u001b[0m\u001b[1;33m.\u001b[0m\u001b[0m_output\u001b[0m\u001b[1;33m.\u001b[0m\u001b[0mextend\u001b[0m\u001b[1;33m(\u001b[0m\u001b[0mjob\u001b[0m\u001b[1;33m.\u001b[0m\u001b[0mget\u001b[0m\u001b[1;33m(\u001b[0m\u001b[0mtimeout\u001b[0m\u001b[1;33m=\u001b[0m\u001b[0mself\u001b[0m\u001b[1;33m.\u001b[0m\u001b[0mtimeout\u001b[0m\u001b[1;33m)\u001b[0m\u001b[1;33m)\u001b[0m\u001b[1;33m\u001b[0m\u001b[1;33m\u001b[0m\u001b[0m\n\u001b[0m\u001b[0;32m    976\u001b[0m                 \u001b[1;32melse\u001b[0m\u001b[1;33m:\u001b[0m\u001b[1;33m\u001b[0m\u001b[1;33m\u001b[0m\u001b[0m\n\u001b[0;32m    977\u001b[0m                     \u001b[0mself\u001b[0m\u001b[1;33m.\u001b[0m\u001b[0m_output\u001b[0m\u001b[1;33m.\u001b[0m\u001b[0mextend\u001b[0m\u001b[1;33m(\u001b[0m\u001b[0mjob\u001b[0m\u001b[1;33m.\u001b[0m\u001b[0mget\u001b[0m\u001b[1;33m(\u001b[0m\u001b[1;33m)\u001b[0m\u001b[1;33m)\u001b[0m\u001b[1;33m\u001b[0m\u001b[1;33m\u001b[0m\u001b[0m\n",
      "\u001b[1;32m~\\anaconda3\\lib\\site-packages\\joblib\\_parallel_backends.py\u001b[0m in \u001b[0;36mwrap_future_result\u001b[1;34m(future, timeout)\u001b[0m\n\u001b[0;32m    565\u001b[0m         AsyncResults.get from multiprocessing.\"\"\"\n\u001b[0;32m    566\u001b[0m         \u001b[1;32mtry\u001b[0m\u001b[1;33m:\u001b[0m\u001b[1;33m\u001b[0m\u001b[1;33m\u001b[0m\u001b[0m\n\u001b[1;32m--> 567\u001b[1;33m             \u001b[1;32mreturn\u001b[0m \u001b[0mfuture\u001b[0m\u001b[1;33m.\u001b[0m\u001b[0mresult\u001b[0m\u001b[1;33m(\u001b[0m\u001b[0mtimeout\u001b[0m\u001b[1;33m=\u001b[0m\u001b[0mtimeout\u001b[0m\u001b[1;33m)\u001b[0m\u001b[1;33m\u001b[0m\u001b[1;33m\u001b[0m\u001b[0m\n\u001b[0m\u001b[0;32m    568\u001b[0m         \u001b[1;32mexcept\u001b[0m \u001b[0mCfTimeoutError\u001b[0m \u001b[1;32mas\u001b[0m \u001b[0me\u001b[0m\u001b[1;33m:\u001b[0m\u001b[1;33m\u001b[0m\u001b[1;33m\u001b[0m\u001b[0m\n\u001b[0;32m    569\u001b[0m             \u001b[1;32mraise\u001b[0m \u001b[0mTimeoutError\u001b[0m \u001b[1;32mfrom\u001b[0m \u001b[0me\u001b[0m\u001b[1;33m\u001b[0m\u001b[1;33m\u001b[0m\u001b[0m\n",
      "\u001b[1;32m~\\anaconda3\\lib\\concurrent\\futures\\_base.py\u001b[0m in \u001b[0;36mresult\u001b[1;34m(self, timeout)\u001b[0m\n\u001b[0;32m    444\u001b[0m                     \u001b[1;32mraise\u001b[0m \u001b[0mCancelledError\u001b[0m\u001b[1;33m(\u001b[0m\u001b[1;33m)\u001b[0m\u001b[1;33m\u001b[0m\u001b[1;33m\u001b[0m\u001b[0m\n\u001b[0;32m    445\u001b[0m                 \u001b[1;32melif\u001b[0m \u001b[0mself\u001b[0m\u001b[1;33m.\u001b[0m\u001b[0m_state\u001b[0m \u001b[1;33m==\u001b[0m \u001b[0mFINISHED\u001b[0m\u001b[1;33m:\u001b[0m\u001b[1;33m\u001b[0m\u001b[1;33m\u001b[0m\u001b[0m\n\u001b[1;32m--> 446\u001b[1;33m                     \u001b[1;32mreturn\u001b[0m \u001b[0mself\u001b[0m\u001b[1;33m.\u001b[0m\u001b[0m__get_result\u001b[0m\u001b[1;33m(\u001b[0m\u001b[1;33m)\u001b[0m\u001b[1;33m\u001b[0m\u001b[1;33m\u001b[0m\u001b[0m\n\u001b[0m\u001b[0;32m    447\u001b[0m                 \u001b[1;32melse\u001b[0m\u001b[1;33m:\u001b[0m\u001b[1;33m\u001b[0m\u001b[1;33m\u001b[0m\u001b[0m\n\u001b[0;32m    448\u001b[0m                     \u001b[1;32mraise\u001b[0m \u001b[0mTimeoutError\u001b[0m\u001b[1;33m(\u001b[0m\u001b[1;33m)\u001b[0m\u001b[1;33m\u001b[0m\u001b[1;33m\u001b[0m\u001b[0m\n",
      "\u001b[1;32m~\\anaconda3\\lib\\concurrent\\futures\\_base.py\u001b[0m in \u001b[0;36m__get_result\u001b[1;34m(self)\u001b[0m\n\u001b[0;32m    389\u001b[0m         \u001b[1;32mif\u001b[0m \u001b[0mself\u001b[0m\u001b[1;33m.\u001b[0m\u001b[0m_exception\u001b[0m\u001b[1;33m:\u001b[0m\u001b[1;33m\u001b[0m\u001b[1;33m\u001b[0m\u001b[0m\n\u001b[0;32m    390\u001b[0m             \u001b[1;32mtry\u001b[0m\u001b[1;33m:\u001b[0m\u001b[1;33m\u001b[0m\u001b[1;33m\u001b[0m\u001b[0m\n\u001b[1;32m--> 391\u001b[1;33m                 \u001b[1;32mraise\u001b[0m \u001b[0mself\u001b[0m\u001b[1;33m.\u001b[0m\u001b[0m_exception\u001b[0m\u001b[1;33m\u001b[0m\u001b[1;33m\u001b[0m\u001b[0m\n\u001b[0m\u001b[0;32m    392\u001b[0m             \u001b[1;32mfinally\u001b[0m\u001b[1;33m:\u001b[0m\u001b[1;33m\u001b[0m\u001b[1;33m\u001b[0m\u001b[0m\n\u001b[0;32m    393\u001b[0m                 \u001b[1;31m# Break a reference cycle with the exception in self._exception\u001b[0m\u001b[1;33m\u001b[0m\u001b[1;33m\u001b[0m\u001b[0m\n",
      "\u001b[1;32m~\\anaconda3\\lib\\site-packages\\joblib\\externals\\loky\\_base.py\u001b[0m in \u001b[0;36m_invoke_callbacks\u001b[1;34m(self)\u001b[0m\n\u001b[0;32m     24\u001b[0m         \u001b[1;32mfor\u001b[0m \u001b[0mcallback\u001b[0m \u001b[1;32min\u001b[0m \u001b[0mself\u001b[0m\u001b[1;33m.\u001b[0m\u001b[0m_done_callbacks\u001b[0m\u001b[1;33m:\u001b[0m\u001b[1;33m\u001b[0m\u001b[1;33m\u001b[0m\u001b[0m\n\u001b[0;32m     25\u001b[0m             \u001b[1;32mtry\u001b[0m\u001b[1;33m:\u001b[0m\u001b[1;33m\u001b[0m\u001b[1;33m\u001b[0m\u001b[0m\n\u001b[1;32m---> 26\u001b[1;33m                 \u001b[0mcallback\u001b[0m\u001b[1;33m(\u001b[0m\u001b[0mself\u001b[0m\u001b[1;33m)\u001b[0m\u001b[1;33m\u001b[0m\u001b[1;33m\u001b[0m\u001b[0m\n\u001b[0m\u001b[0;32m     27\u001b[0m             \u001b[1;32mexcept\u001b[0m \u001b[0mBaseException\u001b[0m\u001b[1;33m:\u001b[0m\u001b[1;33m\u001b[0m\u001b[1;33m\u001b[0m\u001b[0m\n\u001b[0;32m     28\u001b[0m                 \u001b[0mLOGGER\u001b[0m\u001b[1;33m.\u001b[0m\u001b[0mexception\u001b[0m\u001b[1;33m(\u001b[0m\u001b[1;34mf'exception calling callback for {self!r}'\u001b[0m\u001b[1;33m)\u001b[0m\u001b[1;33m\u001b[0m\u001b[1;33m\u001b[0m\u001b[0m\n",
      "\u001b[1;32m~\\anaconda3\\lib\\site-packages\\joblib\\parallel.py\u001b[0m in \u001b[0;36m__call__\u001b[1;34m(self, out)\u001b[0m\n\u001b[0;32m    383\u001b[0m         \u001b[1;32mwith\u001b[0m \u001b[0mself\u001b[0m\u001b[1;33m.\u001b[0m\u001b[0mparallel\u001b[0m\u001b[1;33m.\u001b[0m\u001b[0m_lock\u001b[0m\u001b[1;33m:\u001b[0m\u001b[1;33m\u001b[0m\u001b[1;33m\u001b[0m\u001b[0m\n\u001b[0;32m    384\u001b[0m             \u001b[1;32mif\u001b[0m \u001b[0mself\u001b[0m\u001b[1;33m.\u001b[0m\u001b[0mparallel\u001b[0m\u001b[1;33m.\u001b[0m\u001b[0m_original_iterator\u001b[0m \u001b[1;32mis\u001b[0m \u001b[1;32mnot\u001b[0m \u001b[1;32mNone\u001b[0m\u001b[1;33m:\u001b[0m\u001b[1;33m\u001b[0m\u001b[1;33m\u001b[0m\u001b[0m\n\u001b[1;32m--> 385\u001b[1;33m                 \u001b[0mself\u001b[0m\u001b[1;33m.\u001b[0m\u001b[0mparallel\u001b[0m\u001b[1;33m.\u001b[0m\u001b[0mdispatch_next\u001b[0m\u001b[1;33m(\u001b[0m\u001b[1;33m)\u001b[0m\u001b[1;33m\u001b[0m\u001b[1;33m\u001b[0m\u001b[0m\n\u001b[0m\u001b[0;32m    386\u001b[0m \u001b[1;33m\u001b[0m\u001b[0m\n\u001b[0;32m    387\u001b[0m \u001b[1;33m\u001b[0m\u001b[0m\n",
      "\u001b[1;32m~\\anaconda3\\lib\\site-packages\\joblib\\parallel.py\u001b[0m in \u001b[0;36mdispatch_next\u001b[1;34m(self)\u001b[0m\n\u001b[0;32m    832\u001b[0m \u001b[1;33m\u001b[0m\u001b[0m\n\u001b[0;32m    833\u001b[0m         \"\"\"\n\u001b[1;32m--> 834\u001b[1;33m         \u001b[1;32mif\u001b[0m \u001b[1;32mnot\u001b[0m \u001b[0mself\u001b[0m\u001b[1;33m.\u001b[0m\u001b[0mdispatch_one_batch\u001b[0m\u001b[1;33m(\u001b[0m\u001b[0mself\u001b[0m\u001b[1;33m.\u001b[0m\u001b[0m_original_iterator\u001b[0m\u001b[1;33m)\u001b[0m\u001b[1;33m:\u001b[0m\u001b[1;33m\u001b[0m\u001b[1;33m\u001b[0m\u001b[0m\n\u001b[0m\u001b[0;32m    835\u001b[0m             \u001b[0mself\u001b[0m\u001b[1;33m.\u001b[0m\u001b[0m_iterating\u001b[0m \u001b[1;33m=\u001b[0m \u001b[1;32mFalse\u001b[0m\u001b[1;33m\u001b[0m\u001b[1;33m\u001b[0m\u001b[0m\n\u001b[0;32m    836\u001b[0m             \u001b[0mself\u001b[0m\u001b[1;33m.\u001b[0m\u001b[0m_original_iterator\u001b[0m \u001b[1;33m=\u001b[0m \u001b[1;32mNone\u001b[0m\u001b[1;33m\u001b[0m\u001b[1;33m\u001b[0m\u001b[0m\n",
      "\u001b[1;32m~\\anaconda3\\lib\\site-packages\\joblib\\parallel.py\u001b[0m in \u001b[0;36mdispatch_one_batch\u001b[1;34m(self, iterator)\u001b[0m\n\u001b[0;32m    899\u001b[0m                 \u001b[1;32mreturn\u001b[0m \u001b[1;32mFalse\u001b[0m\u001b[1;33m\u001b[0m\u001b[1;33m\u001b[0m\u001b[0m\n\u001b[0;32m    900\u001b[0m             \u001b[1;32melse\u001b[0m\u001b[1;33m:\u001b[0m\u001b[1;33m\u001b[0m\u001b[1;33m\u001b[0m\u001b[0m\n\u001b[1;32m--> 901\u001b[1;33m                 \u001b[0mself\u001b[0m\u001b[1;33m.\u001b[0m\u001b[0m_dispatch\u001b[0m\u001b[1;33m(\u001b[0m\u001b[0mtasks\u001b[0m\u001b[1;33m)\u001b[0m\u001b[1;33m\u001b[0m\u001b[1;33m\u001b[0m\u001b[0m\n\u001b[0m\u001b[0;32m    902\u001b[0m                 \u001b[1;32mreturn\u001b[0m \u001b[1;32mTrue\u001b[0m\u001b[1;33m\u001b[0m\u001b[1;33m\u001b[0m\u001b[0m\n\u001b[0;32m    903\u001b[0m \u001b[1;33m\u001b[0m\u001b[0m\n",
      "\u001b[1;32m~\\anaconda3\\lib\\site-packages\\joblib\\parallel.py\u001b[0m in \u001b[0;36m_dispatch\u001b[1;34m(self, batch)\u001b[0m\n\u001b[0;32m    817\u001b[0m         \u001b[1;32mwith\u001b[0m \u001b[0mself\u001b[0m\u001b[1;33m.\u001b[0m\u001b[0m_lock\u001b[0m\u001b[1;33m:\u001b[0m\u001b[1;33m\u001b[0m\u001b[1;33m\u001b[0m\u001b[0m\n\u001b[0;32m    818\u001b[0m             \u001b[0mjob_idx\u001b[0m \u001b[1;33m=\u001b[0m \u001b[0mlen\u001b[0m\u001b[1;33m(\u001b[0m\u001b[0mself\u001b[0m\u001b[1;33m.\u001b[0m\u001b[0m_jobs\u001b[0m\u001b[1;33m)\u001b[0m\u001b[1;33m\u001b[0m\u001b[1;33m\u001b[0m\u001b[0m\n\u001b[1;32m--> 819\u001b[1;33m             \u001b[0mjob\u001b[0m \u001b[1;33m=\u001b[0m \u001b[0mself\u001b[0m\u001b[1;33m.\u001b[0m\u001b[0m_backend\u001b[0m\u001b[1;33m.\u001b[0m\u001b[0mapply_async\u001b[0m\u001b[1;33m(\u001b[0m\u001b[0mbatch\u001b[0m\u001b[1;33m,\u001b[0m \u001b[0mcallback\u001b[0m\u001b[1;33m=\u001b[0m\u001b[0mcb\u001b[0m\u001b[1;33m)\u001b[0m\u001b[1;33m\u001b[0m\u001b[1;33m\u001b[0m\u001b[0m\n\u001b[0m\u001b[0;32m    820\u001b[0m             \u001b[1;31m# A job can complete so quickly than its callback is\u001b[0m\u001b[1;33m\u001b[0m\u001b[1;33m\u001b[0m\u001b[0m\n\u001b[0;32m    821\u001b[0m             \u001b[1;31m# called before we get here, causing self._jobs to\u001b[0m\u001b[1;33m\u001b[0m\u001b[1;33m\u001b[0m\u001b[0m\n",
      "\u001b[1;32m~\\anaconda3\\lib\\site-packages\\joblib\\_parallel_backends.py\u001b[0m in \u001b[0;36mapply_async\u001b[1;34m(self, func, callback)\u001b[0m\n\u001b[0;32m    554\u001b[0m     \u001b[1;32mdef\u001b[0m \u001b[0mapply_async\u001b[0m\u001b[1;33m(\u001b[0m\u001b[0mself\u001b[0m\u001b[1;33m,\u001b[0m \u001b[0mfunc\u001b[0m\u001b[1;33m,\u001b[0m \u001b[0mcallback\u001b[0m\u001b[1;33m=\u001b[0m\u001b[1;32mNone\u001b[0m\u001b[1;33m)\u001b[0m\u001b[1;33m:\u001b[0m\u001b[1;33m\u001b[0m\u001b[1;33m\u001b[0m\u001b[0m\n\u001b[0;32m    555\u001b[0m         \u001b[1;34m\"\"\"Schedule a func to be run\"\"\"\u001b[0m\u001b[1;33m\u001b[0m\u001b[1;33m\u001b[0m\u001b[0m\n\u001b[1;32m--> 556\u001b[1;33m         \u001b[0mfuture\u001b[0m \u001b[1;33m=\u001b[0m \u001b[0mself\u001b[0m\u001b[1;33m.\u001b[0m\u001b[0m_workers\u001b[0m\u001b[1;33m.\u001b[0m\u001b[0msubmit\u001b[0m\u001b[1;33m(\u001b[0m\u001b[0mSafeFunction\u001b[0m\u001b[1;33m(\u001b[0m\u001b[0mfunc\u001b[0m\u001b[1;33m)\u001b[0m\u001b[1;33m)\u001b[0m\u001b[1;33m\u001b[0m\u001b[1;33m\u001b[0m\u001b[0m\n\u001b[0m\u001b[0;32m    557\u001b[0m         \u001b[0mfuture\u001b[0m\u001b[1;33m.\u001b[0m\u001b[0mget\u001b[0m \u001b[1;33m=\u001b[0m \u001b[0mfunctools\u001b[0m\u001b[1;33m.\u001b[0m\u001b[0mpartial\u001b[0m\u001b[1;33m(\u001b[0m\u001b[0mself\u001b[0m\u001b[1;33m.\u001b[0m\u001b[0mwrap_future_result\u001b[0m\u001b[1;33m,\u001b[0m \u001b[0mfuture\u001b[0m\u001b[1;33m)\u001b[0m\u001b[1;33m\u001b[0m\u001b[1;33m\u001b[0m\u001b[0m\n\u001b[0;32m    558\u001b[0m         \u001b[1;32mif\u001b[0m \u001b[0mcallback\u001b[0m \u001b[1;32mis\u001b[0m \u001b[1;32mnot\u001b[0m \u001b[1;32mNone\u001b[0m\u001b[1;33m:\u001b[0m\u001b[1;33m\u001b[0m\u001b[1;33m\u001b[0m\u001b[0m\n",
      "\u001b[1;32m~\\anaconda3\\lib\\site-packages\\joblib\\externals\\loky\\reusable_executor.py\u001b[0m in \u001b[0;36msubmit\u001b[1;34m(self, fn, *args, **kwargs)\u001b[0m\n\u001b[0;32m    174\u001b[0m     \u001b[1;32mdef\u001b[0m \u001b[0msubmit\u001b[0m\u001b[1;33m(\u001b[0m\u001b[0mself\u001b[0m\u001b[1;33m,\u001b[0m \u001b[0mfn\u001b[0m\u001b[1;33m,\u001b[0m \u001b[1;33m*\u001b[0m\u001b[0margs\u001b[0m\u001b[1;33m,\u001b[0m \u001b[1;33m**\u001b[0m\u001b[0mkwargs\u001b[0m\u001b[1;33m)\u001b[0m\u001b[1;33m:\u001b[0m\u001b[1;33m\u001b[0m\u001b[1;33m\u001b[0m\u001b[0m\n\u001b[0;32m    175\u001b[0m         \u001b[1;32mwith\u001b[0m \u001b[0mself\u001b[0m\u001b[1;33m.\u001b[0m\u001b[0m_submit_resize_lock\u001b[0m\u001b[1;33m:\u001b[0m\u001b[1;33m\u001b[0m\u001b[1;33m\u001b[0m\u001b[0m\n\u001b[1;32m--> 176\u001b[1;33m             \u001b[1;32mreturn\u001b[0m \u001b[0msuper\u001b[0m\u001b[1;33m(\u001b[0m\u001b[1;33m)\u001b[0m\u001b[1;33m.\u001b[0m\u001b[0msubmit\u001b[0m\u001b[1;33m(\u001b[0m\u001b[0mfn\u001b[0m\u001b[1;33m,\u001b[0m \u001b[1;33m*\u001b[0m\u001b[0margs\u001b[0m\u001b[1;33m,\u001b[0m \u001b[1;33m**\u001b[0m\u001b[0mkwargs\u001b[0m\u001b[1;33m)\u001b[0m\u001b[1;33m\u001b[0m\u001b[1;33m\u001b[0m\u001b[0m\n\u001b[0m\u001b[0;32m    177\u001b[0m \u001b[1;33m\u001b[0m\u001b[0m\n\u001b[0;32m    178\u001b[0m     \u001b[1;32mdef\u001b[0m \u001b[0m_resize\u001b[0m\u001b[1;33m(\u001b[0m\u001b[0mself\u001b[0m\u001b[1;33m,\u001b[0m \u001b[0mmax_workers\u001b[0m\u001b[1;33m)\u001b[0m\u001b[1;33m:\u001b[0m\u001b[1;33m\u001b[0m\u001b[1;33m\u001b[0m\u001b[0m\n",
      "\u001b[1;32m~\\anaconda3\\lib\\site-packages\\joblib\\externals\\loky\\process_executor.py\u001b[0m in \u001b[0;36msubmit\u001b[1;34m(self, fn, *args, **kwargs)\u001b[0m\n\u001b[0;32m   1127\u001b[0m         \u001b[1;32mwith\u001b[0m \u001b[0mself\u001b[0m\u001b[1;33m.\u001b[0m\u001b[0m_flags\u001b[0m\u001b[1;33m.\u001b[0m\u001b[0mshutdown_lock\u001b[0m\u001b[1;33m:\u001b[0m\u001b[1;33m\u001b[0m\u001b[1;33m\u001b[0m\u001b[0m\n\u001b[0;32m   1128\u001b[0m             \u001b[1;32mif\u001b[0m \u001b[0mself\u001b[0m\u001b[1;33m.\u001b[0m\u001b[0m_flags\u001b[0m\u001b[1;33m.\u001b[0m\u001b[0mbroken\u001b[0m \u001b[1;32mis\u001b[0m \u001b[1;32mnot\u001b[0m \u001b[1;32mNone\u001b[0m\u001b[1;33m:\u001b[0m\u001b[1;33m\u001b[0m\u001b[1;33m\u001b[0m\u001b[0m\n\u001b[1;32m-> 1129\u001b[1;33m                 \u001b[1;32mraise\u001b[0m \u001b[0mself\u001b[0m\u001b[1;33m.\u001b[0m\u001b[0m_flags\u001b[0m\u001b[1;33m.\u001b[0m\u001b[0mbroken\u001b[0m\u001b[1;33m\u001b[0m\u001b[1;33m\u001b[0m\u001b[0m\n\u001b[0m\u001b[0;32m   1130\u001b[0m             \u001b[1;32mif\u001b[0m \u001b[0mself\u001b[0m\u001b[1;33m.\u001b[0m\u001b[0m_flags\u001b[0m\u001b[1;33m.\u001b[0m\u001b[0mshutdown\u001b[0m\u001b[1;33m:\u001b[0m\u001b[1;33m\u001b[0m\u001b[1;33m\u001b[0m\u001b[0m\n\u001b[0;32m   1131\u001b[0m                 raise ShutdownExecutorError(\n",
      "\u001b[1;31mBrokenProcessPool\u001b[0m: A task has failed to un-serialize. Please ensure that the arguments of the function are all picklable."
     ]
    }
   ],
   "source": [
    "DT = DecisionTreeClassifier(random_state=100)\n",
    "\n",
    "DT_grid_recall = GridSearchCV(DT, dt_param_grid,scoring = 'recall', cv=5, n_jobs=-1)\n",
    "### fit the randomized model\n",
    "\n",
    "DT_grid_recall.fit(X_train_resampled, y_train_resampled)"
   ]
  },
  {
   "cell_type": "code",
   "execution_count": 380,
   "id": "5f07b36c",
   "metadata": {},
   "outputs": [
    {
     "name": "stdout",
     "output_type": "stream",
     "text": [
      "Best Hyperparameters: {'criterion': 'entropy', 'max_depth': 25, 'max_features': 'auto', 'min_samples_leaf': 6, 'min_samples_split': 2, 'splitter': 'random'}\n"
     ]
    }
   ],
   "source": [
    "# Get the best parameters from the grid search\n",
    "best_params_recall = DT_grid_recall.best_params_\n",
    "print(\"Best Hyperparameters:\", best_params_recall)\n",
    "\n",
    "# best decision tree classifier\n",
    "dt_clf_recall = DT_grid_recall.best_estimator_"
   ]
  },
  {
   "cell_type": "code",
   "execution_count": 352,
   "id": "0de0f115",
   "metadata": {},
   "outputs": [
    {
     "name": "stdout",
     "output_type": "stream",
     "text": [
      "Accuracy: 0.8053585500394012\n",
      "Classification Report:\n",
      "               precision    recall  f1-score   support\n",
      "\n",
      "           0       0.88      0.82      0.85       867\n",
      "           1       0.67      0.76      0.71       402\n",
      "\n",
      "    accuracy                           0.81      1269\n",
      "   macro avg       0.78      0.79      0.78      1269\n",
      "weighted avg       0.81      0.81      0.81      1269\n",
      "\n",
      "Confusion Matrix:\n",
      " [[715 152]\n",
      " [ 95 307]]\n"
     ]
    }
   ],
   "source": [
    "# Now we want to measure this model’s key metrics on the whole testing set using Scikit-Learn’s metrics functions:\n",
    "hiv_results_predictions_dt_recall = dt_clf_recall.predict(X_test)\n",
    "print(\"Accuracy:\", accuracy_score(y_test, hiv_results_predictions_dt_recall))\n",
    "print(\"Classification Report:\\n\", classification_report(y_test, hiv_results_predictions_dt_recall))\n",
    "print(\"Confusion Matrix:\\n\", confusion_matrix(y_test, hiv_results_predictions_dt_recall))"
   ]
  },
  {
   "cell_type": "code",
   "execution_count": 368,
   "id": "eed02221",
   "metadata": {},
   "outputs": [
    {
     "data": {
      "text/plain": [
       "GridSearchCV(cv=5, estimator=DecisionTreeClassifier(random_state=100),\n",
       "             n_jobs=-1,\n",
       "             param_grid={'criterion': ['entropy', 'gini'],\n",
       "                         'max_depth': [25, 30, 35, 40],\n",
       "                         'max_features': ['auto', 'sqrt', 'log2'],\n",
       "                         'min_samples_leaf': [1, 2, 4, 6, 8],\n",
       "                         'min_samples_split': [2, 3, 4, 5, 7, 9],\n",
       "                         'splitter': ['best', 'random']},\n",
       "             scoring='roc_auc')"
      ]
     },
     "execution_count": 368,
     "metadata": {},
     "output_type": "execute_result"
    }
   ],
   "source": [
    "DT = DecisionTreeClassifier(random_state=100)\n",
    "\n",
    "DT_roc = GridSearchCV(DT, dt_param_grid, scoring = 'roc_auc', cv=5, n_jobs=-1)\n",
    "### fit the randomized model\n",
    "DT_roc.fit(X_train_resampled, y_train_resampled)"
   ]
  },
  {
   "cell_type": "code",
   "execution_count": 369,
   "id": "28e62b5f",
   "metadata": {},
   "outputs": [
    {
     "name": "stdout",
     "output_type": "stream",
     "text": [
      "Best Hyperparameters: {'criterion': 'entropy', 'max_depth': 25, 'max_features': 'auto', 'min_samples_leaf': 6, 'min_samples_split': 2, 'splitter': 'random'}\n",
      "Accuracy: 0.8053585500394012\n",
      "Classification Report:\n",
      "               precision    recall  f1-score   support\n",
      "\n",
      "           0       0.88      0.82      0.85       867\n",
      "           1       0.67      0.76      0.71       402\n",
      "\n",
      "    accuracy                           0.81      1269\n",
      "   macro avg       0.78      0.79      0.78      1269\n",
      "weighted avg       0.81      0.81      0.81      1269\n",
      "\n",
      "Confusion Matrix:\n",
      " [[715 152]\n",
      " [ 95 307]]\n"
     ]
    }
   ],
   "source": [
    "# Get the best parameters from the grid search\n",
    "best_params_roc = DT_roc.best_params_\n",
    "print(\"Best Hyperparameters:\", best_params_roc)\n",
    "\n",
    "# best decision tree classifier\n",
    "dt_clf_roc = DT_roc.best_estimator_\n",
    "\n",
    "# Now we want to measure this model’s key metrics on the whole testing set using Scikit-Learn’s metrics functions:\n",
    "hiv_results_predictions_dt_roc = dt_clf_roc.predict(X_test)\n",
    "print(\"Accuracy:\", accuracy_score(y_test, hiv_results_predictions_dt_roc))\n",
    "print(\"Classification Report:\\n\", classification_report(y_test, hiv_results_predictions_dt_roc))\n",
    "print(\"Confusion Matrix:\\n\", confusion_matrix(y_test, hiv_results_predictions_dt_roc))"
   ]
  },
  {
   "cell_type": "markdown",
   "id": "a42b499f",
   "metadata": {},
   "source": [
    "It turns out the grid search optimized for recall score and roc_auc score result in the exact same best hyper-parameters, and hence, the same Decision Trree model. Based on the key scores, including the recall score for the HIV positive test results class and accuracy, the Decision Tree models are performing slightly worse than the Logistic Regression Model."
   ]
  },
  {
   "cell_type": "markdown",
   "id": "6e448e73",
   "metadata": {},
   "source": [
    "Now, I will test-dump this model into the .pkl file for Flask deployment"
   ]
  },
  {
   "cell_type": "markdown",
   "id": "79861df3",
   "metadata": {},
   "source": [
    "## Random Forest Classifier"
   ]
  },
  {
   "cell_type": "code",
   "execution_count": 429,
   "id": "44ff6b58",
   "metadata": {},
   "outputs": [
    {
     "name": "stdout",
     "output_type": "stream",
     "text": [
      "Accuracy: 0.7959022852639874\n",
      "Classification Report:\n",
      "               precision    recall  f1-score   support\n",
      "\n",
      "           0       0.89      0.79      0.84       867\n",
      "           1       0.64      0.80      0.71       402\n",
      "\n",
      "    accuracy                           0.80      1269\n",
      "   macro avg       0.77      0.80      0.78      1269\n",
      "weighted avg       0.82      0.80      0.80      1269\n",
      "\n",
      "Confusion Matrix:\n",
      " [[689 178]\n",
      " [ 81 321]]\n"
     ]
    }
   ],
   "source": [
    "from sklearn.ensemble import RandomForestClassifier\n",
    "\n",
    "# Create a RandomForestClassifier\n",
    "rf_clf = RandomForestClassifier(random_state=42)\n",
    "\n",
    "# Fit the model to the training data\n",
    "rf_clf.fit(X_train_resampled, y_train_resampled)\n",
    "\n",
    "# Make predictions on the test set\n",
    "y_pred_rf = rf_clf.predict(X_test)\n",
    "\n",
    "# Now we want to measure this model’s key metrics on the testing set using Scikit-Learn’s metrics functions:\n",
    "print(\"Accuracy:\", accuracy_score(y_test, y_pred_rf))\n",
    "print(\"Classification Report:\\n\", classification_report(y_test, y_pred_rf))\n",
    "print(\"Confusion Matrix:\\n\", confusion_matrix(y_test, y_pred_rf))"
   ]
  },
  {
   "cell_type": "markdown",
   "id": "88b8ab98",
   "metadata": {},
   "source": [
    "### Fune-tuning hyperparameters of Random Forest Classifier for the Highest Recall"
   ]
  },
  {
   "cell_type": "code",
   "execution_count": 432,
   "id": "f7556974",
   "metadata": {},
   "outputs": [],
   "source": [
    "#Criterion\n",
    "criterion = [\"gini\", \"entropy\"]\n",
    "\n",
    "# Number of features to consider at every split\n",
    "max_features = ['sqrt','log2']\n",
    "\n",
    "# Maximum number of levels in tree\n",
    "max_depth = [15, 20]\n",
    "\n",
    "# Minimum number of samples required to split a node\n",
    "min_samples_split = [9, 14]\n",
    "\n",
    "# Minimum number of samples required at each leaf node\n",
    "min_samples_leaf = [4, 6]\n",
    "\n",
    "# Create the random grid\n",
    "rf_param_grid = {'max_features': max_features,\n",
    "               'max_depth': max_depth,\n",
    "               'min_samples_split': min_samples_split,\n",
    "               'min_samples_leaf': min_samples_leaf,\n",
    "              'criterion':['entropy','gini']}"
   ]
  },
  {
   "cell_type": "code",
   "execution_count": 434,
   "id": "7a31c110",
   "metadata": {},
   "outputs": [
    {
     "data": {
      "text/plain": [
       "GridSearchCV(cv=5, estimator=RandomForestClassifier(random_state=42), n_jobs=1,\n",
       "             param_grid={'criterion': ['entropy', 'gini'],\n",
       "                         'max_depth': [15, 20],\n",
       "                         'max_features': ['sqrt', 'log2'],\n",
       "                         'min_samples_leaf': [4, 6],\n",
       "                         'min_samples_split': [9, 14]},\n",
       "             scoring='recall')"
      ]
     },
     "execution_count": 434,
     "metadata": {},
     "output_type": "execute_result"
    }
   ],
   "source": [
    "rf_clf = RandomForestClassifier(random_state = 42)\n",
    "\n",
    "rf_grid_recall = GridSearchCV(rf_clf, rf_param_grid, scoring='recall', cv=5,  n_jobs=1)\n",
    "\n",
    "rf_grid_recall.fit(X_train_resampled, y_train_resampled)"
   ]
  },
  {
   "cell_type": "code",
   "execution_count": 435,
   "id": "cff3ed71",
   "metadata": {},
   "outputs": [
    {
     "name": "stdout",
     "output_type": "stream",
     "text": [
      "Best Hyperparameters: {'criterion': 'entropy', 'max_depth': 20, 'max_features': 'sqrt', 'min_samples_leaf': 4, 'min_samples_split': 14}\n",
      "Accuracy: 0.8392434988179669\n",
      "Classification Report:\n",
      "               precision    recall  f1-score   support\n",
      "\n",
      "           0       0.95      0.81      0.87       867\n",
      "           1       0.69      0.91      0.78       402\n",
      "\n",
      "    accuracy                           0.84      1269\n",
      "   macro avg       0.82      0.86      0.83      1269\n",
      "weighted avg       0.87      0.84      0.84      1269\n",
      "\n",
      "Confusion Matrix:\n",
      " [[701 166]\n",
      " [ 38 364]]\n"
     ]
    }
   ],
   "source": [
    "# Get the best parameters from the grid search\n",
    "best_params_rf_recall = rf_grid_recall.best_params_\n",
    "print(\"Best Hyperparameters:\", best_params_rf_recall)\n",
    "\n",
    "# Get the best model from the random search\n",
    "best_model_rf_recall = rf_grid_recall.best_estimator_\n",
    "\n",
    "# Make predictions on the test set\n",
    "y_pred_rf_recall = best_model_rf_recall.predict(X_test)\n",
    "\n",
    "# Now we want to measure this model’s key metrics on the whole training set using Scikit-Learn’s metrics functions:\n",
    "print(\"Accuracy:\", accuracy_score(y_test, y_pred_rf_recall))\n",
    "print(\"Classification Report:\\n\", classification_report(y_test, y_pred_rf_recall))\n",
    "print(\"Confusion Matrix:\\n\", confusion_matrix(y_test, y_pred_rf_recall))"
   ]
  },
  {
   "cell_type": "code",
   "execution_count": 361,
   "id": "4c953cce",
   "metadata": {},
   "outputs": [
    {
     "name": "stdout",
     "output_type": "stream",
     "text": [
      "Best Hyperparameters: {'criterion': 'entropy', 'max_depth': 20, 'max_features': 'sqrt', 'min_samples_leaf': 4, 'min_samples_split': 14}\n",
      "Accuracy: 0.8392434988179669\n",
      "Classification Report:\n",
      "               precision    recall  f1-score   support\n",
      "\n",
      "           0       0.95      0.81      0.87       867\n",
      "           1       0.69      0.91      0.78       402\n",
      "\n",
      "    accuracy                           0.84      1269\n",
      "   macro avg       0.82      0.86      0.83      1269\n",
      "weighted avg       0.87      0.84      0.84      1269\n",
      "\n",
      "Confusion Matrix:\n",
      " [[701 166]\n",
      " [ 38 364]]\n"
     ]
    }
   ],
   "source": [
    "#Criterion\n",
    "criterion = [\"gini\", \"entropy\"]\n",
    "\n",
    "# Number of features to consider at every split\n",
    "max_features = ['sqrt','log2']\n",
    "\n",
    "# Maximum number of levels in tree\n",
    "max_depth = [15, 20]\n",
    "\n",
    "# Minimum number of samples required to split a node\n",
    "min_samples_split = [9, 14]\n",
    "\n",
    "# Minimum number of samples required at each leaf node\n",
    "min_samples_leaf = [4, 6]\n",
    "\n",
    "# Create the random grid\n",
    "rf_param_grid = {'max_features': max_features,\n",
    "               'max_depth': max_depth,\n",
    "               'min_samples_split': min_samples_split,\n",
    "               'min_samples_leaf': min_samples_leaf,\n",
    "              'criterion':['entropy','gini']}\n",
    "\n",
    "rf_clf = RandomForestClassifier(random_state = 42)\n",
    "\n",
    "rf_grid_recall = GridSearchCV(rf_clf, rf_param_grid, scoring='recall', cv=5,  n_jobs=-1)\n",
    "\n",
    "rf_grid_recall.fit(X_train_resampled, y_train_resampled)\n",
    "\n",
    "# Get the best parameters from the grid search\n",
    "best_params_rf_recall = rf_grid_recall.best_params_\n",
    "print(\"Best Hyperparameters:\", best_params_rf_recall)\n",
    "\n",
    "# Get the best model from the random search\n",
    "best_model_rf_recall = rf_grid_recall.best_estimator_\n",
    "\n",
    "# Make predictions on the test set\n",
    "y_pred_rf_recall = best_model_rf_recall.predict(X_test)\n",
    "\n",
    "# Now we want to measure this model’s key metrics on the whole training set using Scikit-Learn’s metrics functions:\n",
    "print(\"Accuracy:\", accuracy_score(y_test, y_pred_rf_recall))\n",
    "print(\"Classification Report:\\n\", classification_report(y_test, y_pred_rf_recall))\n",
    "print(\"Confusion Matrix:\\n\", confusion_matrix(y_test, y_pred_rf_recall))"
   ]
  },
  {
   "cell_type": "code",
   "execution_count": 367,
   "id": "c6222ceb",
   "metadata": {},
   "outputs": [
    {
     "name": "stdout",
     "output_type": "stream",
     "text": [
      "Best Hyperparameters: {'criterion': 'entropy', 'max_depth': 30, 'max_features': 'sqrt', 'min_samples_leaf': 4, 'min_samples_split': 9}\n",
      "Accuracy: 0.8376674546887313\n",
      "Classification Report:\n",
      "               precision    recall  f1-score   support\n",
      "\n",
      "           0       0.95      0.81      0.87       867\n",
      "           1       0.69      0.90      0.78       402\n",
      "\n",
      "    accuracy                           0.84      1269\n",
      "   macro avg       0.82      0.85      0.83      1269\n",
      "weighted avg       0.86      0.84      0.84      1269\n",
      "\n",
      "Confusion Matrix:\n",
      " [[701 166]\n",
      " [ 40 362]]\n"
     ]
    }
   ],
   "source": [
    "#Criterion\n",
    "criterion = [\"gini\", \"entropy\"]\n",
    "\n",
    "# Number of features to consider at every split\n",
    "max_features = ['sqrt','log2']\n",
    "\n",
    "# Maximum number of levels in tree\n",
    "max_depth = [25, 30]\n",
    "\n",
    "# Minimum number of samples required to split a node\n",
    "min_samples_split = [9, 14]\n",
    "\n",
    "# Minimum number of samples required at each leaf node\n",
    "min_samples_leaf = [4, 6]\n",
    "\n",
    "# Create the random grid\n",
    "rf_param_grid = {'max_features': max_features,\n",
    "               'max_depth': max_depth,\n",
    "               'min_samples_split': min_samples_split,\n",
    "               'min_samples_leaf': min_samples_leaf,\n",
    "               'criterion': criterion}\n",
    "\n",
    "rf_clf = RandomForestClassifier(random_state = 42)\n",
    "\n",
    "rf_grid = GridSearchCV(rf_clf, rf_param_grid, scoring='roc_auc', cv=5,  n_jobs=-1)\n",
    "\n",
    "rf_grid.fit(X_train_resampled, y_train_resampled)\n",
    "\n",
    "# Get the best parameters from the grid search\n",
    "best_params_rf_roc = rf_grid_recall.best_params_\n",
    "print(\"Best Hyperparameters:\", best_params_rf_roc)\n",
    "\n",
    "# Get the best model from the random search\n",
    "best_model_rf_roc = rf_grid.best_estimator_\n",
    "\n",
    "# Make predictions on the test set\n",
    "y_pred_rf_roc = best_model_rf_roc.predict(X_test)\n",
    "\n",
    "# Now we want to measure this model’s key metrics on the whole training set using Scikit-Learn’s metrics functions:\n",
    "print(\"Accuracy:\", accuracy_score(y_test, y_pred_rf_roc))\n",
    "print(\"Classification Report:\\n\", classification_report(y_test, y_pred_rf_roc))\n",
    "print(\"Confusion Matrix:\\n\", confusion_matrix(y_test, y_pred_rf_roc))"
   ]
  },
  {
   "cell_type": "markdown",
   "id": "b5fcaf65",
   "metadata": {},
   "source": [
    "## Plotting ROC curve and calculating AUC for best models"
   ]
  },
  {
   "cell_type": "code",
   "execution_count": 370,
   "id": "f0734972",
   "metadata": {},
   "outputs": [],
   "source": [
    "# Log Regression\n",
    "# Predict probabilities for the positive HIV cases\n",
    "\n",
    "y_prob_log = log_clf_best_roc_auc.predict_proba(X_test)[:,1]\n",
    "\n",
    "# Compute ROC curve and AUC\n",
    "\n",
    "fpr_log, tpr_log, thresholds_log = roc_curve(y_test, y_prob_log)\n",
    "roc_auc_log = auc(fpr_log, tpr_log)\n",
    "\n",
    "# Decision Tree\n",
    "# Predict probabilities for the positive HIV cases\n",
    "\n",
    "y_prob_dt = dt_clf_roc.predict_proba(X_test)[:,1]\n",
    "\n",
    "# Compute ROC curve and AUC\n",
    "\n",
    "fpr_dt, tpr_dt, thresholds_dt = roc_curve(y_test, y_prob_dt)\n",
    "roc_auc_dt = auc(fpr_dt, tpr_dt)\n",
    "\n",
    "# Random Fores\n",
    "# Predict probabilities for the positive HIV cases\n",
    "\n",
    "y_prob_rf = best_model_rf_roc.predict_proba(X_test)[:,1]\n",
    "\n",
    "# Compute ROC curve and AUC\n",
    "\n",
    "fpr_rf, tpr_rf, thresholds_rf = roc_curve(y_test, y_prob_rf)\n",
    "roc_auc_rf = auc(fpr_rf, tpr_rf)"
   ]
  },
  {
   "cell_type": "code",
   "execution_count": 374,
   "id": "086e0395",
   "metadata": {},
   "outputs": [
    {
     "data": {
      "image/png": "[encoded data removed]",
      "text/plain": [
       "<Figure size 800x800 with 1 Axes>"
      ]
     },
     "metadata": {},
     "output_type": "display_data"
    }
   ],
   "source": [
    "# Plot ROC curve\n",
    "plt.figure(figsize=(8, 8))\n",
    "plt.plot(fpr_log, tpr_log, color='darkorange', lw=2, label='ROC curve for LR(area = {:.2f})'.format(roc_auc_log))\n",
    "plt.plot(fpr_dt, tpr_dt, color='red', lw=2, label='ROC curve for DT(area = {:.2f})'.format(roc_auc_dt))\n",
    "plt.plot(fpr_rf, tpr_rf, color='pink', lw=2, label='ROC curve for RF(area = {:.2f})'.format(roc_auc_rf))\n",
    "plt.plot([0, 1], [0, 1], color='navy', lw=2, linestyle='--', label='Random')\n",
    "plt.xlabel('False Positive Rate (FPR)')\n",
    "plt.ylabel('True Positive Rate (TPR)')\n",
    "plt.title('ROC Curves for Logistic Regression, Decision Tree and RF')\n",
    "plt.legend(loc='lower right')\n",
    "plt.show()"
   ]
  },
  {
   "cell_type": "markdown",
   "id": "5a232e2e",
   "metadata": {},
   "source": [
    "Based on the above ROC curves of three different models, Random Forest zClassifier is the most robust."
   ]
  },
  {
   "cell_type": "code",
   "execution_count": 381,
   "id": "8d870158",
   "metadata": {},
   "outputs": [],
   "source": [
    "# Log Regression\n",
    "# Predict probabilities for the positive HIV cases\n",
    "\n",
    "y_prob_log = log_clf_recall.predict_proba(X_test)[:,1]\n",
    "\n",
    "# Compute ROC curve and AUC\n",
    "\n",
    "fpr_log, tpr_log, thresholds_log = roc_curve(y_test, y_prob_log)\n",
    "roc_auc_log = auc(fpr_log, tpr_log)\n",
    "\n",
    "# Decision Tree\n",
    "# Predict probabilities for the positive HIV cases\n",
    "\n",
    "y_prob_dt = dt_clf_recall.predict_proba(X_test)[:,1]\n",
    "\n",
    "# Compute ROC curve and AUC\n",
    "\n",
    "fpr_dt, tpr_dt, thresholds_dt = roc_curve(y_test, y_prob_dt)\n",
    "roc_auc_dt = auc(fpr_dt, tpr_dt)\n",
    "\n",
    "# Random Fores\n",
    "# Predict probabilities for the positive HIV cases\n",
    "\n",
    "y_prob_rf = best_model_rf_recall.predict_proba(X_test)[:,1]\n",
    "\n",
    "# Compute ROC curve and AUC\n",
    "\n",
    "fpr_rf, tpr_rf, thresholds_rf = roc_curve(y_test, y_prob_rf)\n",
    "roc_auc_rf = auc(fpr_rf, tpr_rf)"
   ]
  },
  {
   "cell_type": "code",
   "execution_count": 382,
   "id": "e94796fd",
   "metadata": {},
   "outputs": [
    {
     "data": {
      "image/png": "[encoded data removed]",
      "text/plain": [
       "<Figure size 800x800 with 1 Axes>"
      ]
     },
     "metadata": {},
     "output_type": "display_data"
    }
   ],
   "source": [
    "# Plot ROC curve\n",
    "plt.figure(figsize=(8, 8))\n",
    "plt.plot(fpr_log, tpr_log, color='darkorange', lw=2, label='ROC curve for LR(area = {:.2f})'.format(roc_auc_log))\n",
    "plt.plot(fpr_dt, tpr_dt, color='red', lw=2, label='ROC curve for DT(area = {:.2f})'.format(roc_auc_dt))\n",
    "plt.plot(fpr_rf, tpr_rf, color='pink', lw=2, label='ROC curve for RF(area = {:.2f})'.format(roc_auc_rf))\n",
    "plt.plot([0, 1], [0, 1], color='navy', lw=2, linestyle='--', label='Random')\n",
    "plt.xlabel('False Positive Rate (FPR)')\n",
    "plt.ylabel('True Positive Rate (TPR)')\n",
    "plt.title('ROC Curves for Logistic Regression, Decision Tree and RF')\n",
    "plt.legend(loc='lower right')\n",
    "plt.show()"
   ]
  },
  {
   "cell_type": "code",
   "execution_count": 400,
   "id": "725d6622",
   "metadata": {},
   "outputs": [
    {
     "name": "stdout",
     "output_type": "stream",
     "text": [
      "Feature ranking:\n",
      "1. drug_use: 0.18817253689842037\n",
      "2. occupation_unemployed: 0.17177197197771005\n",
      "3. occupation_sex worker: 0.0738747306438175\n",
      "4. educational_level_college or above: 0.06907246583306428\n",
      "5. partner_count: 0.05651813599744131\n",
      "6. occupation_other: 0.05428285555433414\n",
      "7. commercial_sex_last_year: 0.05173983326662748\n",
      "8. educational_level_middle school: 0.04185607156981479\n",
      "9. educational_level_high school or lyceum: 0.03184533446199263\n",
      "10. age_4(41-48): 0.026087419727732077\n",
      "11. condom_use_last_month_other: 0.02351310015962043\n",
      "12. sex_last_month: 0.01820321093652484\n",
      "13. age_3(29-40): 0.014385307111092769\n",
      "14. awareness_of_hiv: 0.013406126283606499\n",
      "15. gender: 0.013081119804792105\n",
      "16. hiv_test_last_year: 0.012697309574005071\n",
      "17. age_2(18-28): 0.012335712808901406\n",
      "18. std_last_year: 0.012082795674725129\n",
      "19. marital_status_married: 0.011199963875654813\n",
      "20. educational_level_primary school: 0.010853440734280309\n",
      "21. marital_status_divorced or widowed: 0.010256754384181563\n",
      "22. condom_use_last_month_yes: 0.010104312717002017\n",
      "23. location_Tashkent city: 0.00762479268373268\n",
      "24. location_Syrdarya region: 0.006759812993975715\n",
      "25. location_Tashkent region: 0.006524182750949606\n",
      "26. location_Khorezm region: 0.006186451917177886\n",
      "27. marital_status_unmarried: 0.005682238925741089\n",
      "28. location_Namangan region: 0.005657637667978341\n",
      "29. location_Ferghana region: 0.00548657033673473\n",
      "30. location_Surkhandarya region: 0.004993526163872256\n",
      "31. location_Samarkand region: 0.00497579712075917\n",
      "32. location_Bukhara region: 0.004462060689629583\n",
      "33. location_Republic of Karakalpakstan: 0.0042797257381353\n",
      "34. location_Jizzakh region: 0.003823045331922112\n",
      "35. location_Kashkadarya region: 0.0032814622378050957\n",
      "36. location_Navoi region: 0.002876607298001618\n",
      "37. age_6(56-65): 2.760535994435189e-05\n",
      "38. age_5(49-55): 1.7972788298942114e-05\n",
      "39. age_7(>66): 0.0\n"
     ]
    },
    {
     "data": {
      "image/png": "[encoded data removed]",
      "text/plain": [
       "<Figure size 1000x600 with 1 Axes>"
      ]
     },
     "metadata": {},
     "output_type": "display_data"
    }
   ],
   "source": [
    "# Get feature importances\n",
    "feature_importance = best_model_rf_recall.feature_importances_\n",
    "\n",
    "# Get feature names\n",
    "feature_names = [f\"{i}\" for i in X_test.columns.to_list()]\n",
    "\n",
    "# Sort feature importances in descending order\n",
    "sorted_idx = feature_importance.argsort()[::-1]\n",
    "\n",
    "# Print the feature ranking\n",
    "print(\"Feature ranking:\")\n",
    "for i in range(X_test.shape[1]):\n",
    "    print(f\"{i + 1}. {feature_names[sorted_idx[i]]}: {feature_importance[sorted_idx[i]]}\")\n",
    "    \n",
    "# Plot the feature importances\n",
    "plt.figure(figsize=(10, 6))\n",
    "plt.bar(range(X_test.shape[1]), feature_importance[sorted_idx], align=\"center\")\n",
    "plt.xticks(range(X_test.shape[1]), [feature_names[i] for i in sorted_idx], rotation=90)\n",
    "plt.xlabel(\"Feature\")\n",
    "plt.ylabel(\"Importance\")\n",
    "plt.title(\"Feature Importance\")\n",
    "plt.show()"
   ]
  },
  {
   "cell_type": "markdown",
   "id": "cf52080b",
   "metadata": {},
   "source": [
    "The model based on optimizing recall for Random Forests is the most robust. Hence we dump it for Flask deployment."
   ]
  },
  {
   "cell_type": "code",
   "execution_count": 436,
   "id": "af7cac1f",
   "metadata": {},
   "outputs": [],
   "source": [
    "import pickle\n",
    "with open('model.pkl', 'wb') as files:\n",
    "    pickle.dump(best_model_rf_recall, files)"
   ]
  }
 ],
 "metadata": {
  "kernelspec": {
   "display_name": "Python 3 (ipykernel)",
   "language": "python",
   "name": "python3"
  },
  "language_info": {
   "codemirror_mode": {
    "name": "ipython",
    "version": 3
   },
   "file_extension": ".py",
   "mimetype": "text/x-python",
   "name": "python",
   "nbconvert_exporter": "python",
   "pygments_lexer": "ipython3",
   "version": "3.9.13"
  }
 },
 "nbformat": 4,
 "nbformat_minor": 5
}
